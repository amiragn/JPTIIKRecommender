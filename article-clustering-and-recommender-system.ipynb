{
 "cells": [
  {
   "cell_type": "markdown",
   "id": "5c1b5106",
   "metadata": {
    "id": "T03s97YTBKxe",
    "papermill": {
     "duration": 0.027,
     "end_time": "2023-01-31T11:53:36.052341",
     "exception": false,
     "start_time": "2023-01-31T11:53:36.025341",
     "status": "completed"
    },
    "tags": []
   },
   "source": [
    "# **Article Clustering + Recommender System**\n",
    "## **Free Pass Data Science Basic Computing Community (BCC) 2023**\n",
    "### Oleh Amira Ghina Nurfansepta (215150201111026)\n",
    "Proyek ini berisi:\n",
    "* Data Understanding\n",
    "* Data Preprocessing\n",
    "* Exploratory Data Analysis\n",
    "* Clustering\n",
    "* Article Recommendations With K-Nearest Neighbor and Cosine Similarity\n",
    "* Article Recommendations With Content Based\n",
    "* Deployment\n",
    "* Result + Conclusion\n",
    "\n"
   ]
  },
  {
   "cell_type": "markdown",
   "id": "ec4470b7",
   "metadata": {
    "id": "CF_xkyXY1xRy",
    "papermill": {
     "duration": 0.023289,
     "end_time": "2023-01-31T11:53:36.099807",
     "exception": false,
     "start_time": "2023-01-31T11:53:36.076518",
     "status": "completed"
    },
    "tags": []
   },
   "source": [
    "# 1. Data Understanding\n",
    "Data Understanding merupakan tahap awal dari proses Data Science. Tujuan dari tahap ini adalah mengumpulkan informasi tentang data yang akan dianalisis. Pada tahap ini, data akan dideskripsikan, dilakukan statistika deskriptif, dan diuji kualitasnya untuk eksplorasi data sehingga dapat mengungkapkan pola dan hubungan yang menarik. "
   ]
  },
  {
   "cell_type": "markdown",
   "id": "c76cbe92",
   "metadata": {
    "id": "TwYzouCvxvwf",
    "papermill": {
     "duration": 0.023887,
     "end_time": "2023-01-31T11:53:36.147515",
     "exception": false,
     "start_time": "2023-01-31T11:53:36.123628",
     "status": "completed"
    },
    "tags": []
   },
   "source": [
    "## Import Library\n",
    "Library yang digunakan berguna untuk banyak hal, seperti untuk memanipulasi data, mengabaikan peringatan (agar mempercepat proses run), visualisasi, clustering, dan recommendation."
   ]
  },
  {
   "cell_type": "code",
   "execution_count": 1,
   "id": "8824b30e",
   "metadata": {
    "execution": {
     "iopub.execute_input": "2023-01-31T11:53:36.201450Z",
     "iopub.status.busy": "2023-01-31T11:53:36.200407Z",
     "iopub.status.idle": "2023-01-31T11:53:38.208632Z",
     "shell.execute_reply": "2023-01-31T11:53:38.207252Z"
    },
    "id": "9IPxngKAxl9t",
    "outputId": "d9d7588b-5130-4ae2-c468-eb5ea0a0ffc5",
    "papermill": {
     "duration": 2.040308,
     "end_time": "2023-01-31T11:53:38.211821",
     "exception": false,
     "start_time": "2023-01-31T11:53:36.171513",
     "status": "completed"
    },
    "tags": []
   },
   "outputs": [],
   "source": [
    "#library umum\n",
    "import numpy as np\n",
    "import pandas as pd\n",
    "\n",
    "#ignore warning\n",
    "import warnings\n",
    "warnings.filterwarnings(\"ignore\")\n",
    "\n",
    "#library visualisasi\n",
    "import matplotlib.pyplot as plt\n",
    "import matplotlib.cm as cm\n",
    "import missingno as msno\n",
    "from wordcloud import WordCloud\n",
    "\n",
    "#library clustering\n",
    "import nltk\n",
    "from nltk.corpus import stopwords\n",
    "from sklearn.feature_extraction.text import TfidfVectorizer\n",
    "from sklearn.cluster import MiniBatchKMeans\n",
    "from sklearn.metrics import silhouette_score\n",
    "from sklearn.decomposition import PCA\n",
    "from sklearn.manifold import TSNE\n",
    "from sklearn.metrics.pairwise import linear_kernel\n",
    "\n",
    "#library recommendation\n",
    "from sklearn.preprocessing import MinMaxScaler\n",
    "from sklearn.neighbors import NearestNeighbors\n",
    "from sklearn.metrics.pairwise import cosine_similarity\n",
    "from nltk.tokenize import word_tokenize\n",
    "from string import punctuation\n",
    "import string"
   ]
  },
  {
   "cell_type": "markdown",
   "id": "49d7e5c5",
   "metadata": {
    "id": "LWrpRFUhx3e_",
    "papermill": {
     "duration": 0.023608,
     "end_time": "2023-01-31T11:53:38.259893",
     "exception": false,
     "start_time": "2023-01-31T11:53:38.236285",
     "status": "completed"
    },
    "tags": []
   },
   "source": [
    "## Import Dataset\n",
    "Data yang digunakan dalam proyek ini adalah Dataset Freepass DS 2023.csv dari BCC. Data ini akan diproses dengan metode unsupervised learning karena data yang digunakan tidak diklasifikasi atau diberi label."
   ]
  },
  {
   "cell_type": "code",
   "execution_count": 2,
   "id": "1db47b2b",
   "metadata": {
    "execution": {
     "iopub.execute_input": "2023-01-31T11:53:38.310453Z",
     "iopub.status.busy": "2023-01-31T11:53:38.310004Z",
     "iopub.status.idle": "2023-01-31T11:53:38.700002Z",
     "shell.execute_reply": "2023-01-31T11:53:38.698829Z"
    },
    "id": "nsZgx5dbImvz",
    "outputId": "1f7b5e0e-cb77-4334-970b-128648df6ab1",
    "papermill": {
     "duration": 0.417741,
     "end_time": "2023-01-31T11:53:38.702347",
     "exception": false,
     "start_time": "2023-01-31T11:53:38.284606",
     "status": "completed"
    },
    "tags": []
   },
   "outputs": [
    {
     "data": {
      "text/html": [
       "<div>\n",
       "<style scoped>\n",
       "    .dataframe tbody tr th:only-of-type {\n",
       "        vertical-align: middle;\n",
       "    }\n",
       "\n",
       "    .dataframe tbody tr th {\n",
       "        vertical-align: top;\n",
       "    }\n",
       "\n",
       "    .dataframe thead th {\n",
       "        text-align: right;\n",
       "    }\n",
       "</style>\n",
       "<table border=\"1\" class=\"dataframe\">\n",
       "  <thead>\n",
       "    <tr style=\"text-align: right;\">\n",
       "      <th></th>\n",
       "      <th>title</th>\n",
       "      <th>link</th>\n",
       "      <th>date</th>\n",
       "      <th>author</th>\n",
       "      <th>abstract</th>\n",
       "    </tr>\n",
       "  </thead>\n",
       "  <tbody>\n",
       "    <tr>\n",
       "      <th>0</th>\n",
       "      <td>Interactive Mixed Reality System Menggunakan ...</td>\n",
       "      <td>https://j-ptiik.ub.ac.id/index.php/j-ptiik/art...</td>\n",
       "      <td>DiterbitkanJan  3, 2017</td>\n",
       "      <td>\\nAristyo Pramana\\n\\nFakultas Ilmu Komputer, U...</td>\n",
       "      <td>Teknologi mixed reality akan membuat interaksi...</td>\n",
       "    </tr>\n",
       "    <tr>\n",
       "      <th>1</th>\n",
       "      <td>Optimasi Penjadwalan Mata Pelajaran Menggunak...</td>\n",
       "      <td>https://j-ptiik.ub.ac.id/index.php/j-ptiik/art...</td>\n",
       "      <td>DiterbitkanJan  3, 2017</td>\n",
       "      <td>\\nOlive Khoirul L.M.A.\\n\\nTeknik Informatika, ...</td>\n",
       "      <td>Penjadwalan merupakan salah satu proses pentin...</td>\n",
       "    </tr>\n",
       "    <tr>\n",
       "      <th>2</th>\n",
       "      <td>Pengembangan Push Notification Menggunakan We...</td>\n",
       "      <td>https://j-ptiik.ub.ac.id/index.php/j-ptiik/art...</td>\n",
       "      <td>DiterbitkanJan  3, 2017</td>\n",
       "      <td>\\nAndrias Yudianto\\n\\nTeknik Informatika, Faku...</td>\n",
       "      <td>Untuk memenuhi kebutuhan masyarakat akan keter...</td>\n",
       "    </tr>\n",
       "    <tr>\n",
       "      <th>3</th>\n",
       "      <td>Pembangunan Sistem Informasi Manajemen Keluha...</td>\n",
       "      <td>https://j-ptiik.ub.ac.id/index.php/j-ptiik/art...</td>\n",
       "      <td>DiterbitkanJan  3, 2017</td>\n",
       "      <td>\\nAdzanil Rachmadi P\\n\\nSistem Informasi, Faku...</td>\n",
       "      <td>Perusahaan McDonald’s adalah perusahaan yang b...</td>\n",
       "    </tr>\n",
       "    <tr>\n",
       "      <th>4</th>\n",
       "      <td>Implementasi Metode Store and Forward Pada Hy...</td>\n",
       "      <td>https://j-ptiik.ub.ac.id/index.php/j-ptiik/art...</td>\n",
       "      <td>DiterbitkanJan  3, 2017</td>\n",
       "      <td>\\nMuhammad Gigih Wicaksono\\n\\nTeknik Informati...</td>\n",
       "      <td>Perkembangan internet saat ini sangat pesat. D...</td>\n",
       "    </tr>\n",
       "  </tbody>\n",
       "</table>\n",
       "</div>"
      ],
      "text/plain": [
       "                                               title  \\\n",
       "0   Interactive Mixed Reality System Menggunakan ...   \n",
       "1   Optimasi Penjadwalan Mata Pelajaran Menggunak...   \n",
       "2   Pengembangan Push Notification Menggunakan We...   \n",
       "3   Pembangunan Sistem Informasi Manajemen Keluha...   \n",
       "4   Implementasi Metode Store and Forward Pada Hy...   \n",
       "\n",
       "                                                link                     date  \\\n",
       "0  https://j-ptiik.ub.ac.id/index.php/j-ptiik/art...  DiterbitkanJan  3, 2017   \n",
       "1  https://j-ptiik.ub.ac.id/index.php/j-ptiik/art...  DiterbitkanJan  3, 2017   \n",
       "2  https://j-ptiik.ub.ac.id/index.php/j-ptiik/art...  DiterbitkanJan  3, 2017   \n",
       "3  https://j-ptiik.ub.ac.id/index.php/j-ptiik/art...  DiterbitkanJan  3, 2017   \n",
       "4  https://j-ptiik.ub.ac.id/index.php/j-ptiik/art...  DiterbitkanJan  3, 2017   \n",
       "\n",
       "                                              author  \\\n",
       "0  \\nAristyo Pramana\\n\\nFakultas Ilmu Komputer, U...   \n",
       "1  \\nOlive Khoirul L.M.A.\\n\\nTeknik Informatika, ...   \n",
       "2  \\nAndrias Yudianto\\n\\nTeknik Informatika, Faku...   \n",
       "3  \\nAdzanil Rachmadi P\\n\\nSistem Informasi, Faku...   \n",
       "4  \\nMuhammad Gigih Wicaksono\\n\\nTeknik Informati...   \n",
       "\n",
       "                                            abstract  \n",
       "0  Teknologi mixed reality akan membuat interaksi...  \n",
       "1  Penjadwalan merupakan salah satu proses pentin...  \n",
       "2  Untuk memenuhi kebutuhan masyarakat akan keter...  \n",
       "3  Perusahaan McDonald’s adalah perusahaan yang b...  \n",
       "4  Perkembangan internet saat ini sangat pesat. D...  "
      ]
     },
     "execution_count": 2,
     "metadata": {},
     "output_type": "execute_result"
    }
   ],
   "source": [
    "df = pd.read_csv('/kaggle/input/dataset-freepass-ds-2023/Dataset Freepass DS 2023.csv', sep=';')\n",
    "df.columns = ['title', 'link', 'date', 'author', 'abstract']\n",
    "df[['title', 'link', 'date', 'abstract']] = df[['title', 'link', 'date', 'abstract']].replace(['\\t','\\n','\\r'],'', regex=True)\n",
    "df['author'] = df['author'].replace(['\\t','\\r'],'', regex=True)\n",
    "\n",
    "df.head()"
   ]
  },
  {
   "cell_type": "markdown",
   "id": "821ec3b4",
   "metadata": {
    "id": "JaZel8piyAkp",
    "papermill": {
     "duration": 0.024238,
     "end_time": "2023-01-31T11:53:38.751620",
     "exception": false,
     "start_time": "2023-01-31T11:53:38.727382",
     "status": "completed"
    },
    "tags": []
   },
   "source": [
    "## Informasi Mengenai Dataframe\n",
    "Berbagai macam informasi, seperti jumlah baris dan kolom, stastika deskriptif, cek kolom dicari untuk memastikan kualitas data.\n"
   ]
  },
  {
   "cell_type": "markdown",
   "id": "14da5b4e",
   "metadata": {
    "id": "5FFnnjaTXpFP",
    "papermill": {
     "duration": 0.02456,
     "end_time": "2023-01-31T11:53:38.801187",
     "exception": false,
     "start_time": "2023-01-31T11:53:38.776627",
     "status": "completed"
    },
    "tags": []
   },
   "source": [
    "### Jumlah Baris dan Kolom Dataframe"
   ]
  },
  {
   "cell_type": "code",
   "execution_count": 3,
   "id": "2c72c041",
   "metadata": {
    "execution": {
     "iopub.execute_input": "2023-01-31T11:53:38.852426Z",
     "iopub.status.busy": "2023-01-31T11:53:38.851992Z",
     "iopub.status.idle": "2023-01-31T11:53:38.860196Z",
     "shell.execute_reply": "2023-01-31T11:53:38.858824Z"
    },
    "id": "bx9vgGg5H3hD",
    "outputId": "3707382d-a72a-4cbb-fdee-6592caa77691",
    "papermill": {
     "duration": 0.036264,
     "end_time": "2023-01-31T11:53:38.862426",
     "exception": false,
     "start_time": "2023-01-31T11:53:38.826162",
     "status": "completed"
    },
    "tags": []
   },
   "outputs": [
    {
     "data": {
      "text/plain": [
       "(3479, 5)"
      ]
     },
     "execution_count": 3,
     "metadata": {},
     "output_type": "execute_result"
    }
   ],
   "source": [
    "df.shape"
   ]
  },
  {
   "cell_type": "markdown",
   "id": "423a9e5d",
   "metadata": {
    "id": "G7LcB70vLlIO",
    "papermill": {
     "duration": 0.023942,
     "end_time": "2023-01-31T11:53:38.910929",
     "exception": false,
     "start_time": "2023-01-31T11:53:38.886987",
     "status": "completed"
    },
    "tags": []
   },
   "source": [
    "### Informasi Dataframe"
   ]
  },
  {
   "cell_type": "code",
   "execution_count": 4,
   "id": "d9cba992",
   "metadata": {
    "execution": {
     "iopub.execute_input": "2023-01-31T11:53:38.963039Z",
     "iopub.status.busy": "2023-01-31T11:53:38.962176Z",
     "iopub.status.idle": "2023-01-31T11:53:38.983208Z",
     "shell.execute_reply": "2023-01-31T11:53:38.981930Z"
    },
    "id": "1uCFRlWgPXAB",
    "outputId": "5c591875-652c-41f1-ad6e-60b4fff4da6e",
    "papermill": {
     "duration": 0.050496,
     "end_time": "2023-01-31T11:53:38.986098",
     "exception": false,
     "start_time": "2023-01-31T11:53:38.935602",
     "status": "completed"
    },
    "tags": []
   },
   "outputs": [
    {
     "name": "stdout",
     "output_type": "stream",
     "text": [
      "<class 'pandas.core.frame.DataFrame'>\n",
      "RangeIndex: 3479 entries, 0 to 3478\n",
      "Data columns (total 5 columns):\n",
      " #   Column    Non-Null Count  Dtype \n",
      "---  ------    --------------  ----- \n",
      " 0   title     3479 non-null   object\n",
      " 1   link      3479 non-null   object\n",
      " 2   date      3479 non-null   object\n",
      " 3   author    3479 non-null   object\n",
      " 4   abstract  3479 non-null   object\n",
      "dtypes: object(5)\n",
      "memory usage: 136.0+ KB\n"
     ]
    }
   ],
   "source": [
    "df.info()"
   ]
  },
  {
   "cell_type": "markdown",
   "id": "cb9f01f2",
   "metadata": {
    "id": "ybKRTrHcLpUJ",
    "papermill": {
     "duration": 0.028411,
     "end_time": "2023-01-31T11:53:39.041251",
     "exception": false,
     "start_time": "2023-01-31T11:53:39.012840",
     "status": "completed"
    },
    "tags": []
   },
   "source": [
    "### Statistika Deskriptif Dataframe"
   ]
  },
  {
   "cell_type": "code",
   "execution_count": 5,
   "id": "28d41186",
   "metadata": {
    "execution": {
     "iopub.execute_input": "2023-01-31T11:53:39.107475Z",
     "iopub.status.busy": "2023-01-31T11:53:39.107048Z",
     "iopub.status.idle": "2023-01-31T11:53:39.144225Z",
     "shell.execute_reply": "2023-01-31T11:53:39.143049Z"
    },
    "id": "1j7ZnOq2zyML",
    "outputId": "4ac57248-da50-4d09-f72f-9d0874ade45f",
    "papermill": {
     "duration": 0.078473,
     "end_time": "2023-01-31T11:53:39.147123",
     "exception": false,
     "start_time": "2023-01-31T11:53:39.068650",
     "status": "completed"
    },
    "tags": []
   },
   "outputs": [
    {
     "data": {
      "text/html": [
       "<div>\n",
       "<style scoped>\n",
       "    .dataframe tbody tr th:only-of-type {\n",
       "        vertical-align: middle;\n",
       "    }\n",
       "\n",
       "    .dataframe tbody tr th {\n",
       "        vertical-align: top;\n",
       "    }\n",
       "\n",
       "    .dataframe thead th {\n",
       "        text-align: right;\n",
       "    }\n",
       "</style>\n",
       "<table border=\"1\" class=\"dataframe\">\n",
       "  <thead>\n",
       "    <tr style=\"text-align: right;\">\n",
       "      <th></th>\n",
       "      <th>title</th>\n",
       "      <th>link</th>\n",
       "      <th>date</th>\n",
       "      <th>author</th>\n",
       "      <th>abstract</th>\n",
       "    </tr>\n",
       "  </thead>\n",
       "  <tbody>\n",
       "    <tr>\n",
       "      <th>count</th>\n",
       "      <td>3479</td>\n",
       "      <td>3479</td>\n",
       "      <td>3479</td>\n",
       "      <td>3479</td>\n",
       "      <td>3479</td>\n",
       "    </tr>\n",
       "    <tr>\n",
       "      <th>unique</th>\n",
       "      <td>3479</td>\n",
       "      <td>3479</td>\n",
       "      <td>582</td>\n",
       "      <td>3477</td>\n",
       "      <td>3412</td>\n",
       "    </tr>\n",
       "    <tr>\n",
       "      <th>top</th>\n",
       "      <td>Interactive Mixed Reality System Menggunakan ...</td>\n",
       "      <td>https://j-ptiik.ub.ac.id/index.php/j-ptiik/art...</td>\n",
       "      <td>DiterbitkanAgu 30, 2017</td>\n",
       "      <td>\\nAfrizal Aldiansyah Putra\\n\\nFakultas Ilmu Ko...</td>\n",
       "      <td>Untuk dipublikasikan di Jurnal Teknologi Infor...</td>\n",
       "    </tr>\n",
       "    <tr>\n",
       "      <th>freq</th>\n",
       "      <td>1</td>\n",
       "      <td>1</td>\n",
       "      <td>68</td>\n",
       "      <td>2</td>\n",
       "      <td>16</td>\n",
       "    </tr>\n",
       "  </tbody>\n",
       "</table>\n",
       "</div>"
      ],
      "text/plain": [
       "                                                    title  \\\n",
       "count                                                3479   \n",
       "unique                                               3479   \n",
       "top      Interactive Mixed Reality System Menggunakan ...   \n",
       "freq                                                    1   \n",
       "\n",
       "                                                     link  \\\n",
       "count                                                3479   \n",
       "unique                                               3479   \n",
       "top     https://j-ptiik.ub.ac.id/index.php/j-ptiik/art...   \n",
       "freq                                                    1   \n",
       "\n",
       "                           date  \\\n",
       "count                      3479   \n",
       "unique                      582   \n",
       "top     DiterbitkanAgu 30, 2017   \n",
       "freq                         68   \n",
       "\n",
       "                                                   author  \\\n",
       "count                                                3479   \n",
       "unique                                               3477   \n",
       "top     \\nAfrizal Aldiansyah Putra\\n\\nFakultas Ilmu Ko...   \n",
       "freq                                                    2   \n",
       "\n",
       "                                                 abstract  \n",
       "count                                                3479  \n",
       "unique                                               3412  \n",
       "top     Untuk dipublikasikan di Jurnal Teknologi Infor...  \n",
       "freq                                                   16  "
      ]
     },
     "execution_count": 5,
     "metadata": {},
     "output_type": "execute_result"
    }
   ],
   "source": [
    "df.describe()"
   ]
  },
  {
   "cell_type": "markdown",
   "id": "926a5c93",
   "metadata": {
    "id": "I3yougRfLugO",
    "papermill": {
     "duration": 0.0355,
     "end_time": "2023-01-31T11:53:39.215397",
     "exception": false,
     "start_time": "2023-01-31T11:53:39.179897",
     "status": "completed"
    },
    "tags": []
   },
   "source": [
    "### Cek Kolom Kosong"
   ]
  },
  {
   "cell_type": "code",
   "execution_count": 6,
   "id": "83fcaaed",
   "metadata": {
    "execution": {
     "iopub.execute_input": "2023-01-31T11:53:39.307353Z",
     "iopub.status.busy": "2023-01-31T11:53:39.306746Z",
     "iopub.status.idle": "2023-01-31T11:53:39.321628Z",
     "shell.execute_reply": "2023-01-31T11:53:39.320382Z"
    },
    "id": "UvZ0dPHTH7HK",
    "outputId": "1737dc47-c7a6-48f9-ebed-7ea086f0e11c",
    "papermill": {
     "duration": 0.061124,
     "end_time": "2023-01-31T11:53:39.324404",
     "exception": false,
     "start_time": "2023-01-31T11:53:39.263280",
     "status": "completed"
    },
    "tags": []
   },
   "outputs": [
    {
     "data": {
      "text/plain": [
       "title       0\n",
       "link        0\n",
       "date        0\n",
       "author      0\n",
       "abstract    0\n",
       "dtype: int64"
      ]
     },
     "execution_count": 6,
     "metadata": {},
     "output_type": "execute_result"
    }
   ],
   "source": [
    "df.isnull().sum()"
   ]
  },
  {
   "cell_type": "code",
   "execution_count": 7,
   "id": "801a4337",
   "metadata": {
    "execution": {
     "iopub.execute_input": "2023-01-31T11:53:39.383810Z",
     "iopub.status.busy": "2023-01-31T11:53:39.383279Z",
     "iopub.status.idle": "2023-01-31T11:53:39.932497Z",
     "shell.execute_reply": "2023-01-31T11:53:39.931293Z"
    },
    "id": "ju9AETvOaw9z",
    "outputId": "f3102e36-78dc-4f13-8f0b-f57dea2afa78",
    "papermill": {
     "duration": 0.579365,
     "end_time": "2023-01-31T11:53:39.935254",
     "exception": false,
     "start_time": "2023-01-31T11:53:39.355889",
     "status": "completed"
    },
    "tags": []
   },
   "outputs": [
    {
     "data": {
      "text/plain": [
       "Text(0.5, 1.0, 'Missing Values of Each Columns')"
      ]
     },
     "execution_count": 7,
     "metadata": {},
     "output_type": "execute_result"
    },
    {
     "data": {
      "image/png": "[encoded data removed]",
      "text/plain": [
       "<Figure size 1800x720 with 2 Axes>"
      ]
     },
     "metadata": {
      "needs_background": "light"
     },
     "output_type": "display_data"
    }
   ],
   "source": [
    "msno.matrix(df,color = (0, 0, 0.55))\n",
    "plt.title('Missing Values of Each Columns', fontsize=30, color='darkblue')"
   ]
  },
  {
   "cell_type": "markdown",
   "id": "bfdc651a",
   "metadata": {
    "id": "zF-X2zU9DYMC",
    "papermill": {
     "duration": 0.025878,
     "end_time": "2023-01-31T11:53:39.987690",
     "exception": false,
     "start_time": "2023-01-31T11:53:39.961812",
     "status": "completed"
    },
    "tags": []
   },
   "source": [
    "### Memeriksa Value Count dari Setiap Kolom"
   ]
  },
  {
   "cell_type": "code",
   "execution_count": 8,
   "id": "d55b1cda",
   "metadata": {
    "execution": {
     "iopub.execute_input": "2023-01-31T11:53:40.042214Z",
     "iopub.status.busy": "2023-01-31T11:53:40.041771Z",
     "iopub.status.idle": "2023-01-31T11:53:40.064977Z",
     "shell.execute_reply": "2023-01-31T11:53:40.063684Z"
    },
    "id": "UDIqcCf6DXre",
    "outputId": "a3749d5b-3785-40f7-cb42-cc365af829ef",
    "papermill": {
     "duration": 0.054268,
     "end_time": "2023-01-31T11:53:40.068361",
     "exception": false,
     "start_time": "2023-01-31T11:53:40.014093",
     "status": "completed"
    },
    "tags": []
   },
   "outputs": [
    {
     "name": "stdout",
     "output_type": "stream",
     "text": [
      " Interactive Mixed Reality System Menggunakan Pepper Ghost System dan Kendali Gerakan Tangan Berbasis Kinect                                                1\n",
      " Prediksi Pertumbuhan Jumlah Penduduk Kota Malang menggunakan Metode Average-based Fuzzy Time Series                                                        1\n",
      " Klasifikasi Ulasan Palsu menggunakan MDLText dengan Seleksi Fitur IG dan SMOTE                                                                             1\n",
      " Implementasi Monitoring Kualitas Udara Taman di Kota Malang menggunakan Low Power Mode pada Android berbasis Arduino Uno                                   1\n",
      " Sistem Pengukur Kesegaran Daging Sapi menggunakan Metode K-Nearest Neighbor (K-NN) dengan Fitur Penambahan Data Latih berbasis EEPROM                      1\n",
      "                                                                                                                                                           ..\n",
      " Implementasi Metode Time Invariant Fuzzy Time Series Untuk Memprediksi Jumlah Keberangkatan Penumpang Pelayaran Dalam Negeri Di Pelabuhan Tanjung Priok    1\n",
      " Analisis Sentimen Pada Ulasan Aplikasi BCA Mobile Menggunakan BM25 Dan Improved K-Nearest Neighbor                                                         1\n",
      " Penerapan Metode Fuzzy Tsukamoto untuk Menentukan Harga Sewa Hotel (Studi Kasus: Gili Amor Boutique Resort, Dusun Gili Trawangan, Nusa Tenggara Barat)     1\n",
      " Pencarian Berita Berbahasa Indonesia Menggunakan Metode BM25                                                                                               1\n",
      " Sistem Pemilihan Ikan Lele Siap Panen berbasis Mikrokontroler dengan Metode K-Nearest Neighbors                                                            1\n",
      "Name: title, Length: 3479, dtype: int64\n",
      "https://j-ptiik.ub.ac.id/index.php/j-ptiik/article/view/7        1\n",
      "https://j-ptiik.ub.ac.id/index.php/j-ptiik/article/view/7489     1\n",
      "https://j-ptiik.ub.ac.id/index.php/j-ptiik/article/view/7271     1\n",
      "https://j-ptiik.ub.ac.id/index.php/j-ptiik/article/view/7272     1\n",
      "https://j-ptiik.ub.ac.id/index.php/j-ptiik/article/view/7290     1\n",
      "                                                                ..\n",
      "https://j-ptiik.ub.ac.id/index.php/j-ptiik/article/view/4753     1\n",
      "https://j-ptiik.ub.ac.id/index.php/j-ptiik/article/view/4754     1\n",
      "https://j-ptiik.ub.ac.id/index.php/j-ptiik/article/view/4755     1\n",
      "https://j-ptiik.ub.ac.id/index.php/j-ptiik/article/view/4759     1\n",
      "https://j-ptiik.ub.ac.id/index.php/j-ptiik/article/view/11511    1\n",
      "Name: link, Length: 3479, dtype: int64\n",
      "DiterbitkanAgu 30, 2017    68\n",
      "DiterbitkanJan 17, 2020    58\n",
      "DiterbitkanPeb 12, 2018    54\n",
      "DiterbitkanAgu 14, 2019    40\n",
      "DiterbitkanAgu 15, 2019    40\n",
      "                           ..\n",
      "DiterbitkanDes 27, 2019     1\n",
      "DiterbitkanDes 17, 2019     1\n",
      "DiterbitkanDes  5, 2019     1\n",
      "DiterbitkanDes  4, 2019     1\n",
      "DiterbitkanAgu  7, 2019     1\n",
      "Name: date, Length: 582, dtype: int64\n",
      "\\nAfrizal Aldiansyah Putra\\n\\nFakultas Ilmu Komputer, Universitas Brawijaya\\n\\nAdmaja Dwi Herlambang\\n\\nFakultas Ilmu Komputer, Universitas Brawijaya\\n\\nFaizatul Amalia\\n\\nFakultas Ilmu Komputer, Universitas Brawijaya\\n\\n      2\n",
      "\\nFahmi Nur Fachrurozi\\n\\nFakultas Ilmu Komputer, Universitas Brawijaya\\n\\nSatrio Hadi Wijoyo\\n\\nFakultas Ilmu Komputer, Universitas Brawijaya\\n\\nWelly Purnomo\\n\\nFakultas Ilmu Komputer, Universitas Brawijaya\\n\\n               2\n",
      "\\nAristyo Pramana\\n\\nFakultas Ilmu Komputer, Universitas Brawijaya\\n\\nEriq Muh. Adams Jonemaro\\n\\nFakultas Ilmu Komputer, Universitas Brawijaya\\n\\nWibisono Sukmo Wardhono\\n\\nFakultas Ilmu Komputer, Universitas Brawijaya\\n\\n    1\n",
      "\\nHeri Setiawan\\n\\nFakultas Ilmu Komputer, Universitas Brawijaya\\n\\nRakhmadhany Primananda\\n\\nFakultas Ilmu Komputer, Universitas Brawijaya\\n\\nAgung Setia Budi\\n\\nFakultas Ilmu Komputer, Universitas Brawijaya\\n\\n               1\n",
      "\\nRizkey Wijayanto\\n\\nFakultas Ilmu Komputer, Universitas Brawijaya\\n\\nFajar Pradana\\n\\nFakultas Ilmu Komputer, Universitas Brawijaya\\n\\nFitra Abdurrachman Bachtiar\\n\\nFakultas Ilmu Komputer, Universitas Brawijaya\\n\\n          1\n",
      "                                                                                                                                                                                                                                  ..\n",
      "\\nI Ketut Sidharta Yogatama\\n\\nFakultas Ilmu Komputer, Universitas Brawijaya\\n\\nAgi Putra Kharisma\\n\\nFakultas Ilmu Komputer, Universitas Brawijaya\\n\\nLutfi Fanani\\n\\nFakultas Ilmu Komputer, Universitas Brawijaya\\n\\n           1\n",
      "\\nDwi Damara Kartikasari\\n\\nFakultas Ilmu Komputer, Universitas Brawijaya\\n\\nBudi Darma Setiawan\\n\\nFakultas Ilmu Komputer, Universitas Brawijaya\\n\\nMochammad Ali Fauzi\\n\\nFakultas Ilmu Komputer, Universitas Brawijaya\\n\\n      1\n",
      "\\nIndriya Dewi Onantya\\n\\nFakultas Ilmu Komputer, Universitas Brawijaya\\n\\nIndriati Indriati\\n\\nFakultas Ilmu Komputer, Universitas Brawijaya\\n\\nPutra Pandu Adikara\\n\\nFakultas Ilmu Komputer, Universitas Brawijaya\\n\\n          1\n",
      "\\nRudito Pujiarso Nugroho\\n\\nFakultas Ilmu Komputer, Universitas Brawijaya\\n\\nBudi Darma Setiawan\\n\\nFakultas Ilmu Komputer, Universitas Brawijaya\\n\\nM. Tanzil Furqon\\n\\nFakultas Ilmu Komputer, Universitas Brawijaya\\n\\n        1\n",
      "\\nWisik Dewa Maulana\\n\\nFakultas Ilmu Komputer, Universitas Brawijaya\\n\\nDahnial Syauqy\\n\\nFakultas Ilmu Komputer, Universitas Brawijaya\\n\\nFitri Utaminingrum\\n\\nFakultas Ilmu Komputer, Universitas Brawijaya\\n\\n                1\n",
      "Name: author, Length: 3477, dtype: int64\n",
      "Untuk dipublikasikan di Jurnal Teknologi Informasi dan Ilmu Komputer (JTIIK)                                                                                                                                                                                                                                                                                                                                                                                                                                                                                                                                                                                                                                                                                                                                                                                                                                                                                                                                                                                                                                                                                                                                                                                                                                                                                                                                                                                                                                                                                                                                                                                                                                                                               16\n",
      "Artikel dipublikasikan di JTIIK                                                                                                                                                                                                                                                                                                                                                                                                                                                                                                                                                                                                                                                                                                                                                                                                                                                                                                                                                                                                                                                                                                                                                                                                                                                                                                                                                                                                                                                                                                                                                                                                                                                                                                                             9\n",
      "Untuk dipublikasikan di Jurnal Teknologi Informasi dan Ilmu Komputer (JTIIK)                                                                                                                                                                                                                                                                                                                                                                                                                                                                                                                                                                                                                                                                                                                                                                                                                                                                                                                                                                                                                                                                                                                                                                                                                                                                                                                                                                                                                                                                                                                                                                                                                                                                                5\n",
      "Dipublikasikan di JUST-SI                                                                                                                                                                                                                                                                                                                                                                                                                                                                                                                                                                                                                                                                                                                                                                                                                                                                                                                                                                                                                                                                                                                                                                                                                                                                                                                                                                                                                                                                                                                                                                                                                                                                                                                                   4\n",
      "Dipublikasikan di SIET 2022                                                                                                                                                                                                                                                                                                                                                                                                                                                                                                                                                                                                                                                                                                                                                                                                                                                                                                                                                                                                                                                                                                                                                                                                                                                                                                                                                                                                                                                                                                                                                                                                                                                                                                                                 4\n",
      "                                                                                                                                                                                                                                                                                                                                                                                                                                                                                                                                                                                                                                                                                                                                                                                                                                                                                                                                                                                                                                                                                                                                                                                                                                                                                                                                                                                                                                                                                                                                                                                                                                                                                                                                                           ..\n",
      "Dengan adanya smartphone memungkinkan setiap orang untuk berkomunikasi baik verbal maupun non-verbal dengan sangat mudah dan dapat dilakukan kapan pun dan di mana pun. Namun, bagi penyandang tunanetra yang memiliki keterbatasan dalam konteks visual merasa sulit untuk mengoperasikan smartphone yang kebanyakan menggunakan teknologi layar sentuh dengan layar datar. Untuk mengatasi masalah yang dialami oleh penyandang tunanetra dalam berkomunikasi dengan menggunakan smartphone, maka melalui penelitian ini dilakukan sebuah pengembangan aplikasi komunikasi verbal dalam bentuk panggilan telepon/voice call yang juga mampu menangani manajemen kontak telepon seperti menambah, mengubah data kontak, dan menghapus kontak. Aplikasi ini juga dirancang secara khusus dengan menggunakan voice interaction yang memanfaatkan Google API, sehingga pengguna dapat melakukan kontrol terhadap aplikasi dengan hanya menggunakan suara dan umpan balik yang diterima juga dalam bentuk suara. Dalam perancangan aplikasi ini juga menggunakan pendekatan Human Centered Design (HCD), yang melibatkan calon pengguna dalam setiap proses perancangan sehingga hasil akhir dari aplikasi ini sudah memenuhi kebutuhan pengguna. Berdasarkan pengujian usability menggunakan System Usability Scale (SUS) yang memperoleh rata-rata nilai sebesar 86 yang menunjukkan kualitas aplikasi sudah berada pada rating “excelent” dan sudah dirasa mudah untuk digunakan oleh pengguna. Selain itu kualitas dari layanan voice interaction yang disediakan pada aplikasi juga sudah teruji memiliki kualitas yang baik (Good), yang ditunjukkan berdasarkan nilai rata-rata 4,2 yang diperoleh dari pengujian Mean Opinion Score (MOS) testing.     1\n",
      "Banyak foto makanan yang tersebar di media sosial namun terkadang kita lupa bahkan tidak mengetahui nama makanan tersebut. Kemampuan manusia untuk mengenali dan mengidentifikasi juga subjektif terhadap pengaruh eksternal, seperti kelelahan, prasangka dan sebagainya. Komputer dapat membantu dengan membuat sebuah sistem yang dapat mengenali dan mengidentifikasi makanan melalui gambar. Penelitian telah dilakukan bahwa proses identifikasi dan klasifikasi secara otomatis menggunakan komputer dapat menghemat waktu dibandingkan harus mengidentifikasi secara manual. Citra pada makanan memiliki warna dan tekstur yang berbeda-beda. Metode ekstraksi fitur warna yang digunakan pada penelitian ini adalah Color Histogram dan ekstraksi fitur tekstur menggunakan Gray Level Co-occurrence Matrix (GLCM). Algoritme klasifikasi yang digunakan adalah algoritme Learning Vector Quantization (LVQ), dengan parameter terbaik yang dapat digunakan yaitu nilai learning rate (α) sebesar 0,1, penurunan learning rate sebesar 0,1, maksimum epoch sebesar 2, nilai minimum learning rate sebesar 0,01 menghasilkan akurasi sebesar 53,33%. Pengujian yang dilakukan menggunakan ekstraksi fitur warna dan tekstur menghasilkan akurasi sebesar 53,33%. Penggunaan metode ekstraksi fitur warna saja menghasilkan akurasi tertinggi yaitu sebesar 67,00%, dan penggunaan metode ekstraksi fitur tekstur saja menghasilkan akurasi sebesar 53,33%. Berdasarkan hasil tersebut dapat disimpulkan bahwa algoritme LVQ berdasarkan ekstraksi fitur Color Histogram dan GLCM dapat digunakan untuk klasifikasi citra makanan namun tidak menghasilkan akurasi yang sempurna.                                                                    1\n",
      "Dwi Artha Indah merupakan perusahaan yang bergerak di bidang jasa penyewaan peralatan pesta. Pada proses operasional yang masih dijalankan secara manual, timbul permasalahan salah satunya ialah waktu pada proses pengecekan ketersediaan peralatan sering kali melebihi batas prosedur. Berdasarkan permasalahan tersebut dilakukan pengembangan sistem informasi guna mengoptimalkan proses bisnis perusahaan. Proses pengembangan dilakukan dengan menggunakan metode Rational Unified Process (RUP), yang dipilih karena bersifat dinamis dan iterative sehingga dapat menanggapi perubahan kebutuhan yang tidak terdefinisi dengan baik. Pada fase inception, analisis proses bisnis berfokus pada transaksi penyewaan, penjadwalan pengiriman/penjemputan peralatan, serta pelaporan perbaikan peralatan. Pada fase elaboration, didapatkan hasil analisis kebutuhan meliputi 22 kebutuhan fungsional serta 1 kebutuhan non-fungsional. Lalu fase construction, pengujian black-box dilakukan melalui 39 test case dengan kesimpulan sistem dapat berjalan dengan baik. Serta pengujian compatibility dengan hasil sistem dapat dijalankan pada 4 browser berbeda tanpa adanya kesalahan fatal. Fase terakhir ialah transition, dilakukan pengujian User Acceptance Test (UAT) kepada setiap aktor dengan hasil tingkat penerimaan pada aktor admin sebesar 88.88%, koordinator gudang sebesar 88%, dan pimpinan sebesar 90%. Dapat disimpulkan seluruh aktor sangat setuju dengan fungsionalitas sistem. Melalui pengembangan tersebut, dihasilkan sistem informasi yang dapat memfasilitasi pengelolaan transaksi penyewaan, penjadwalan pengiriman/penjemputan peralatan, dan pelaporan perbaikan peralatan.                                     1\n",
      "PLN (Persero) adalah perusahaan Badan Usaha Milik Negara yang bergerak pada bidang ketenagalistrikan. PT. PLN dibagi ke dalam beberapa unit, salah satunya unit Transmisi Jawa Bagian Timur dan Bali. Setiap unit transmisi terdapat basecamp yang didalamnya terdapat divisi pemeliharaan proteksi, meter dan otomasi. Divisi ini bertugas untuk melakukan pemeliharaan shutdown testing berdasarkan jenis relay proteksinya menggunakan alat uji relay proteksi. Hasil pengujian dicatat pada formulir pengujian, selanjutnya data tersebut dimasukkan ke Microsoft Excel. Setelah semua hasil pengujian lengkap, baru dibuat laporan, dicetak dan diperiksa oleh supervisor untuk mendapatkan persetujuan. Berdasarkan masalah tersebut, maka diperlukan alat bantu untuk membantu proses pencatatan dan pelaporan agar lebih efektif dan efisien berupa sistem informasi. Metode pengembangan sistem informasi yang digunakan adalah waterfall dengan tahapan analisis kebutuhan, perancangan, implementasi dan pengujian. Impementasi menghasilkan sistem informasi pencatatan pengujian relay proteksi berbasis web. Sistem ini memungkinkan petugas untuk melakukan penambahan data dan mencetak hasil pengujian, supervisor dapat melakukan verfikasi dan pihak yang bersangkutan dapat memeriksa secara langsung hasil pengujian. Selanjutnya hasil implementasi diuji dengan pengujian validasi yang menunjukkan hasil pengujian valid sesuai dengan persyaratan yang telah diidentifikasi, pengujian kompatibilitas peramban menunjukkan terdapat 17% error issues dan sistem dapat dijalankan pada beberapa peramban tanpa ditemukan kendala.                                                                                                   1\n",
      "Ikan lele merupakan salah satu jenis ikan yang sering di konsumsi oleh masyarakat, ikan lele juga merupakan salah satu ikan yang memiliki nilai ekonomis yang tinggi. Selain memiliki nilai finansial yang tinggi, lele juga merupakan ikan yang memiliki pertumbuhan yang cukup pesat. Biasanya lele yang berumur 3,5 - empat bulan sudah siap untuk dipanen, namun meskipun umur lele sudah memasuki masa panen, kini tidak lagi semua lele memiliki panjang yang sama satu sama lain. Ini semua karena sifat rakus lele dan ketidakseimbangan antara varietas lele dan skala kolam. Jadi petani lebih memilih untuk melakukan penyortiran panduan untuk memutuskan lele mana yang siap dipanen terutama berdasarkan berat dan panjangnya.Oleh sebab itu penelitian ini bertujuan untuk membantu para peternak ikan lele dalam memilah lele yang siap panen dengan bantuan dari sensor load cell untuk mengukur berat dan sensor ultrasonik untuk mengukur panjang. Kemudian kedua nilai tersebut akan diklasifikasikan menggunakan metode K-Nearest Neighbors dengan bantuan Arduino sebagai sistem utama untuk mengklasifikasikan dan juga servo sebagai output dari sistem ini. Penelitian ini melakukan pengujian sensor load cell dan ultrasonik sebagai input nilai panjang dan berat dengan menggunakan metode K-Nearest Neighbors sebagai klasifikfikasinya dan mendapatkan nilai akurasi sebesar 81,25% Dengan waktu komputasi 33 ms.                                                                                                                                                                                                                                                                                                            1\n",
      "Name: abstract, Length: 3412, dtype: int64\n"
     ]
    }
   ],
   "source": [
    "for column in df.columns:\n",
    "    print(df[column].value_counts())"
   ]
  },
  {
   "cell_type": "markdown",
   "id": "a49828f7",
   "metadata": {
    "id": "UxxNY-Bk2WQN",
    "papermill": {
     "duration": 0.029034,
     "end_time": "2023-01-31T11:53:40.125440",
     "exception": false,
     "start_time": "2023-01-31T11:53:40.096406",
     "status": "completed"
    },
    "tags": []
   },
   "source": [
    "## Insight\n",
    "Dari bagian Data Understanding, terdapat beberapa hal yang dapat diketahui:\n",
    "* Tidak ada kolom yang memiliki missing value\n",
    "* Semua nilai dari setiap kolom bertipe string (object)\n",
    "* Tipe data pada kolom date harus diubah ke datetime untuk memudahkan proses selanjutnya\n",
    "* Kolom author harus dipisah untuk memudahkan proses selanjutnya"
   ]
  },
  {
   "cell_type": "markdown",
   "id": "431e0228",
   "metadata": {
    "id": "qXRbHsbH2MhB",
    "papermill": {
     "duration": 0.025617,
     "end_time": "2023-01-31T11:53:40.176981",
     "exception": false,
     "start_time": "2023-01-31T11:53:40.151364",
     "status": "completed"
    },
    "tags": []
   },
   "source": [
    "# 2. Data Preprocessing\n",
    "Data preprocessing adalah tahap berikutnya dalam proses Data Science. Pada tahap ini, data akan diubah, data yang hilang diisi, data disederhanakan, data disamakan, dan lain sebagainya. Tujuan akhir dari tahap ini adalah untuk mengubah data menjadi sebuah bentuk yang dapat dianalisis dengan mudah."
   ]
  },
  {
   "cell_type": "markdown",
   "id": "6aa55c69",
   "metadata": {
    "id": "-nW3nT6gFV2x",
    "papermill": {
     "duration": 0.025768,
     "end_time": "2023-01-31T11:53:40.228888",
     "exception": false,
     "start_time": "2023-01-31T11:53:40.203120",
     "status": "completed"
    },
    "tags": []
   },
   "source": [
    "## Mengubah Kolom Date\n",
    "Tipe data yang awalnya String akan diubah menjadi Datetime"
   ]
  },
  {
   "cell_type": "code",
   "execution_count": 9,
   "id": "868851db",
   "metadata": {
    "execution": {
     "iopub.execute_input": "2023-01-31T11:53:40.283046Z",
     "iopub.status.busy": "2023-01-31T11:53:40.282588Z",
     "iopub.status.idle": "2023-01-31T11:53:40.338424Z",
     "shell.execute_reply": "2023-01-31T11:53:40.337369Z"
    },
    "id": "Dw7A4mc64Sov",
    "outputId": "59fa3e15-3daf-45ff-da76-df889a965343",
    "papermill": {
     "duration": 0.085814,
     "end_time": "2023-01-31T11:53:40.340653",
     "exception": false,
     "start_time": "2023-01-31T11:53:40.254839",
     "status": "completed"
    },
    "tags": []
   },
   "outputs": [
    {
     "data": {
      "text/html": [
       "<div>\n",
       "<style scoped>\n",
       "    .dataframe tbody tr th:only-of-type {\n",
       "        vertical-align: middle;\n",
       "    }\n",
       "\n",
       "    .dataframe tbody tr th {\n",
       "        vertical-align: top;\n",
       "    }\n",
       "\n",
       "    .dataframe thead th {\n",
       "        text-align: right;\n",
       "    }\n",
       "</style>\n",
       "<table border=\"1\" class=\"dataframe\">\n",
       "  <thead>\n",
       "    <tr style=\"text-align: right;\">\n",
       "      <th></th>\n",
       "      <th>title</th>\n",
       "      <th>link</th>\n",
       "      <th>date</th>\n",
       "      <th>author</th>\n",
       "      <th>abstract</th>\n",
       "    </tr>\n",
       "  </thead>\n",
       "  <tbody>\n",
       "    <tr>\n",
       "      <th>0</th>\n",
       "      <td>Interactive Mixed Reality System Menggunakan ...</td>\n",
       "      <td>https://j-ptiik.ub.ac.id/index.php/j-ptiik/art...</td>\n",
       "      <td>2017-01-03</td>\n",
       "      <td>\\nAristyo Pramana\\n\\nFakultas Ilmu Komputer, U...</td>\n",
       "      <td>Teknologi mixed reality akan membuat interaksi...</td>\n",
       "    </tr>\n",
       "    <tr>\n",
       "      <th>1</th>\n",
       "      <td>Optimasi Penjadwalan Mata Pelajaran Menggunak...</td>\n",
       "      <td>https://j-ptiik.ub.ac.id/index.php/j-ptiik/art...</td>\n",
       "      <td>2017-01-03</td>\n",
       "      <td>\\nOlive Khoirul L.M.A.\\n\\nTeknik Informatika, ...</td>\n",
       "      <td>Penjadwalan merupakan salah satu proses pentin...</td>\n",
       "    </tr>\n",
       "    <tr>\n",
       "      <th>2</th>\n",
       "      <td>Pengembangan Push Notification Menggunakan We...</td>\n",
       "      <td>https://j-ptiik.ub.ac.id/index.php/j-ptiik/art...</td>\n",
       "      <td>2017-01-03</td>\n",
       "      <td>\\nAndrias Yudianto\\n\\nTeknik Informatika, Faku...</td>\n",
       "      <td>Untuk memenuhi kebutuhan masyarakat akan keter...</td>\n",
       "    </tr>\n",
       "    <tr>\n",
       "      <th>3</th>\n",
       "      <td>Pembangunan Sistem Informasi Manajemen Keluha...</td>\n",
       "      <td>https://j-ptiik.ub.ac.id/index.php/j-ptiik/art...</td>\n",
       "      <td>2017-01-03</td>\n",
       "      <td>\\nAdzanil Rachmadi P\\n\\nSistem Informasi, Faku...</td>\n",
       "      <td>Perusahaan McDonald’s adalah perusahaan yang b...</td>\n",
       "    </tr>\n",
       "    <tr>\n",
       "      <th>4</th>\n",
       "      <td>Implementasi Metode Store and Forward Pada Hy...</td>\n",
       "      <td>https://j-ptiik.ub.ac.id/index.php/j-ptiik/art...</td>\n",
       "      <td>2017-01-03</td>\n",
       "      <td>\\nMuhammad Gigih Wicaksono\\n\\nTeknik Informati...</td>\n",
       "      <td>Perkembangan internet saat ini sangat pesat. D...</td>\n",
       "    </tr>\n",
       "  </tbody>\n",
       "</table>\n",
       "</div>"
      ],
      "text/plain": [
       "                                               title  \\\n",
       "0   Interactive Mixed Reality System Menggunakan ...   \n",
       "1   Optimasi Penjadwalan Mata Pelajaran Menggunak...   \n",
       "2   Pengembangan Push Notification Menggunakan We...   \n",
       "3   Pembangunan Sistem Informasi Manajemen Keluha...   \n",
       "4   Implementasi Metode Store and Forward Pada Hy...   \n",
       "\n",
       "                                                link       date  \\\n",
       "0  https://j-ptiik.ub.ac.id/index.php/j-ptiik/art... 2017-01-03   \n",
       "1  https://j-ptiik.ub.ac.id/index.php/j-ptiik/art... 2017-01-03   \n",
       "2  https://j-ptiik.ub.ac.id/index.php/j-ptiik/art... 2017-01-03   \n",
       "3  https://j-ptiik.ub.ac.id/index.php/j-ptiik/art... 2017-01-03   \n",
       "4  https://j-ptiik.ub.ac.id/index.php/j-ptiik/art... 2017-01-03   \n",
       "\n",
       "                                              author  \\\n",
       "0  \\nAristyo Pramana\\n\\nFakultas Ilmu Komputer, U...   \n",
       "1  \\nOlive Khoirul L.M.A.\\n\\nTeknik Informatika, ...   \n",
       "2  \\nAndrias Yudianto\\n\\nTeknik Informatika, Faku...   \n",
       "3  \\nAdzanil Rachmadi P\\n\\nSistem Informasi, Faku...   \n",
       "4  \\nMuhammad Gigih Wicaksono\\n\\nTeknik Informati...   \n",
       "\n",
       "                                            abstract  \n",
       "0  Teknologi mixed reality akan membuat interaksi...  \n",
       "1  Penjadwalan merupakan salah satu proses pentin...  \n",
       "2  Untuk memenuhi kebutuhan masyarakat akan keter...  \n",
       "3  Perusahaan McDonald’s adalah perusahaan yang b...  \n",
       "4  Perkembangan internet saat ini sangat pesat. D...  "
      ]
     },
     "execution_count": 9,
     "metadata": {},
     "output_type": "execute_result"
    }
   ],
   "source": [
    "df['date'] = df['date'].replace(['Diterbitkan', ' '],'', regex=True)\n",
    "\n",
    "df['date'] = df['date'].apply(lambda x: str(x) if len(x) == 10\n",
    "                              else str(x)[0:3] + '0' + str(x)[-6:])\n",
    "\n",
    "months_dict = {\n",
    "   \"Jan\":\"01\",\n",
    "   \"Peb\":\"02\",\n",
    "   \"Mar\":\"03\",\n",
    "   \"Apr\":\"04\",\n",
    "   \"Mei\":\"05\",\n",
    "   \"Jun\":\"06\",\n",
    "   \"Jul\":\"07\",\n",
    "   \"Agu\":\"08\",\n",
    "   \"Sep\":\"09\",\n",
    "   \"Okt\":\"10\",\n",
    "   \"Nov\":\"11\",\n",
    "   \"Des\":\"12\"\n",
    "}\n",
    "df['date'] = pd.to_datetime(df['date'].apply(lambda x: str(x)[-4:] + \"-\" + months_dict[str(x)[:3]] + \"-\" + str(x)[3:5]))\n",
    "\n",
    "df.head()"
   ]
  },
  {
   "cell_type": "code",
   "execution_count": 10,
   "id": "6520f138",
   "metadata": {
    "execution": {
     "iopub.execute_input": "2023-01-31T11:53:40.394978Z",
     "iopub.status.busy": "2023-01-31T11:53:40.394522Z",
     "iopub.status.idle": "2023-01-31T11:53:40.403768Z",
     "shell.execute_reply": "2023-01-31T11:53:40.402604Z"
    },
    "id": "ibK7uhXbQxCU",
    "outputId": "a401cd85-16ff-4c47-941f-b6c559018686",
    "papermill": {
     "duration": 0.039248,
     "end_time": "2023-01-31T11:53:40.406263",
     "exception": false,
     "start_time": "2023-01-31T11:53:40.367015",
     "status": "completed"
    },
    "tags": []
   },
   "outputs": [
    {
     "data": {
      "text/plain": [
       "title               object\n",
       "link                object\n",
       "date        datetime64[ns]\n",
       "author              object\n",
       "abstract            object\n",
       "dtype: object"
      ]
     },
     "execution_count": 10,
     "metadata": {},
     "output_type": "execute_result"
    }
   ],
   "source": [
    "df.dtypes"
   ]
  },
  {
   "cell_type": "markdown",
   "id": "d5d683fe",
   "metadata": {
    "id": "_7vg5OlWaj0j",
    "papermill": {
     "duration": 0.028064,
     "end_time": "2023-01-31T11:53:40.461932",
     "exception": false,
     "start_time": "2023-01-31T11:53:40.433868",
     "status": "completed"
    },
    "tags": []
   },
   "source": [
    "## Mengubah Kolom Author\n",
    "Kolom Author berisi 6 macam data, yaitu 3 penulis dan 3 institusi dari penulis tersebut."
   ]
  },
  {
   "cell_type": "markdown",
   "id": "12cb0b6a",
   "metadata": {
    "id": "8gMysjljXx5n",
    "papermill": {
     "duration": 0.026778,
     "end_time": "2023-01-31T11:53:40.516442",
     "exception": false,
     "start_time": "2023-01-31T11:53:40.489664",
     "status": "completed"
    },
    "tags": []
   },
   "source": [
    "### Membagi Menjadi Beberapa Kolom"
   ]
  },
  {
   "cell_type": "code",
   "execution_count": 11,
   "id": "b428fa83",
   "metadata": {
    "execution": {
     "iopub.execute_input": "2023-01-31T11:53:40.571569Z",
     "iopub.status.busy": "2023-01-31T11:53:40.570719Z",
     "iopub.status.idle": "2023-01-31T11:53:40.668583Z",
     "shell.execute_reply": "2023-01-31T11:53:40.667409Z"
    },
    "id": "kHPhIW6uamhb",
    "outputId": "cd34e115-25c5-4202-b8f6-3dfe18ab1509",
    "papermill": {
     "duration": 0.128162,
     "end_time": "2023-01-31T11:53:40.671222",
     "exception": false,
     "start_time": "2023-01-31T11:53:40.543060",
     "status": "completed"
    },
    "tags": []
   },
   "outputs": [
    {
     "data": {
      "text/html": [
       "<div>\n",
       "<style scoped>\n",
       "    .dataframe tbody tr th:only-of-type {\n",
       "        vertical-align: middle;\n",
       "    }\n",
       "\n",
       "    .dataframe tbody tr th {\n",
       "        vertical-align: top;\n",
       "    }\n",
       "\n",
       "    .dataframe thead th {\n",
       "        text-align: right;\n",
       "    }\n",
       "</style>\n",
       "<table border=\"1\" class=\"dataframe\">\n",
       "  <thead>\n",
       "    <tr style=\"text-align: right;\">\n",
       "      <th></th>\n",
       "      <th>title</th>\n",
       "      <th>link</th>\n",
       "      <th>date</th>\n",
       "      <th>abstract</th>\n",
       "      <th>author1</th>\n",
       "      <th>institution1</th>\n",
       "      <th>author2</th>\n",
       "      <th>institution2</th>\n",
       "      <th>author3</th>\n",
       "      <th>institution3</th>\n",
       "    </tr>\n",
       "  </thead>\n",
       "  <tbody>\n",
       "    <tr>\n",
       "      <th>0</th>\n",
       "      <td>Interactive Mixed Reality System Menggunakan ...</td>\n",
       "      <td>https://j-ptiik.ub.ac.id/index.php/j-ptiik/art...</td>\n",
       "      <td>2017-01-03</td>\n",
       "      <td>Teknologi mixed reality akan membuat interaksi...</td>\n",
       "      <td>Aristyo Pramana</td>\n",
       "      <td>Fakultas Ilmu Komputer, Universitas Brawijaya</td>\n",
       "      <td>Eriq Muh. Adams Jonemaro</td>\n",
       "      <td>Fakultas Ilmu Komputer, Universitas Brawijaya</td>\n",
       "      <td>Wibisono Sukmo Wardhono</td>\n",
       "      <td>Fakultas Ilmu Komputer, Universitas Brawijaya</td>\n",
       "    </tr>\n",
       "    <tr>\n",
       "      <th>1</th>\n",
       "      <td>Optimasi Penjadwalan Mata Pelajaran Menggunak...</td>\n",
       "      <td>https://j-ptiik.ub.ac.id/index.php/j-ptiik/art...</td>\n",
       "      <td>2017-01-03</td>\n",
       "      <td>Penjadwalan merupakan salah satu proses pentin...</td>\n",
       "      <td>Olive Khoirul L.M.A.</td>\n",
       "      <td>Teknik Informatika, Fakultas Ilmu Komputer, Un...</td>\n",
       "      <td>Agus Wahyu Widodo</td>\n",
       "      <td>Fakultas Ilmu Komputer, Universitas Brawijaya</td>\n",
       "      <td>Budi Darma Setiawan</td>\n",
       "      <td>Tidak diketahui</td>\n",
       "    </tr>\n",
       "    <tr>\n",
       "      <th>2</th>\n",
       "      <td>Pengembangan Push Notification Menggunakan We...</td>\n",
       "      <td>https://j-ptiik.ub.ac.id/index.php/j-ptiik/art...</td>\n",
       "      <td>2017-01-03</td>\n",
       "      <td>Untuk memenuhi kebutuhan masyarakat akan keter...</td>\n",
       "      <td>Andrias Yudianto</td>\n",
       "      <td>Teknik Informatika, Fakultas Ilmu Komputer, Un...</td>\n",
       "      <td>Eko Sakti Pramukantoro</td>\n",
       "      <td>Fakultas Ilmu Komputer, Universitas Brawijaya</td>\n",
       "      <td>Kasyful Amron</td>\n",
       "      <td>Fakultas Ilmu Komputer, Universitas Brawijaya</td>\n",
       "    </tr>\n",
       "    <tr>\n",
       "      <th>3</th>\n",
       "      <td>Pembangunan Sistem Informasi Manajemen Keluha...</td>\n",
       "      <td>https://j-ptiik.ub.ac.id/index.php/j-ptiik/art...</td>\n",
       "      <td>2017-01-03</td>\n",
       "      <td>Perusahaan McDonald’s adalah perusahaan yang b...</td>\n",
       "      <td>Adzanil Rachmadi P</td>\n",
       "      <td>Sistem Informasi, Fakultas Ilmu Komputer, Univ...</td>\n",
       "      <td>Fatwa Ramdani</td>\n",
       "      <td>Fakultas Ilmu Komputer, Universitas Brawijaya</td>\n",
       "      <td>Retno Indah Rokhmawati</td>\n",
       "      <td>Fakultas Ilmu Komputer, Universitas Brawijaya</td>\n",
       "    </tr>\n",
       "    <tr>\n",
       "      <th>4</th>\n",
       "      <td>Implementasi Metode Store and Forward Pada Hy...</td>\n",
       "      <td>https://j-ptiik.ub.ac.id/index.php/j-ptiik/art...</td>\n",
       "      <td>2017-01-03</td>\n",
       "      <td>Perkembangan internet saat ini sangat pesat. D...</td>\n",
       "      <td>Muhammad Gigih Wicaksono</td>\n",
       "      <td>Teknik Informatika, Fakultas Ilmu Komputer, Un...</td>\n",
       "      <td>Aswin Suharsono</td>\n",
       "      <td>Fakultas Ilmu Komputer, Universitas Brawijaya</td>\n",
       "      <td>Adhitya Bhawiyuga</td>\n",
       "      <td>Fakultas Ilmu Komputer, Universitas Brawijaya</td>\n",
       "    </tr>\n",
       "  </tbody>\n",
       "</table>\n",
       "</div>"
      ],
      "text/plain": [
       "                                               title  \\\n",
       "0   Interactive Mixed Reality System Menggunakan ...   \n",
       "1   Optimasi Penjadwalan Mata Pelajaran Menggunak...   \n",
       "2   Pengembangan Push Notification Menggunakan We...   \n",
       "3   Pembangunan Sistem Informasi Manajemen Keluha...   \n",
       "4   Implementasi Metode Store and Forward Pada Hy...   \n",
       "\n",
       "                                                link       date  \\\n",
       "0  https://j-ptiik.ub.ac.id/index.php/j-ptiik/art... 2017-01-03   \n",
       "1  https://j-ptiik.ub.ac.id/index.php/j-ptiik/art... 2017-01-03   \n",
       "2  https://j-ptiik.ub.ac.id/index.php/j-ptiik/art... 2017-01-03   \n",
       "3  https://j-ptiik.ub.ac.id/index.php/j-ptiik/art... 2017-01-03   \n",
       "4  https://j-ptiik.ub.ac.id/index.php/j-ptiik/art... 2017-01-03   \n",
       "\n",
       "                                            abstract  \\\n",
       "0  Teknologi mixed reality akan membuat interaksi...   \n",
       "1  Penjadwalan merupakan salah satu proses pentin...   \n",
       "2  Untuk memenuhi kebutuhan masyarakat akan keter...   \n",
       "3  Perusahaan McDonald’s adalah perusahaan yang b...   \n",
       "4  Perkembangan internet saat ini sangat pesat. D...   \n",
       "\n",
       "                    author1  \\\n",
       "0           Aristyo Pramana   \n",
       "1      Olive Khoirul L.M.A.   \n",
       "2          Andrias Yudianto   \n",
       "3        Adzanil Rachmadi P   \n",
       "4  Muhammad Gigih Wicaksono   \n",
       "\n",
       "                                        institution1  \\\n",
       "0      Fakultas Ilmu Komputer, Universitas Brawijaya   \n",
       "1  Teknik Informatika, Fakultas Ilmu Komputer, Un...   \n",
       "2  Teknik Informatika, Fakultas Ilmu Komputer, Un...   \n",
       "3  Sistem Informasi, Fakultas Ilmu Komputer, Univ...   \n",
       "4  Teknik Informatika, Fakultas Ilmu Komputer, Un...   \n",
       "\n",
       "                    author2                                   institution2  \\\n",
       "0  Eriq Muh. Adams Jonemaro  Fakultas Ilmu Komputer, Universitas Brawijaya   \n",
       "1         Agus Wahyu Widodo  Fakultas Ilmu Komputer, Universitas Brawijaya   \n",
       "2    Eko Sakti Pramukantoro  Fakultas Ilmu Komputer, Universitas Brawijaya   \n",
       "3             Fatwa Ramdani  Fakultas Ilmu Komputer, Universitas Brawijaya   \n",
       "4           Aswin Suharsono  Fakultas Ilmu Komputer, Universitas Brawijaya   \n",
       "\n",
       "                   author3                                   institution3  \n",
       "0  Wibisono Sukmo Wardhono  Fakultas Ilmu Komputer, Universitas Brawijaya  \n",
       "1      Budi Darma Setiawan                                Tidak diketahui  \n",
       "2            Kasyful Amron  Fakultas Ilmu Komputer, Universitas Brawijaya  \n",
       "3   Retno Indah Rokhmawati  Fakultas Ilmu Komputer, Universitas Brawijaya  \n",
       "4        Adhitya Bhawiyuga  Fakultas Ilmu Komputer, Universitas Brawijaya  "
      ]
     },
     "execution_count": 11,
     "metadata": {},
     "output_type": "execute_result"
    }
   ],
   "source": [
    "df['author1'] = df['author'].str.split('\\n').str[1]\n",
    "df['institution1'] = df['author'].str.split('\\n').str[3]\n",
    "df['author2'] = df['author'].str.split('\\n').str[5]\n",
    "df['institution2'] = df['author'].str.split('\\n').str[7]\n",
    "df['author3'] = df['author'].str.split('\\n').str[9]\n",
    "df['institution3'] = df['author'].str.split('\\n').str[11]\n",
    "\n",
    "df = df.drop('author', axis=1)\n",
    "df = df.fillna('Tidak diketahui')\n",
    "\n",
    "df.head()"
   ]
  },
  {
   "cell_type": "markdown",
   "id": "75e45bfa",
   "metadata": {
    "id": "fhCWNFrn5o4W",
    "papermill": {
     "duration": 0.026772,
     "end_time": "2023-01-31T11:53:40.724882",
     "exception": false,
     "start_time": "2023-01-31T11:53:40.698110",
     "status": "completed"
    },
    "tags": []
   },
   "source": [
    "### Memperbaiki Kolom Institution\n",
    "Terdapat banyak redundansi data yang ditulis tidak semestinya dalam kolom ini sehingga perlu diperbaiki."
   ]
  },
  {
   "cell_type": "code",
   "execution_count": 12,
   "id": "ab51577e",
   "metadata": {
    "execution": {
     "iopub.execute_input": "2023-01-31T11:53:40.781865Z",
     "iopub.status.busy": "2023-01-31T11:53:40.780749Z",
     "iopub.status.idle": "2023-01-31T11:53:40.825874Z",
     "shell.execute_reply": "2023-01-31T11:53:40.824666Z"
    },
    "id": "GpxGZdTS4Xmp",
    "outputId": "a35f85e6-7370-42bb-a425-e018848fd778",
    "papermill": {
     "duration": 0.076282,
     "end_time": "2023-01-31T11:53:40.828222",
     "exception": false,
     "start_time": "2023-01-31T11:53:40.751940",
     "status": "completed"
    },
    "tags": []
   },
   "outputs": [
    {
     "data": {
      "text/html": [
       "<div>\n",
       "<style scoped>\n",
       "    .dataframe tbody tr th:only-of-type {\n",
       "        vertical-align: middle;\n",
       "    }\n",
       "\n",
       "    .dataframe tbody tr th {\n",
       "        vertical-align: top;\n",
       "    }\n",
       "\n",
       "    .dataframe thead th {\n",
       "        text-align: right;\n",
       "    }\n",
       "</style>\n",
       "<table border=\"1\" class=\"dataframe\">\n",
       "  <thead>\n",
       "    <tr style=\"text-align: right;\">\n",
       "      <th></th>\n",
       "      <th>institution1</th>\n",
       "      <th>institution2</th>\n",
       "      <th>institution3</th>\n",
       "    </tr>\n",
       "  </thead>\n",
       "  <tbody>\n",
       "    <tr>\n",
       "      <th>0</th>\n",
       "      <td>Fakultas Ilmu Komputer, Universitas Brawijaya</td>\n",
       "      <td>Fakultas Ilmu Komputer, Universitas Brawijaya</td>\n",
       "      <td>Fakultas Ilmu Komputer, Universitas Brawijaya</td>\n",
       "    </tr>\n",
       "    <tr>\n",
       "      <th>1</th>\n",
       "      <td>Fakultas Ilmu Komputer, Universitas Brawijaya</td>\n",
       "      <td>Fakultas Ilmu Komputer, Universitas Brawijaya</td>\n",
       "      <td>Tidak diketahui</td>\n",
       "    </tr>\n",
       "    <tr>\n",
       "      <th>2</th>\n",
       "      <td>Fakultas Ilmu Komputer, Universitas Brawijaya</td>\n",
       "      <td>Fakultas Ilmu Komputer, Universitas Brawijaya</td>\n",
       "      <td>Fakultas Ilmu Komputer, Universitas Brawijaya</td>\n",
       "    </tr>\n",
       "    <tr>\n",
       "      <th>3</th>\n",
       "      <td>Fakultas Ilmu Komputer, Universitas Brawijaya</td>\n",
       "      <td>Fakultas Ilmu Komputer, Universitas Brawijaya</td>\n",
       "      <td>Fakultas Ilmu Komputer, Universitas Brawijaya</td>\n",
       "    </tr>\n",
       "    <tr>\n",
       "      <th>4</th>\n",
       "      <td>Fakultas Ilmu Komputer, Universitas Brawijaya</td>\n",
       "      <td>Fakultas Ilmu Komputer, Universitas Brawijaya</td>\n",
       "      <td>Fakultas Ilmu Komputer, Universitas Brawijaya</td>\n",
       "    </tr>\n",
       "  </tbody>\n",
       "</table>\n",
       "</div>"
      ],
      "text/plain": [
       "                                    institution1  \\\n",
       "0  Fakultas Ilmu Komputer, Universitas Brawijaya   \n",
       "1  Fakultas Ilmu Komputer, Universitas Brawijaya   \n",
       "2  Fakultas Ilmu Komputer, Universitas Brawijaya   \n",
       "3  Fakultas Ilmu Komputer, Universitas Brawijaya   \n",
       "4  Fakultas Ilmu Komputer, Universitas Brawijaya   \n",
       "\n",
       "                                    institution2  \\\n",
       "0  Fakultas Ilmu Komputer, Universitas Brawijaya   \n",
       "1  Fakultas Ilmu Komputer, Universitas Brawijaya   \n",
       "2  Fakultas Ilmu Komputer, Universitas Brawijaya   \n",
       "3  Fakultas Ilmu Komputer, Universitas Brawijaya   \n",
       "4  Fakultas Ilmu Komputer, Universitas Brawijaya   \n",
       "\n",
       "                                    institution3  \n",
       "0  Fakultas Ilmu Komputer, Universitas Brawijaya  \n",
       "1                                Tidak diketahui  \n",
       "2  Fakultas Ilmu Komputer, Universitas Brawijaya  \n",
       "3  Fakultas Ilmu Komputer, Universitas Brawijaya  \n",
       "4  Fakultas Ilmu Komputer, Universitas Brawijaya  "
      ]
     },
     "execution_count": 12,
     "metadata": {},
     "output_type": "execute_result"
    }
   ],
   "source": [
    "df[['institution1', 'institution2', 'institution3']] = df[['institution1', 'institution2', 'institution3']].replace(['Fakultas Ilmu Komputer , Universitas Brawijaya', 'Fakultas Ilmu Komputer Universitas Brawijaya', \n",
    "                      'Fakultas Imu Komputer, Universitas Brawijaya', 'Teknik Informatika, Fakultas Ilmu Komputer, Universitas Brawijaya',\n",
    "                      'Sistem Informasi, Fakultas Ilmu Komputer, Universitas Brawijaya', 'Fakultas Ilmu Kpmputer, Universitas Brawijaya',\n",
    "                      'Fakultas Ilmu Komputer', 'Fakultas Ilmu Komputer, Universitas Brawijaya`', \n",
    "                      'Program Studi Teknik Informatika, Fakultas Ilmu Komputer, Universitas Brawijaya', \n",
    "                      'Fakultas ilmu  komputer, Universitas Brawijaya', 'Fakultas Ilmu Komputer, Universitas Brawijayaf'],\n",
    "                     'Fakultas Ilmu Komputer, Universitas Brawijaya', regex=False)\n",
    "df[['institution1', 'institution2', 'institution3']] = df[['institution1', 'institution2', 'institution3']].replace(['Program Studi Matematika, Fakultas Matematika dan Ilmu Pengetahuan Alam, Universitas Brawijaya', \n",
    "                      'Fakultas Matematika dan Ilmu Pengetahuan, Universitas Brawijaya'],\n",
    "                     'Fakultas Matematika dan Ilmu Pengetahuan Alam, Universitas Brawijaya', regex=False)\n",
    "df[['institution1', 'institution2', 'institution3']] = df[['institution1', 'institution2', 'institution3']].replace(['Mahasiswa Universitas Brawijaya', 'Universitas Brawijaya Malang'],\n",
    "                     'Universitas Brawijaya', regex=False)\n",
    "df[['institution1', 'institution2', 'institution3']] = df[['institution1', 'institution2', 'institution3']].replace(['Balai Pengkajian Teknologi Pertanian (BPTP), Badan Litbang Pertanian', 'Balai Pengkajian Teknologi Pertanian (BPTP) Jawa Timur'],\n",
    "                     'Balai Pengkajian Teknologi Pertanian Jawa Timur', regex=False)\n",
    "df[['institution1', 'institution2', 'institution3']] = df[['institution1', 'institution2', 'institution3']].replace(['Mahasiswa', 'Program Studi Sistem Informasi', 'Filkom', '',\n",
    "                      'Jurnal Pengembangan Teknologi Informasi dan Ilmu Komputer'],\n",
    "                     'Tidak diketahui', regex=False)\n",
    "\n",
    "df[['institution1', 'institution2', 'institution3']].head()"
   ]
  },
  {
   "cell_type": "markdown",
   "id": "e8156f1b",
   "metadata": {
    "id": "hvTEzFMaZcvC",
    "papermill": {
     "duration": 0.027261,
     "end_time": "2023-01-31T11:53:40.882547",
     "exception": false,
     "start_time": "2023-01-31T11:53:40.855286",
     "status": "completed"
    },
    "tags": []
   },
   "source": [
    "# 3. Exploratory Data Analysis\n",
    "Exploratory Data Analysis atau yang biasa disingkat dengan EDA merupakan proses yang untuk mengeksplorasi data dan mencari pola dan hubungan yang mungkin tidak diketahui sebelumnya. Metode EDA berfokus pada eksplorasi visual dan menggunakan statistik deskriptif untuk mengidentifikasi pola dan hubungan dalam data."
   ]
  },
  {
   "cell_type": "markdown",
   "id": "b8766351",
   "metadata": {
    "id": "6bW6Av5hGh_-",
    "papermill": {
     "duration": 0.026564,
     "end_time": "2023-01-31T11:53:40.936204",
     "exception": false,
     "start_time": "2023-01-31T11:53:40.909640",
     "status": "completed"
    },
    "tags": []
   },
   "source": [
    "## Berdasarkan Kolom Title"
   ]
  },
  {
   "cell_type": "markdown",
   "id": "0bdd6139",
   "metadata": {
    "id": "2HJpw7-uGrbE",
    "papermill": {
     "duration": 0.026898,
     "end_time": "2023-01-31T11:53:40.990546",
     "exception": false,
     "start_time": "2023-01-31T11:53:40.963648",
     "status": "completed"
    },
    "tags": []
   },
   "source": [
    "### Jumlah Kata di dalam Judul"
   ]
  },
  {
   "cell_type": "code",
   "execution_count": 13,
   "id": "af44193c",
   "metadata": {
    "execution": {
     "iopub.execute_input": "2023-01-31T11:53:41.046360Z",
     "iopub.status.busy": "2023-01-31T11:53:41.045941Z",
     "iopub.status.idle": "2023-01-31T11:53:41.585811Z",
     "shell.execute_reply": "2023-01-31T11:53:41.584173Z"
    },
    "id": "uJ8nKkkwDKCJ",
    "papermill": {
     "duration": 0.57102,
     "end_time": "2023-01-31T11:53:41.588575",
     "exception": false,
     "start_time": "2023-01-31T11:53:41.017555",
     "status": "completed"
    },
    "tags": []
   },
   "outputs": [
    {
     "data": {
      "text/plain": [
       "dan                      1287\n",
       "Menggunakan              1198\n",
       "Metode                   1180\n",
       "pada                      798\n",
       "Sistem                    793\n",
       "                         ... \n",
       "Asperger                    1\n",
       "Structure-From-Motion       1\n",
       "(RBS)                       1\n",
       "Endokrin                    1\n",
       "Aisyiyah                    1\n",
       "Name: title, Length: 7390, dtype: int64"
      ]
     },
     "execution_count": 13,
     "metadata": {},
     "output_type": "execute_result"
    }
   ],
   "source": [
    "titles = df['title'].str.split().str[1]\n",
    "\n",
    "for i in range(2, 30):\n",
    "    titles = titles.append(df['title'].str.split().str[i])\n",
    "\n",
    "titles.isna().sum()\n",
    "titles.dropna(inplace=True)\n",
    "\n",
    "titles.value_counts()"
   ]
  },
  {
   "cell_type": "markdown",
   "id": "f686e7b0",
   "metadata": {
    "id": "yzEvXnqlHDUs",
    "papermill": {
     "duration": 0.032984,
     "end_time": "2023-01-31T11:53:41.650358",
     "exception": false,
     "start_time": "2023-01-31T11:53:41.617374",
     "status": "completed"
    },
    "tags": []
   },
   "source": [
    "### WordCloud Kata di dalam Judul"
   ]
  },
  {
   "cell_type": "code",
   "execution_count": 14,
   "id": "ed219709",
   "metadata": {
    "execution": {
     "iopub.execute_input": "2023-01-31T11:53:41.707200Z",
     "iopub.status.busy": "2023-01-31T11:53:41.706474Z",
     "iopub.status.idle": "2023-01-31T11:53:42.370454Z",
     "shell.execute_reply": "2023-01-31T11:53:42.369456Z"
    },
    "id": "V4bUGCExHKlF",
    "papermill": {
     "duration": 0.695503,
     "end_time": "2023-01-31T11:53:42.373265",
     "exception": false,
     "start_time": "2023-01-31T11:53:41.677762",
     "status": "completed"
    },
    "tags": []
   },
   "outputs": [
    {
     "data": {
      "image/png": "[encoded data removed]",
      "text/plain": [
       "<Figure size 432x288 with 1 Axes>"
      ]
     },
     "metadata": {
      "needs_background": "light"
     },
     "output_type": "display_data"
    }
   ],
   "source": [
    "ind_stopwords = stopwords.words('indonesian')\n",
    "text = \" \".join(word for word in titles)\n",
    "wordcloud = WordCloud(background_color='black', stopwords=ind_stopwords, colormap='Blues', max_font_size=50, max_words=30).generate(text)\n",
    "\n",
    "plt.imshow(wordcloud, interpolation='bilinear')\n",
    "plt.axis(\"off\")\n",
    "plt.title('Unigram of Title', pad=20, fontsize=25)\n",
    "plt.show()"
   ]
  },
  {
   "cell_type": "markdown",
   "id": "b9a5b2be",
   "metadata": {
    "id": "_uoJdVchrvzu",
    "papermill": {
     "duration": 0.028368,
     "end_time": "2023-01-31T11:53:42.430213",
     "exception": false,
     "start_time": "2023-01-31T11:53:42.401845",
     "status": "completed"
    },
    "tags": []
   },
   "source": [
    "## Berdasarkan Kolom Date\n"
   ]
  },
  {
   "cell_type": "markdown",
   "id": "d24eb411",
   "metadata": {
    "id": "IZy4iYgLX3ld",
    "papermill": {
     "duration": 0.028771,
     "end_time": "2023-01-31T11:53:42.487121",
     "exception": false,
     "start_time": "2023-01-31T11:53:42.458350",
     "status": "completed"
    },
    "tags": []
   },
   "source": [
    "### Jumlah Per Tanggal Penerbitan"
   ]
  },
  {
   "cell_type": "code",
   "execution_count": 15,
   "id": "c31ec98a",
   "metadata": {
    "execution": {
     "iopub.execute_input": "2023-01-31T11:53:42.547671Z",
     "iopub.status.busy": "2023-01-31T11:53:42.546480Z",
     "iopub.status.idle": "2023-01-31T11:53:42.556040Z",
     "shell.execute_reply": "2023-01-31T11:53:42.555196Z"
    },
    "id": "o5sZDEN2rFt2",
    "outputId": "8bf4196a-75f8-43ab-81e9-0645e7caee0f",
    "papermill": {
     "duration": 0.041681,
     "end_time": "2023-01-31T11:53:42.558108",
     "exception": false,
     "start_time": "2023-01-31T11:53:42.516427",
     "status": "completed"
    },
    "tags": []
   },
   "outputs": [
    {
     "data": {
      "text/plain": [
       "2017-08-30    68\n",
       "2020-01-17    58\n",
       "2018-02-12    54\n",
       "2019-08-14    40\n",
       "2019-08-15    40\n",
       "              ..\n",
       "2019-12-27     1\n",
       "2019-12-17     1\n",
       "2019-12-05     1\n",
       "2019-12-04     1\n",
       "2019-08-07     1\n",
       "Name: date, Length: 582, dtype: int64"
      ]
     },
     "execution_count": 15,
     "metadata": {},
     "output_type": "execute_result"
    }
   ],
   "source": [
    "df['date'].value_counts()"
   ]
  },
  {
   "cell_type": "markdown",
   "id": "d156bbd0",
   "metadata": {
    "id": "sH9FQ-n3L710",
    "papermill": {
     "duration": 0.02882,
     "end_time": "2023-01-31T11:53:42.617016",
     "exception": false,
     "start_time": "2023-01-31T11:53:42.588196",
     "status": "completed"
    },
    "tags": []
   },
   "source": [
    "### Visualisasi Berdasarkan Tanggal Penerbitan"
   ]
  },
  {
   "cell_type": "code",
   "execution_count": 16,
   "id": "ce97b3ee",
   "metadata": {
    "execution": {
     "iopub.execute_input": "2023-01-31T11:53:42.678293Z",
     "iopub.status.busy": "2023-01-31T11:53:42.677084Z",
     "iopub.status.idle": "2023-01-31T11:53:42.990700Z",
     "shell.execute_reply": "2023-01-31T11:53:42.989310Z"
    },
    "id": "NsP7OFSS6hRt",
    "outputId": "ffc40425-5956-40a2-da0b-32b84bcbb713",
    "papermill": {
     "duration": 0.346931,
     "end_time": "2023-01-31T11:53:42.993310",
     "exception": false,
     "start_time": "2023-01-31T11:53:42.646379",
     "status": "completed"
    },
    "tags": []
   },
   "outputs": [
    {
     "data": {
      "image/png": "[encoded data removed]",
      "text/plain": [
       "<Figure size 720x360 with 1 Axes>"
      ]
     },
     "metadata": {
      "needs_background": "light"
     },
     "output_type": "display_data"
    }
   ],
   "source": [
    "plt.figure(figsize=(10, 5))\n",
    "df.groupby(['date'])['title'].nunique().plot(color='red', marker='.', linewidth=2)\n",
    "plt.title('Daily Number of Article', loc='center', pad=20, fontsize=25, color='darkblue')\n",
    "plt.xlabel('Date', fontsize=15, color='blue')\n",
    "plt.ylabel('Number of Article', fontsize=15, color='blue')\n",
    "plt.grid(color='darkgray', linestyle=':', linewidth=0.5)\n",
    "plt.ylim(ymin=0)\n",
    "plt.show()"
   ]
  },
  {
   "cell_type": "markdown",
   "id": "a43cdff2",
   "metadata": {
    "id": "d2gYX7vfME0X",
    "papermill": {
     "duration": 0.02938,
     "end_time": "2023-01-31T11:53:43.052563",
     "exception": false,
     "start_time": "2023-01-31T11:53:43.023183",
     "status": "completed"
    },
    "tags": []
   },
   "source": [
    "## Berdasarkan Kolom Abstract"
   ]
  },
  {
   "cell_type": "markdown",
   "id": "b35c91f3",
   "metadata": {
    "id": "FjQJwISEMIPO",
    "papermill": {
     "duration": 0.029538,
     "end_time": "2023-01-31T11:53:43.111938",
     "exception": false,
     "start_time": "2023-01-31T11:53:43.082400",
     "status": "completed"
    },
    "tags": []
   },
   "source": [
    "### Jumlah Kata di dalam Abstrak"
   ]
  },
  {
   "cell_type": "code",
   "execution_count": 17,
   "id": "ad926513",
   "metadata": {
    "execution": {
     "iopub.execute_input": "2023-01-31T11:53:43.173299Z",
     "iopub.status.busy": "2023-01-31T11:53:43.172816Z",
     "iopub.status.idle": "2023-01-31T11:54:16.473287Z",
     "shell.execute_reply": "2023-01-31T11:54:16.472326Z"
    },
    "id": "tjGoCKm3MDsQ",
    "papermill": {
     "duration": 33.363181,
     "end_time": "2023-01-31T11:54:16.504933",
     "exception": false,
     "start_time": "2023-01-31T11:53:43.141752",
     "status": "completed"
    },
    "tags": []
   },
   "outputs": [
    {
     "data": {
      "text/plain": [
       "yang             24603\n",
       "dan              18125\n",
       "dengan           11696\n",
       "untuk             9576\n",
       "pada              9449\n",
       "                 ...  \n",
       "menangani,           1\n",
       "ukur.                1\n",
       "nasionalisme         1\n",
       "arsitekturnya        1\n",
       "(hops),              1\n",
       "Name: abstract, Length: 45197, dtype: int64"
      ]
     },
     "execution_count": 17,
     "metadata": {},
     "output_type": "execute_result"
    }
   ],
   "source": [
    "abstracts = df['abstract'].str.split().str[1]\n",
    "\n",
    "for i in range(2, 255):\n",
    "    abstracts = abstracts.append(df['abstract'].str.split().str[i])\n",
    "\n",
    "abstracts.isna().sum()\n",
    "abstracts.dropna(inplace=True)\n",
    "\n",
    "abstracts.value_counts()"
   ]
  },
  {
   "cell_type": "markdown",
   "id": "e1ba4abb",
   "metadata": {
    "id": "q03FRjrXMN27",
    "papermill": {
     "duration": 0.029563,
     "end_time": "2023-01-31T11:54:16.564471",
     "exception": false,
     "start_time": "2023-01-31T11:54:16.534908",
     "status": "completed"
    },
    "tags": []
   },
   "source": [
    "### WordCloud Kata di dalam Abstrak"
   ]
  },
  {
   "cell_type": "code",
   "execution_count": 18,
   "id": "aeb8e9a0",
   "metadata": {
    "execution": {
     "iopub.execute_input": "2023-01-31T11:54:16.626937Z",
     "iopub.status.busy": "2023-01-31T11:54:16.626258Z",
     "iopub.status.idle": "2023-01-31T11:54:20.874210Z",
     "shell.execute_reply": "2023-01-31T11:54:20.873370Z"
    },
    "id": "NQtUBalyMrwy",
    "papermill": {
     "duration": 4.282126,
     "end_time": "2023-01-31T11:54:20.876591",
     "exception": false,
     "start_time": "2023-01-31T11:54:16.594465",
     "status": "completed"
    },
    "tags": []
   },
   "outputs": [
    {
     "data": {
      "image/png": "[encoded data removed]",
      "text/plain": [
       "<Figure size 432x288 with 1 Axes>"
      ]
     },
     "metadata": {
      "needs_background": "light"
     },
     "output_type": "display_data"
    }
   ],
   "source": [
    "ind_stopwords = stopwords.words('indonesian')\n",
    "text = \" \".join(word for word in abstracts)\n",
    "wordcloud = WordCloud(background_color='black', stopwords=ind_stopwords, colormap='Blues', max_font_size=50, max_words=30).generate(text)\n",
    "\n",
    "plt.imshow(wordcloud, interpolation='bilinear')\n",
    "plt.axis(\"off\")\n",
    "plt.title('Unigram of Abstract', pad=20, fontsize=25)\n",
    "plt.show()"
   ]
  },
  {
   "cell_type": "markdown",
   "id": "067f4553",
   "metadata": {
    "id": "BnFF2THS75_q",
    "papermill": {
     "duration": 0.031638,
     "end_time": "2023-01-31T11:54:20.939604",
     "exception": false,
     "start_time": "2023-01-31T11:54:20.907966",
     "status": "completed"
    },
    "tags": []
   },
   "source": [
    "## Berdasarkan Kolom Author\n"
   ]
  },
  {
   "cell_type": "markdown",
   "id": "a122298c",
   "metadata": {
    "id": "HvWRhynlX7_V",
    "papermill": {
     "duration": 0.031207,
     "end_time": "2023-01-31T11:54:21.002707",
     "exception": false,
     "start_time": "2023-01-31T11:54:20.971500",
     "status": "completed"
    },
    "tags": []
   },
   "source": [
    "### Jumlah Per Penulis"
   ]
  },
  {
   "cell_type": "code",
   "execution_count": 19,
   "id": "40802c83",
   "metadata": {
    "execution": {
     "iopub.execute_input": "2023-01-31T11:54:21.067881Z",
     "iopub.status.busy": "2023-01-31T11:54:21.067064Z",
     "iopub.status.idle": "2023-01-31T11:54:21.092149Z",
     "shell.execute_reply": "2023-01-31T11:54:21.090888Z"
    },
    "id": "MMmT70yV8zRv",
    "outputId": "1564fe1e-e81b-45e4-9502-402b9e85b579",
    "papermill": {
     "duration": 0.060847,
     "end_time": "2023-01-31T11:54:21.095046",
     "exception": false,
     "start_time": "2023-01-31T11:54:21.034199",
     "status": "completed"
    },
    "tags": []
   },
   "outputs": [
    {
     "data": {
      "text/plain": [
       "author                   \n",
       "                             216\n",
       "Retno Indah Rokhmawati       175\n",
       "Hanifah Muslimah Az-Zahra    168\n",
       "Satrio Hadi Wijoyo           140\n",
       "Yusi Tyroni Mursityo         139\n",
       "                            ... \n",
       "Farah Nabilla Putri Irzan      1\n",
       "Farah Shofiatul Ummah          1\n",
       "Farandi Angesti                1\n",
       "Fardan Ainul Yaqiin            1\n",
       "Zuroul Mufarokah               1\n",
       "Length: 3680, dtype: int64"
      ]
     },
     "execution_count": 19,
     "metadata": {},
     "output_type": "execute_result"
    }
   ],
   "source": [
    "authors = {'author' : df['author1'].append(df['author2']).append(df['author3']).reset_index(drop=True)}\n",
    "authors = pd.DataFrame(authors)\n",
    "authors.value_counts()"
   ]
  },
  {
   "cell_type": "markdown",
   "id": "dd5ca405",
   "metadata": {
    "id": "7NTHQC5hMGs_",
    "papermill": {
     "duration": 0.032124,
     "end_time": "2023-01-31T11:54:21.159186",
     "exception": false,
     "start_time": "2023-01-31T11:54:21.127062",
     "status": "completed"
    },
    "tags": []
   },
   "source": [
    "### Visualisasi Berdasarkan Penulis (5 Teratas)"
   ]
  },
  {
   "cell_type": "code",
   "execution_count": 20,
   "id": "555fede1",
   "metadata": {
    "execution": {
     "iopub.execute_input": "2023-01-31T11:54:21.224646Z",
     "iopub.status.busy": "2023-01-31T11:54:21.224185Z",
     "iopub.status.idle": "2023-01-31T11:54:21.488544Z",
     "shell.execute_reply": "2023-01-31T11:54:21.487251Z"
    },
    "id": "E1ZGFVRX-gtx",
    "outputId": "3d3e9459-cfe4-4747-f4d4-148f8486bec2",
    "papermill": {
     "duration": 0.29999,
     "end_time": "2023-01-31T11:54:21.491096",
     "exception": false,
     "start_time": "2023-01-31T11:54:21.191106",
     "status": "completed"
    },
    "tags": []
   },
   "outputs": [
    {
     "data": {
      "image/png": "[encoded data removed]",
      "text/plain": [
       "<Figure size 720x360 with 1 Axes>"
      ]
     },
     "metadata": {
      "needs_background": "light"
     },
     "output_type": "display_data"
    }
   ],
   "source": [
    "authors = authors['author'].value_counts(ascending=False).reset_index()\n",
    "authors.columns = ['author', 'count']\n",
    "authors = authors.drop(0)\n",
    "authors = authors.head()\n",
    "\n",
    "plt.figure(figsize=(10, 5))\n",
    "authors.groupby('author')['count'].sum().plot(color='red', kind='bar')\n",
    "plt.title('Number of Author\\'s Article', loc='center', pad=20, fontsize=25, color='darkblue')\n",
    "plt.xlabel('Author', fontsize=15, color='blue')\n",
    "plt.ylabel('Number of Article', fontsize=15, color='blue')\n",
    "plt.grid(color='darkgray', linestyle=':', linewidth=0.5)\n",
    "plt.xticks(rotation=50)\n",
    "plt.ylim(ymin=0)\n",
    "plt.show()"
   ]
  },
  {
   "cell_type": "markdown",
   "id": "97802914",
   "metadata": {
    "id": "zbetV-mVO2fB",
    "papermill": {
     "duration": 0.033878,
     "end_time": "2023-01-31T11:54:21.558135",
     "exception": false,
     "start_time": "2023-01-31T11:54:21.524257",
     "status": "completed"
    },
    "tags": []
   },
   "source": [
    "## Berdasarkan Kolom Institution\n"
   ]
  },
  {
   "cell_type": "markdown",
   "id": "e196b471",
   "metadata": {
    "id": "WG8pr8A9X_Qe",
    "papermill": {
     "duration": 0.031638,
     "end_time": "2023-01-31T11:54:21.621721",
     "exception": false,
     "start_time": "2023-01-31T11:54:21.590083",
     "status": "completed"
    },
    "tags": []
   },
   "source": [
    "### Jumlah per Institusi"
   ]
  },
  {
   "cell_type": "code",
   "execution_count": 21,
   "id": "57b682d6",
   "metadata": {
    "execution": {
     "iopub.execute_input": "2023-01-31T11:54:21.687985Z",
     "iopub.status.busy": "2023-01-31T11:54:21.687280Z",
     "iopub.status.idle": "2023-01-31T11:54:21.703538Z",
     "shell.execute_reply": "2023-01-31T11:54:21.702275Z"
    },
    "id": "1HKYZxegO5Aq",
    "outputId": "99854c91-1938-475c-bad8-34f38ef44214",
    "papermill": {
     "duration": 0.05231,
     "end_time": "2023-01-31T11:54:21.705884",
     "exception": false,
     "start_time": "2023-01-31T11:54:21.653574",
     "status": "completed"
    },
    "tags": []
   },
   "outputs": [
    {
     "data": {
      "text/plain": [
       "institution                                                                                 \n",
       "Fakultas Ilmu Komputer, Universitas Brawijaya                                                   10117\n",
       "Tidak diketahui                                                                                   241\n",
       "Universitas Brawijaya                                                                              28\n",
       "Fakultas Perikanan dan Ilmu Kelautan, Universitas Brawijaya                                        19\n",
       "Balai Pengkajian Teknologi Pertanian Jawa Timur                                                     9\n",
       "Fakultas Matematika dan Ilmu Pengetahuan Alam, Universitas Brawijaya                                8\n",
       "Fakultas Kedokteran, Universitas Brawijaya                                                          4\n",
       "Balai Penelitian Tanaman Jeruk dan Buah Subtropika, Badan Litbang Pertanian                         3\n",
       "Teknik Komputer, Fakultas Ilmu Komputer, Universitas Indonesia                                      2\n",
       "Balai Konservasi Tumbuhan Kebun Raya Purwodadi, Lembaga Ilmu Pengetahuan Indonesia                  1\n",
       "Departemen Ilmu Material Kedokteran Gigi, Fakultas Kedokteran Gigi, Universitas Brawijaya           1\n",
       "Departement Electrical and Electronics Engineering, Chukyo University                               1\n",
       "Fakultas Teknik, Universitas Brawijaya                                                              1\n",
       "Pusat Penelitian Informatika, Lembaga Ilmu Pengetahuan Indonesia                                    1\n",
       "Pusat Teknologi Informasi & Komunikasi, Badan Pengkajian dan Penerapan Teknologi (PTIK BPPT)        1\n",
       "dtype: int64"
      ]
     },
     "execution_count": 21,
     "metadata": {},
     "output_type": "execute_result"
    }
   ],
   "source": [
    "institutions = {'institution' : df['institution1'].append(df['institution2']).append(df['institution3']).reset_index(drop=True)}\n",
    "institutions = pd.DataFrame(institutions)\n",
    "institutions.value_counts()"
   ]
  },
  {
   "cell_type": "markdown",
   "id": "70a6d1ac",
   "metadata": {
    "id": "9l7QNRKqQ0Rn",
    "papermill": {
     "duration": 0.032302,
     "end_time": "2023-01-31T11:54:21.771609",
     "exception": false,
     "start_time": "2023-01-31T11:54:21.739307",
     "status": "completed"
    },
    "tags": []
   },
   "source": [
    "### Visualisasi Berdasarkan Institusi"
   ]
  },
  {
   "cell_type": "code",
   "execution_count": 22,
   "id": "41f9aa39",
   "metadata": {
    "execution": {
     "iopub.execute_input": "2023-01-31T11:54:21.839194Z",
     "iopub.status.busy": "2023-01-31T11:54:21.838689Z",
     "iopub.status.idle": "2023-01-31T11:54:22.355872Z",
     "shell.execute_reply": "2023-01-31T11:54:22.354567Z"
    },
    "id": "_hs_UcpNfJBe",
    "outputId": "9ec45a9f-52ea-4dfa-f1c3-71f97dd9e80a",
    "papermill": {
     "duration": 0.554527,
     "end_time": "2023-01-31T11:54:22.359124",
     "exception": false,
     "start_time": "2023-01-31T11:54:21.804597",
     "status": "completed"
    },
    "tags": []
   },
   "outputs": [
    {
     "data": {
      "image/png": "[encoded data removed]",
      "text/plain": [
       "<Figure size 720x360 with 1 Axes>"
      ]
     },
     "metadata": {
      "needs_background": "light"
     },
     "output_type": "display_data"
    }
   ],
   "source": [
    "plt.figure(figsize = (10, 5))\n",
    "plt.hist(institutions['institution'], bins = 100, range = (1, 100), color = 'red')\n",
    "plt.title('Distribution of Author\\'s Institution', fontsize = 25, color = 'darkblue')\n",
    "plt.xlabel('Institution', fontsize = 15, color = 'blue')\n",
    "plt.ylabel('Number of Author', fontsize = 15, color = 'blue')\n",
    "plt.xlim(xmin = 0)\n",
    "plt.ylim(ymin = 0)\n",
    "plt.xticks(rotation=40)\n",
    "plt.show()"
   ]
  },
  {
   "cell_type": "markdown",
   "id": "d62baccd",
   "metadata": {
    "id": "xh0Yf38x57Ny",
    "papermill": {
     "duration": 0.033804,
     "end_time": "2023-01-31T11:54:22.428156",
     "exception": false,
     "start_time": "2023-01-31T11:54:22.394352",
     "status": "completed"
    },
    "tags": []
   },
   "source": [
    "## Insight\n",
    "Dari bagian Exploratory Data Analysis, terdapat beberapa hal yang dapat diketahui:\n",
    "* Kata yang paling banyak ditemukan dalam judul artikel adalah 'dan' apabila mengandung stop words dan 'metode' apabila tidak mengandung stop words\n",
    "* Artikel paling banyak diterbitkan pada 2017-08-30, yaitu 30 Agustus 2017\n",
    "* Kata yang paling banyak ditemukan dalam abstrak adalah 'yang' apabila mengandung stop words dan 'hasil' apabila tidak mengandung stop words\n",
    "* Penulis yang paling banyak menulis artikel adalah Retno Indah Rokhmawati\n",
    "* Institusi yang paling banyak menghasilkan artikel adalah Fakultas Ilmu Komputer, Universitas Brawijaya"
   ]
  },
  {
   "cell_type": "markdown",
   "id": "42bd728b",
   "metadata": {
    "id": "7kBqtfBxu2zi",
    "papermill": {
     "duration": 0.034043,
     "end_time": "2023-01-31T11:54:22.495885",
     "exception": false,
     "start_time": "2023-01-31T11:54:22.461842",
     "status": "completed"
    },
    "tags": []
   },
   "source": [
    "# 4. Clustering\n",
    "Clustering adalah suatu proses pengelompokan data berdasarkan kesamaan atribut-atribut yang dimiliki. Tujuan clustering sendiri adalah untuk mengelompokkan data yang berkaitan satu sama lain. Clustering merupakan salah satu jenis algoritma dari unsupervised learning. Unsupervised learning sendiri merupakan metode pembelajaran mesin di mana data tidak memiliki label, atau dapat dikatakan bahwa algoritma diberi data tanpa instruksi tentang apa yang harus dilakukan dengan data tersebut. Dengan kata lain, unsupervised learning adalah metode di mana algoritma dapat menemukan struktur dan pola dari data tanpa bantuan dari label."
   ]
  },
  {
   "cell_type": "markdown",
   "id": "534e9b10",
   "metadata": {
    "id": "X-Dl_rZcpjyf",
    "papermill": {
     "duration": 0.033145,
     "end_time": "2023-01-31T11:54:22.562637",
     "exception": false,
     "start_time": "2023-01-31T11:54:22.529492",
     "status": "completed"
    },
    "tags": []
   },
   "source": [
    "## Ekstrak Kata Kunci Menggunakan TFIDFVectorizer\n",
    "TFIDFVectorizer merupakan salah satu teknik pengolahan kata yang mengukur bobot kata dalam sebuah dokumen menggunakan rumus TFIDFVectorizer. Alasan pemilihan TFIDFVectorizer daripada CountVectorizer karena CountVectorizer adalah suatu teknik pengolahan kata yang menghitung jumlah kemunculan kata dalam sebuah dokumen. Dalam hal ini, TFIDFVectorizer lebih baik daripada CountVectorizer karena TFIDFVectorizer memberikan hasil lebih akurat dan relevan dengan menggunakan rumus TF-IDF.\n",
    "\n",
    "TF-IDF adalah singkatan dari Term Frequency-Inverse Document Frequency. Ini adalah metode yang digunakan untuk mengukur relevansi suatu dokumen terhadap kueri tertentu. TF mengacu pada jumlah kata yang muncul dalam dokumen, sedangkan IDF mengacu pada jumlah dokumen yang mengandung kata tersebut. TF-IDF menggabungkan kedua metrik ini untuk memberikan nilai yang mengindikasikan relevansi suatu dokumen terhadap kueri. Nilai TF-IDF berasal dari perkalian antara TF dan IDF. Semakin tinggi nilai TF-IDF, semakin tinggi relevansi dokumen terhadap kueri. Berikut adalah rumus TF-IDF:\n",
    "\n",
    "![image.png](data:image/png;base64,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)"
   ]
  },
  {
   "cell_type": "code",
   "execution_count": 23,
   "id": "72949116",
   "metadata": {
    "execution": {
     "iopub.execute_input": "2023-01-31T11:54:22.631719Z",
     "iopub.status.busy": "2023-01-31T11:54:22.631308Z",
     "iopub.status.idle": "2023-01-31T11:54:23.196223Z",
     "shell.execute_reply": "2023-01-31T11:54:23.194987Z"
    },
    "id": "skN4YUQnSu4O",
    "papermill": {
     "duration": 0.602664,
     "end_time": "2023-01-31T11:54:23.199135",
     "exception": false,
     "start_time": "2023-01-31T11:54:22.596471",
     "status": "completed"
    },
    "tags": []
   },
   "outputs": [],
   "source": [
    "ind_stopwords = stopwords.words('indonesian')\n",
    "\n",
    "vectorizer = TfidfVectorizer(max_df=0.9,\n",
    "                             min_df=5, \n",
    "                             use_idf=True, \n",
    "                             smooth_idf=True,        \n",
    "                             stop_words=ind_stopwords, \n",
    "                             lowercase=True,   \n",
    "                             norm=u'l2',    \n",
    "                            )\n",
    "\n",
    "tfidf = vectorizer.fit_transform(df['abstract'])"
   ]
  },
  {
   "cell_type": "markdown",
   "id": "037bdffd",
   "metadata": {
    "id": "8xMxZfKLp0Nh",
    "papermill": {
     "duration": 0.041831,
     "end_time": "2023-01-31T11:54:23.286725",
     "exception": false,
     "start_time": "2023-01-31T11:54:23.244894",
     "status": "completed"
    },
    "tags": []
   },
   "source": [
    "## Text Clustering dengan Minibatch K-Means\n",
    "Text Clustering adalah suatu teknik kluster yang digunakan untuk mengelompokkan dokumen atau teks berdasarkan kesamaan tema atau topik. Teknik ini membantu para peneliti untuk memahami konteks dari banyak dokumen dengan lebih baik. Proses ini mengelompokkan teks berdasarkan kata-kata yang sering digunakan dalam setiap dokumen. Setiap grup berisi dokumen yang memiliki tema yang sama.\n",
    "\n",
    "K-means adalah algoritma clustering non-hirarkis yang digunakan untuk mengelompokkan item menjadi beberapa kluster. Minibatch K-Means adalah varian dari K-Means yang menggunakan algoritma batching untuk memproses data lebih cepat. Algoritma ini memecah data yang diberikan menjadi beberapa batch kecil, dan kemudian menggunakan algoritma K-Means untuk menghitung kluster dalam setiap batch. Dengan menggunakan algoritma minibatch, algoritma K-Means menjadi lebih cepat dan mudah dalam memproses data yang lebih besar."
   ]
  },
  {
   "cell_type": "markdown",
   "id": "7d87fce0",
   "metadata": {
    "id": "x6LhawpVq41_",
    "papermill": {
     "duration": 0.033718,
     "end_time": "2023-01-31T11:54:23.355301",
     "exception": false,
     "start_time": "2023-01-31T11:54:23.321583",
     "status": "completed"
    },
    "tags": []
   },
   "source": [
    "### Elbow Method\n",
    "Elbow method merupakan salah satu metode yang dapat digunakan untuk menentukan nilai k optimal dalam proses clustering. Metode ini menggunakan plot antara SSE (Sum of Squared Errors) terhadap nilai k untuk menentukan nilai k yang tepat. Dengan menggunakan metode ini, kita dapat melihat nilai k mana yang menghasilkan nilai SSE yang paling rendah. Setelah melihat plot tersebut, nilai k yang optimal adalah nilai k yang menghasilkan nilai SSE yang paling rendah dan berada di sebelah kiri lurus dari \"siku\" (elbow) pada plot tersebut. Dengan kata lain, nilai k yang optimal adalah nilai k yang menghasilkan perubahan SSE yang paling kecil di antara nilai k lainnya."
   ]
  },
  {
   "cell_type": "code",
   "execution_count": 24,
   "id": "5ff56864",
   "metadata": {
    "execution": {
     "iopub.execute_input": "2023-01-31T11:54:23.426666Z",
     "iopub.status.busy": "2023-01-31T11:54:23.426224Z",
     "iopub.status.idle": "2023-01-31T11:54:25.664463Z",
     "shell.execute_reply": "2023-01-31T11:54:25.663021Z"
    },
    "id": "fz0WlOCEgaLf",
    "papermill": {
     "duration": 2.277924,
     "end_time": "2023-01-31T11:54:25.667237",
     "exception": false,
     "start_time": "2023-01-31T11:54:23.389313",
     "status": "completed"
    },
    "tags": []
   },
   "outputs": [
    {
     "data": {
      "image/png": "[encoded data removed]",
      "text/plain": [
       "<Figure size 432x288 with 1 Axes>"
      ]
     },
     "metadata": {
      "needs_background": "light"
     },
     "output_type": "display_data"
    }
   ],
   "source": [
    "def optimal_clusters_elbow(data, max_k):\n",
    "    K = range(2, max_k+1, 2)\n",
    "    sse = []\n",
    "    for k in K:\n",
    "        sse.append(MiniBatchKMeans(n_clusters=k, \n",
    "                                   init_size=1024, \n",
    "                                   batch_size=2048, \n",
    "                                   random_state=20).fit(data).inertia_)\n",
    "\n",
    "    plt.plot(K, sse, '-', color='red')\n",
    "    plt.title('SSE by Cluster Center', fontsize=25, color='darkblue')\n",
    "    plt.xlabel('k Values', fontsize=15, color='blue')\n",
    "    plt.ylabel('SSE', fontsize=15, color='blue')\n",
    "    plt.show()\n",
    "    \n",
    "optimal_clusters_elbow(tfidf, 20)"
   ]
  },
  {
   "cell_type": "markdown",
   "id": "dab61d3d",
   "metadata": {
    "id": "2PbCYFwE-nwm",
    "papermill": {
     "duration": 0.033885,
     "end_time": "2023-01-31T11:54:25.735319",
     "exception": false,
     "start_time": "2023-01-31T11:54:25.701434",
     "status": "completed"
    },
    "tags": []
   },
   "source": [
    "### Silhouette Score\n",
    "Nilai k yang optimal dalam silhouette score dapat ditentukan dengan menggunakan metode percobaan dan kesalahan. Nilai silhouette yang optimal (nilai tertinggi) untuk menentukan jumlah kluster yang optimal."
   ]
  },
  {
   "cell_type": "code",
   "execution_count": 25,
   "id": "d7cc147b",
   "metadata": {
    "execution": {
     "iopub.execute_input": "2023-01-31T11:54:25.807208Z",
     "iopub.status.busy": "2023-01-31T11:54:25.806388Z",
     "iopub.status.idle": "2023-01-31T11:54:38.403206Z",
     "shell.execute_reply": "2023-01-31T11:54:38.402208Z"
    },
    "id": "Chvocn8Vvn39",
    "papermill": {
     "duration": 12.635589,
     "end_time": "2023-01-31T11:54:38.405451",
     "exception": false,
     "start_time": "2023-01-31T11:54:25.769862",
     "status": "completed"
    },
    "tags": []
   },
   "outputs": [
    {
     "data": {
      "image/png": "[encoded data removed]",
      "text/plain": [
       "<Figure size 432x288 with 1 Axes>"
      ]
     },
     "metadata": {
      "needs_background": "light"
     },
     "output_type": "display_data"
    }
   ],
   "source": [
    "def optimal_clusters_silhouette(data, max_k):\n",
    "    K = range(2, max_k+1, 2)\n",
    "    silhouette = []\n",
    "    for k in K:\n",
    "        silhouette.append(silhouette_score(data, MiniBatchKMeans(n_clusters=k,\n",
    "                                                           init_size=1024,\n",
    "                                                           batch_size=2048).fit(data).predict(data)))\n",
    "\n",
    "    plt.plot(K, silhouette, '-', color='red')\n",
    "    plt.title('Silhouette Score by Cluster Center', fontsize=25, color='darkblue')\n",
    "    plt.xlabel('k Values', fontsize=15, color='blue')\n",
    "    plt.ylabel('Silhouette score', fontsize=15, color='blue')\n",
    "    plt.show()\n",
    "    \n",
    "optimal_clusters_silhouette(tfidf, 20)"
   ]
  },
  {
   "cell_type": "markdown",
   "id": "c14e8318",
   "metadata": {
    "id": "mR8voxin_3lo",
    "papermill": {
     "duration": 0.035655,
     "end_time": "2023-01-31T11:54:38.476662",
     "exception": false,
     "start_time": "2023-01-31T11:54:38.441007",
     "status": "completed"
    },
    "tags": []
   },
   "source": [
    "## Cluster Optimal\n",
    "Berdasarkan 2 grafik di atas, nilai k yang paling optimal adalah 18. Pada grafik Elbow Method, nilai k yang menghasilkan perubahan paling kecil adalah di antara 17,5 hingga 20. Sedangkan, pada grafik Silhouette Score, nilai k yang menghasilkan skor paling maksimal berada di antara 17,5 hingga 20. Grafik di atas dapat berubah-ubah ketika dijalankan."
   ]
  },
  {
   "cell_type": "code",
   "execution_count": 26,
   "id": "69206a4d",
   "metadata": {
    "execution": {
     "iopub.execute_input": "2023-01-31T11:54:38.550660Z",
     "iopub.status.busy": "2023-01-31T11:54:38.549515Z",
     "iopub.status.idle": "2023-01-31T11:54:38.832576Z",
     "shell.execute_reply": "2023-01-31T11:54:38.831574Z"
    },
    "id": "l86V-gEd_6Sa",
    "papermill": {
     "duration": 0.32227,
     "end_time": "2023-01-31T11:54:38.835246",
     "exception": false,
     "start_time": "2023-01-31T11:54:38.512976",
     "status": "completed"
    },
    "tags": []
   },
   "outputs": [],
   "source": [
    "clusters = MiniBatchKMeans(n_clusters=18, \n",
    "                           init_size=1024, \n",
    "                           batch_size=2048,\n",
    "                           random_state=20).fit_predict(tfidf)"
   ]
  },
  {
   "cell_type": "markdown",
   "id": "315d88d0",
   "metadata": {
    "id": "NlOmZXbKcfp1",
    "papermill": {
     "duration": 0.03479,
     "end_time": "2023-01-31T11:54:38.908118",
     "exception": false,
     "start_time": "2023-01-31T11:54:38.873328",
     "status": "completed"
    },
    "tags": []
   },
   "source": [
    "## Cluster Plot\n",
    "Terdapat dua plot dalam menggambarkan clustering, yaitu plot menggunakan PCA yang lebih baik dalam menangkap struktur global data dan menggunakan TSNE yang lebih baik dalam menangkap hubungan antara tetangga. Keduanya adalah teknik statistik yang teknik statistik yang digunakan untuk membongkar varians atau korelasi antara banyak variabel yang berbeda. Untuk mempercepat proses dengan TSNE, 3.000 dokumen diambil sebagai contoh dan melakukan pengurangan dimensi PCA sebesar 50 pada data tersebut. Selanjutnya turun ke 300 poin."
   ]
  },
  {
   "cell_type": "code",
   "execution_count": 27,
   "id": "6c8c1c3a",
   "metadata": {
    "execution": {
     "iopub.execute_input": "2023-01-31T11:54:38.981306Z",
     "iopub.status.busy": "2023-01-31T11:54:38.980787Z",
     "iopub.status.idle": "2023-01-31T11:55:01.125471Z",
     "shell.execute_reply": "2023-01-31T11:55:01.124263Z"
    },
    "id": "wVlJEuz8cpba",
    "papermill": {
     "duration": 22.183794,
     "end_time": "2023-01-31T11:55:01.127818",
     "exception": false,
     "start_time": "2023-01-31T11:54:38.944024",
     "status": "completed"
    },
    "tags": []
   },
   "outputs": [
    {
     "data": {
      "image/png": "[encoded data removed]",
      "text/plain": [
       "<Figure size 1008x432 with 2 Axes>"
      ]
     },
     "metadata": {
      "needs_background": "light"
     },
     "output_type": "display_data"
    }
   ],
   "source": [
    "def plot_tsne_pca(data, labels):\n",
    "    max_label = max(labels)\n",
    "    max_items = np.random.choice(range(data.shape[0]), size=3000, replace=False)\n",
    "    \n",
    "    pca = PCA(n_components=2).fit_transform(data[max_items,:].todense())\n",
    "    tsne = TSNE().fit_transform(PCA(n_components=50).fit_transform(data[max_items,:].todense()))\n",
    "    \n",
    "    idx = np.random.choice(range(pca.shape[0]), size=300, replace=False)\n",
    "    label_subset = labels[max_items]\n",
    "    label_subset = [cm.hsv(i/max_label) for i in label_subset[idx]]\n",
    "    \n",
    "    f, ax = plt.subplots(1, 2, figsize=(14, 6))\n",
    "    \n",
    "    ax[0].scatter(pca[idx, 0], pca[idx, 1], c=label_subset)\n",
    "    ax[0].set_title('PCA Cluster Plot')\n",
    "    \n",
    "    ax[1].scatter(tsne[idx, 0], tsne[idx, 1], c=label_subset)\n",
    "    ax[1].set_title('TSNE Cluster Plot')\n",
    "    \n",
    "plot_tsne_pca(tfidf, clusters)"
   ]
  },
  {
   "cell_type": "markdown",
   "id": "74b04735",
   "metadata": {
    "id": "cIYwhRyXC2vs",
    "papermill": {
     "duration": 0.0359,
     "end_time": "2023-01-31T11:55:01.200564",
     "exception": false,
     "start_time": "2023-01-31T11:55:01.164664",
     "status": "completed"
    },
    "tags": []
   },
   "source": [
    "## Kata Kunci Teratas\n",
    "Kata kunci teratas akan didapatkan berdasarkan dari skor TFIDF-nya untuk melihat tren. Rata-rata dari setiap dimensi dicari untuk kemudian dikelompokkan berdasarkan cluster. Dengan menggunakan numpy, kata-kata teratas akan ditemukan dengan mengurutkan nilai rata-rata untuk setiap baris, dan mengambil N teratas.\n"
   ]
  },
  {
   "cell_type": "code",
   "execution_count": 28,
   "id": "3306c651",
   "metadata": {
    "execution": {
     "iopub.execute_input": "2023-01-31T11:55:01.275281Z",
     "iopub.status.busy": "2023-01-31T11:55:01.274814Z",
     "iopub.status.idle": "2023-01-31T11:55:01.598938Z",
     "shell.execute_reply": "2023-01-31T11:55:01.596721Z"
    },
    "id": "mD4LoTO5C5et",
    "outputId": "ab398019-9ee7-49d2-968c-f59cc5fce0c8",
    "papermill": {
     "duration": 0.365838,
     "end_time": "2023-01-31T11:55:01.602578",
     "exception": false,
     "start_time": "2023-01-31T11:55:01.236740",
     "status": "completed"
    },
    "tags": []
   },
   "outputs": [
    {
     "name": "stdout",
     "output_type": "stream",
     "text": [
      "Kata Kunci Teratas\n",
      "\n",
      "Cluster 0\n",
      "qual, layanan, malang, penelitian, loyalitas, data, perusahaan, kepuasan, customer, pelanggan\n",
      "\n",
      "Cluster 1\n",
      "suhu, node, air, pengujian, iot, perangkat, robot, data, sistem, sensor\n",
      "\n",
      "Cluster 2\n",
      "hasil, data, perancangan, informasi, fungsional, kebutuhan, bisnis, pengujian, proses, sistem\n",
      "\n",
      "Cluster 3\n",
      "android, metode, perangkat, penelitian, hasil, data, pengguna, sistem, pengujian, aplikasi\n",
      "\n",
      "Cluster 4\n",
      "information, engineering, technology, and, journal, international, siet, jtiik, artikel, dipublikasikan\n",
      "\n",
      "Cluster 5\n",
      "serangan, manet, network, delay, end, packet, jaringan, protokol, routing, node\n",
      "\n",
      "Cluster 6\n",
      "populasi, parameter, gizi, crossover, makanan, optimal, nilai, fitness, genetika, algoritme\n",
      "\n",
      "Cluster 7\n",
      "genre, metode, npc, user, experience, bermain, gim, pemain, permainan, game\n",
      "\n",
      "Cluster 8\n",
      "centered, antarmuka, design, hcd, perbaikan, usability, solusi, evaluasi, pengguna, desain\n",
      "\n",
      "Cluster 9\n",
      "heuristic, antarmuka, efficiency, perbaikan, permasalahan, evaluasi, pengguna, aspek, aplikasi, usability\n",
      "\n",
      "Cluster 10\n",
      "hasil, twitter, sentimen, citra, metode, nilai, akurasi, data, fitur, klasifikasi\n",
      "\n",
      "Cluster 11\n",
      "error, series, fuzzy, metode, nilai, harga, data, mape, peramalan, prediksi\n",
      "\n",
      "Cluster 12\n",
      "pencarian, judul, nilai, precision, mahasiswa, query, teks, skripsi, dokumen, berita\n",
      "\n",
      "Cluster 13\n",
      "hasil, data, metode, sistem, diagnosis, pakar, akurasi, gejala, tanaman, penyakit\n",
      "\n",
      "Cluster 14\n",
      "materi, nilai, kelas, sekolah, hasil, guru, media, belajar, pembelajaran, siswa\n",
      "\n",
      "Cluster 15\n",
      "informatika, jtsiskom, artikel, informasi, teknologi, ilmu, komputer, jtiik, dipublikasikan, jurnal\n",
      "\n",
      "Cluster 16\n",
      "tingkat, risiko, proses, malang, layanan, kota, ti, rekomendasi, informasi, level\n",
      "\n",
      "Cluster 17\n",
      "design, desain, situs, ueq, skala, evaluasi, pengguna, website, experience, user\n"
     ]
    }
   ],
   "source": [
    "def top_keywords(data, clusters, labels, n_terms):\n",
    "    df = pd.DataFrame(data.todense()).groupby(clusters).mean()\n",
    "    \n",
    "    print('Kata Kunci Teratas')\n",
    "    for i, j in df.iterrows():\n",
    "        print('\\nCluster {}'.format(i))\n",
    "        print(', '.join([labels[k] for k in np.argsort(j)[-n_terms:]]))\n",
    "            \n",
    "top_keywords(tfidf, clusters, vectorizer.get_feature_names(), 10)"
   ]
  },
  {
   "cell_type": "markdown",
   "id": "03936346",
   "metadata": {
    "id": "8sG5aVz_PI1T",
    "papermill": {
     "duration": 0.036364,
     "end_time": "2023-01-31T11:55:01.676038",
     "exception": false,
     "start_time": "2023-01-31T11:55:01.639674",
     "status": "completed"
    },
    "tags": []
   },
   "source": [
    "## Hasil Prediksi dari Clustering\n",
    "Kolom cluster akan ditambahkan pada dataframe. Kolom tersebut bernilai tipe data Integer."
   ]
  },
  {
   "cell_type": "markdown",
   "id": "c68a8f5d",
   "metadata": {
    "id": "h-4zlVastlfm",
    "papermill": {
     "duration": 0.036265,
     "end_time": "2023-01-31T11:55:01.748741",
     "exception": false,
     "start_time": "2023-01-31T11:55:01.712476",
     "status": "completed"
    },
    "tags": []
   },
   "source": [
    "### Hasil Dataframe"
   ]
  },
  {
   "cell_type": "code",
   "execution_count": 29,
   "id": "70c990ae",
   "metadata": {
    "execution": {
     "iopub.execute_input": "2023-01-31T11:55:01.823880Z",
     "iopub.status.busy": "2023-01-31T11:55:01.823447Z",
     "iopub.status.idle": "2023-01-31T11:55:02.143778Z",
     "shell.execute_reply": "2023-01-31T11:55:02.142928Z"
    },
    "id": "ifWUcC5iPGj-",
    "outputId": "750ee1fb-adda-474e-a1bc-9f852c179aba",
    "papermill": {
     "duration": 0.360667,
     "end_time": "2023-01-31T11:55:02.146241",
     "exception": false,
     "start_time": "2023-01-31T11:55:01.785574",
     "status": "completed"
    },
    "tags": []
   },
   "outputs": [
    {
     "data": {
      "text/html": [
       "<div>\n",
       "<style scoped>\n",
       "    .dataframe tbody tr th:only-of-type {\n",
       "        vertical-align: middle;\n",
       "    }\n",
       "\n",
       "    .dataframe tbody tr th {\n",
       "        vertical-align: top;\n",
       "    }\n",
       "\n",
       "    .dataframe thead th {\n",
       "        text-align: right;\n",
       "    }\n",
       "</style>\n",
       "<table border=\"1\" class=\"dataframe\">\n",
       "  <thead>\n",
       "    <tr style=\"text-align: right;\">\n",
       "      <th></th>\n",
       "      <th>title</th>\n",
       "      <th>link</th>\n",
       "      <th>date</th>\n",
       "      <th>abstract</th>\n",
       "      <th>author1</th>\n",
       "      <th>institution1</th>\n",
       "      <th>author2</th>\n",
       "      <th>institution2</th>\n",
       "      <th>author3</th>\n",
       "      <th>institution3</th>\n",
       "      <th>cluster</th>\n",
       "    </tr>\n",
       "  </thead>\n",
       "  <tbody>\n",
       "    <tr>\n",
       "      <th>0</th>\n",
       "      <td>Interactive Mixed Reality System Menggunakan ...</td>\n",
       "      <td>https://j-ptiik.ub.ac.id/index.php/j-ptiik/art...</td>\n",
       "      <td>2017-01-03</td>\n",
       "      <td>Teknologi mixed reality akan membuat interaksi...</td>\n",
       "      <td>Aristyo Pramana</td>\n",
       "      <td>Fakultas Ilmu Komputer, Universitas Brawijaya</td>\n",
       "      <td>Eriq Muh. Adams Jonemaro</td>\n",
       "      <td>Fakultas Ilmu Komputer, Universitas Brawijaya</td>\n",
       "      <td>Wibisono Sukmo Wardhono</td>\n",
       "      <td>Fakultas Ilmu Komputer, Universitas Brawijaya</td>\n",
       "      <td>3</td>\n",
       "    </tr>\n",
       "    <tr>\n",
       "      <th>1</th>\n",
       "      <td>Optimasi Penjadwalan Mata Pelajaran Menggunak...</td>\n",
       "      <td>https://j-ptiik.ub.ac.id/index.php/j-ptiik/art...</td>\n",
       "      <td>2017-01-03</td>\n",
       "      <td>Penjadwalan merupakan salah satu proses pentin...</td>\n",
       "      <td>Olive Khoirul L.M.A.</td>\n",
       "      <td>Fakultas Ilmu Komputer, Universitas Brawijaya</td>\n",
       "      <td>Agus Wahyu Widodo</td>\n",
       "      <td>Fakultas Ilmu Komputer, Universitas Brawijaya</td>\n",
       "      <td>Budi Darma Setiawan</td>\n",
       "      <td>Tidak diketahui</td>\n",
       "      <td>6</td>\n",
       "    </tr>\n",
       "    <tr>\n",
       "      <th>2</th>\n",
       "      <td>Pengembangan Push Notification Menggunakan We...</td>\n",
       "      <td>https://j-ptiik.ub.ac.id/index.php/j-ptiik/art...</td>\n",
       "      <td>2017-01-03</td>\n",
       "      <td>Untuk memenuhi kebutuhan masyarakat akan keter...</td>\n",
       "      <td>Andrias Yudianto</td>\n",
       "      <td>Fakultas Ilmu Komputer, Universitas Brawijaya</td>\n",
       "      <td>Eko Sakti Pramukantoro</td>\n",
       "      <td>Fakultas Ilmu Komputer, Universitas Brawijaya</td>\n",
       "      <td>Kasyful Amron</td>\n",
       "      <td>Fakultas Ilmu Komputer, Universitas Brawijaya</td>\n",
       "      <td>1</td>\n",
       "    </tr>\n",
       "    <tr>\n",
       "      <th>3</th>\n",
       "      <td>Pembangunan Sistem Informasi Manajemen Keluha...</td>\n",
       "      <td>https://j-ptiik.ub.ac.id/index.php/j-ptiik/art...</td>\n",
       "      <td>2017-01-03</td>\n",
       "      <td>Perusahaan McDonald’s adalah perusahaan yang b...</td>\n",
       "      <td>Adzanil Rachmadi P</td>\n",
       "      <td>Fakultas Ilmu Komputer, Universitas Brawijaya</td>\n",
       "      <td>Fatwa Ramdani</td>\n",
       "      <td>Fakultas Ilmu Komputer, Universitas Brawijaya</td>\n",
       "      <td>Retno Indah Rokhmawati</td>\n",
       "      <td>Fakultas Ilmu Komputer, Universitas Brawijaya</td>\n",
       "      <td>0</td>\n",
       "    </tr>\n",
       "    <tr>\n",
       "      <th>4</th>\n",
       "      <td>Implementasi Metode Store and Forward Pada Hy...</td>\n",
       "      <td>https://j-ptiik.ub.ac.id/index.php/j-ptiik/art...</td>\n",
       "      <td>2017-01-03</td>\n",
       "      <td>Perkembangan internet saat ini sangat pesat. D...</td>\n",
       "      <td>Muhammad Gigih Wicaksono</td>\n",
       "      <td>Fakultas Ilmu Komputer, Universitas Brawijaya</td>\n",
       "      <td>Aswin Suharsono</td>\n",
       "      <td>Fakultas Ilmu Komputer, Universitas Brawijaya</td>\n",
       "      <td>Adhitya Bhawiyuga</td>\n",
       "      <td>Fakultas Ilmu Komputer, Universitas Brawijaya</td>\n",
       "      <td>5</td>\n",
       "    </tr>\n",
       "  </tbody>\n",
       "</table>\n",
       "</div>"
      ],
      "text/plain": [
       "                                               title  \\\n",
       "0   Interactive Mixed Reality System Menggunakan ...   \n",
       "1   Optimasi Penjadwalan Mata Pelajaran Menggunak...   \n",
       "2   Pengembangan Push Notification Menggunakan We...   \n",
       "3   Pembangunan Sistem Informasi Manajemen Keluha...   \n",
       "4   Implementasi Metode Store and Forward Pada Hy...   \n",
       "\n",
       "                                                link       date  \\\n",
       "0  https://j-ptiik.ub.ac.id/index.php/j-ptiik/art... 2017-01-03   \n",
       "1  https://j-ptiik.ub.ac.id/index.php/j-ptiik/art... 2017-01-03   \n",
       "2  https://j-ptiik.ub.ac.id/index.php/j-ptiik/art... 2017-01-03   \n",
       "3  https://j-ptiik.ub.ac.id/index.php/j-ptiik/art... 2017-01-03   \n",
       "4  https://j-ptiik.ub.ac.id/index.php/j-ptiik/art... 2017-01-03   \n",
       "\n",
       "                                            abstract  \\\n",
       "0  Teknologi mixed reality akan membuat interaksi...   \n",
       "1  Penjadwalan merupakan salah satu proses pentin...   \n",
       "2  Untuk memenuhi kebutuhan masyarakat akan keter...   \n",
       "3  Perusahaan McDonald’s adalah perusahaan yang b...   \n",
       "4  Perkembangan internet saat ini sangat pesat. D...   \n",
       "\n",
       "                    author1                                   institution1  \\\n",
       "0           Aristyo Pramana  Fakultas Ilmu Komputer, Universitas Brawijaya   \n",
       "1      Olive Khoirul L.M.A.  Fakultas Ilmu Komputer, Universitas Brawijaya   \n",
       "2          Andrias Yudianto  Fakultas Ilmu Komputer, Universitas Brawijaya   \n",
       "3        Adzanil Rachmadi P  Fakultas Ilmu Komputer, Universitas Brawijaya   \n",
       "4  Muhammad Gigih Wicaksono  Fakultas Ilmu Komputer, Universitas Brawijaya   \n",
       "\n",
       "                    author2                                   institution2  \\\n",
       "0  Eriq Muh. Adams Jonemaro  Fakultas Ilmu Komputer, Universitas Brawijaya   \n",
       "1         Agus Wahyu Widodo  Fakultas Ilmu Komputer, Universitas Brawijaya   \n",
       "2    Eko Sakti Pramukantoro  Fakultas Ilmu Komputer, Universitas Brawijaya   \n",
       "3             Fatwa Ramdani  Fakultas Ilmu Komputer, Universitas Brawijaya   \n",
       "4           Aswin Suharsono  Fakultas Ilmu Komputer, Universitas Brawijaya   \n",
       "\n",
       "                   author3                                   institution3  \\\n",
       "0  Wibisono Sukmo Wardhono  Fakultas Ilmu Komputer, Universitas Brawijaya   \n",
       "1      Budi Darma Setiawan                                Tidak diketahui   \n",
       "2            Kasyful Amron  Fakultas Ilmu Komputer, Universitas Brawijaya   \n",
       "3   Retno Indah Rokhmawati  Fakultas Ilmu Komputer, Universitas Brawijaya   \n",
       "4        Adhitya Bhawiyuga  Fakultas Ilmu Komputer, Universitas Brawijaya   \n",
       "\n",
       "   cluster  \n",
       "0        3  \n",
       "1        6  \n",
       "2        1  \n",
       "3        0  \n",
       "4        5  "
      ]
     },
     "execution_count": 29,
     "metadata": {},
     "output_type": "execute_result"
    }
   ],
   "source": [
    "kmeans = MiniBatchKMeans(n_clusters=18, \n",
    "                           init_size=1024, \n",
    "                           batch_size=2048,\n",
    "                           random_state=20).fit(tfidf)\n",
    "\n",
    "df['cluster'] = (kmeans.labels_).astype(int)\n",
    "df.head()"
   ]
  },
  {
   "cell_type": "markdown",
   "id": "1209da1d",
   "metadata": {
    "id": "eLzrnGTctoDF",
    "papermill": {
     "duration": 0.036097,
     "end_time": "2023-01-31T11:55:02.218937",
     "exception": false,
     "start_time": "2023-01-31T11:55:02.182840",
     "status": "completed"
    },
    "tags": []
   },
   "source": [
    "### Jumlah Per Cluster"
   ]
  },
  {
   "cell_type": "code",
   "execution_count": 30,
   "id": "feed21fc",
   "metadata": {
    "execution": {
     "iopub.execute_input": "2023-01-31T11:55:02.293869Z",
     "iopub.status.busy": "2023-01-31T11:55:02.293399Z",
     "iopub.status.idle": "2023-01-31T11:55:02.303336Z",
     "shell.execute_reply": "2023-01-31T11:55:02.301849Z"
    },
    "id": "i9hJCS0xtIbZ",
    "outputId": "a5c05053-821d-4a86-b602-37f45615257b",
    "papermill": {
     "duration": 0.050459,
     "end_time": "2023-01-31T11:55:02.305894",
     "exception": false,
     "start_time": "2023-01-31T11:55:02.255435",
     "status": "completed"
    },
    "tags": []
   },
   "outputs": [
    {
     "data": {
      "text/plain": [
       "3     573\n",
       "2     521\n",
       "1     415\n",
       "10    303\n",
       "16    241\n",
       "9     197\n",
       "5     167\n",
       "6     160\n",
       "13    139\n",
       "14    129\n",
       "11    124\n",
       "17    109\n",
       "4     103\n",
       "15     74\n",
       "8      74\n",
       "7      61\n",
       "12     49\n",
       "0      40\n",
       "Name: cluster, dtype: int64"
      ]
     },
     "execution_count": 30,
     "metadata": {},
     "output_type": "execute_result"
    }
   ],
   "source": [
    "df['cluster'].value_counts()"
   ]
  },
  {
   "cell_type": "markdown",
   "id": "b015c122",
   "metadata": {
    "id": "Nqpo4H3QuDN2",
    "papermill": {
     "duration": 0.037656,
     "end_time": "2023-01-31T11:55:02.380505",
     "exception": false,
     "start_time": "2023-01-31T11:55:02.342849",
     "status": "completed"
    },
    "tags": []
   },
   "source": [
    "### Visualisasi Berdasarkan Cluster"
   ]
  },
  {
   "cell_type": "code",
   "execution_count": 31,
   "id": "85c397ac",
   "metadata": {
    "execution": {
     "iopub.execute_input": "2023-01-31T11:55:02.456114Z",
     "iopub.status.busy": "2023-01-31T11:55:02.455624Z",
     "iopub.status.idle": "2023-01-31T11:55:03.016436Z",
     "shell.execute_reply": "2023-01-31T11:55:03.014987Z"
    },
    "id": "2vl31Vp1s6od",
    "outputId": "28758652-169d-4e6b-f412-70dc35176953",
    "papermill": {
     "duration": 0.601774,
     "end_time": "2023-01-31T11:55:03.019176",
     "exception": false,
     "start_time": "2023-01-31T11:55:02.417402",
     "status": "completed"
    },
    "tags": []
   },
   "outputs": [
    {
     "data": {
      "image/png": "[encoded data removed]",
      "text/plain": [
       "<Figure size 720x360 with 1 Axes>"
      ]
     },
     "metadata": {
      "needs_background": "light"
     },
     "output_type": "display_data"
    }
   ],
   "source": [
    "plt.figure(figsize = (10, 5))\n",
    "plt.hist(df['cluster'], bins = 100, range = (1, 100), color = 'red')\n",
    "plt.title('Distribution of Cluster', fontsize = 25, color = 'darkblue')\n",
    "plt.xlabel('Cluster', fontsize = 15, color = 'blue')\n",
    "plt.ylabel('Number of Cluster', fontsize = 15, color = 'blue')\n",
    "plt.xlim(xmin = 0)\n",
    "plt.ylim(ymin = 0)\n",
    "plt.xticks(rotation=70)\n",
    "plt.show()"
   ]
  },
  {
   "cell_type": "markdown",
   "id": "ef886224",
   "metadata": {
    "id": "eBSvQKh3w1lb",
    "papermill": {
     "duration": 0.037248,
     "end_time": "2023-01-31T11:55:03.094931",
     "exception": false,
     "start_time": "2023-01-31T11:55:03.057683",
     "status": "completed"
    },
    "tags": []
   },
   "source": [
    "## Insight\n",
    "Dari bagian Clustering, terdapat beberapa hal yang dapat diketahui:\n",
    "* Nilai k optimal untuk clustering adalah 18 didapatkan melalui dua metode, yaitu elbow method dan silhoutte score\n",
    "* Setelah artikel dikelompokkan menjadi 18 cluster, cluster 3 adalah cluster dengan artikel terbanyak. Cluster 3 berisi seputar aplikasi, metode, perangkat, dan lain sebagainya"
   ]
  },
  {
   "attachments": {
    "4016e093-6ec2-4582-ac3b-8e7b9293bad9.png": {
     "image/png": "[encoded data removed]"
    },
    "91e6925d-f291-40dd-a474-44e4e82aa80e.png": {
     "image/png": "[encoded data removed]"
    }
   },
   "cell_type": "markdown",
   "id": "e97b9cb9",
   "metadata": {
    "id": "tjYJD4dU0isP",
    "papermill": {
     "duration": 0.036857,
     "end_time": "2023-01-31T11:55:03.168813",
     "exception": false,
     "start_time": "2023-01-31T11:55:03.131956",
     "status": "completed"
    },
    "tags": []
   },
   "source": [
    "# 5. Article Recommendations With K-Nearest Neighbor and Cosine Similarity\n",
    "K-Nearest Neighbor (KNN) adalah metode klasifikasi yang menggunakan algoritme komputasi untuk mencari tingkat kemiripan antara data baru dan data yang sudah ada. Algoritma ini mengukur jarak antara data baru dan data yang sudah ada, lalu mencari k data terdekat (k-nearest) dari data baru. Data terdekat tersebut digunakan untuk memprediksi kelas dari data baru. KNN dapat digunakan dalam berbagai bidang, seperti klasifikasi gambar, analisis kredit, dan analisis komputasi lainnya. Berikut adalah rumus K_Nearest Neighbor:\n",
    "\n",
    "![image.png](attachment:4016e093-6ec2-4582-ac3b-8e7b9293bad9.png)\n",
    "\n",
    "Cosine similarity adalah metode untuk mengukur kesamaan antara 2 vektor. Ini dihitung dengan menghitung kosinus antara 2 vektor. Ini khususnya berguna dalam mesin pembelajaran berkomputasi dan pengenalan pola, di mana kita perlu mencari kesamaan antara 2 vektor. Berikut adalah rumus Cosine Similarity:\n",
    "\n",
    "![image.png](attachment:91e6925d-f291-40dd-a474-44e4e82aa80e.png)"
   ]
  },
  {
   "cell_type": "markdown",
   "id": "6f8b6300",
   "metadata": {
    "id": "6E1HFWYQSqU8",
    "papermill": {
     "duration": 0.036876,
     "end_time": "2023-01-31T11:55:03.243008",
     "exception": false,
     "start_time": "2023-01-31T11:55:03.206132",
     "status": "completed"
    },
    "tags": []
   },
   "source": [
    "## Memisahkan Dataframe\n",
    "Kolom title dan abstrak dipisah masing-masing menjadi kedua dataframe yang berbeda. Tujuannya adalah untuk memudahkan pada akhir pembuatan rekomendasi."
   ]
  },
  {
   "cell_type": "markdown",
   "id": "15b38a3f",
   "metadata": {
    "id": "GCWi6ZnZSsgv",
    "papermill": {
     "duration": 0.037901,
     "end_time": "2023-01-31T11:55:03.318439",
     "exception": false,
     "start_time": "2023-01-31T11:55:03.280538",
     "status": "completed"
    },
    "tags": []
   },
   "source": [
    "### Memisahkan Kolom Title"
   ]
  },
  {
   "cell_type": "code",
   "execution_count": 32,
   "id": "38a7fb97",
   "metadata": {
    "execution": {
     "iopub.execute_input": "2023-01-31T11:55:03.396337Z",
     "iopub.status.busy": "2023-01-31T11:55:03.395074Z",
     "iopub.status.idle": "2023-01-31T11:55:03.413338Z",
     "shell.execute_reply": "2023-01-31T11:55:03.412127Z"
    },
    "id": "03WJbCJ1SLiA",
    "outputId": "23664bae-4f78-4844-8504-31e517de6732",
    "papermill": {
     "duration": 0.06005,
     "end_time": "2023-01-31T11:55:03.415630",
     "exception": false,
     "start_time": "2023-01-31T11:55:03.355580",
     "status": "completed"
    },
    "tags": []
   },
   "outputs": [
    {
     "data": {
      "text/html": [
       "<div>\n",
       "<style scoped>\n",
       "    .dataframe tbody tr th:only-of-type {\n",
       "        vertical-align: middle;\n",
       "    }\n",
       "\n",
       "    .dataframe tbody tr th {\n",
       "        vertical-align: top;\n",
       "    }\n",
       "\n",
       "    .dataframe thead th {\n",
       "        text-align: right;\n",
       "    }\n",
       "</style>\n",
       "<table border=\"1\" class=\"dataframe\">\n",
       "  <thead>\n",
       "    <tr style=\"text-align: right;\">\n",
       "      <th></th>\n",
       "      <th>title</th>\n",
       "    </tr>\n",
       "  </thead>\n",
       "  <tbody>\n",
       "    <tr>\n",
       "      <th>0</th>\n",
       "      <td>Interactive Mixed Reality System Menggunakan ...</td>\n",
       "    </tr>\n",
       "    <tr>\n",
       "      <th>1</th>\n",
       "      <td>Optimasi Penjadwalan Mata Pelajaran Menggunak...</td>\n",
       "    </tr>\n",
       "    <tr>\n",
       "      <th>2</th>\n",
       "      <td>Pengembangan Push Notification Menggunakan We...</td>\n",
       "    </tr>\n",
       "    <tr>\n",
       "      <th>3</th>\n",
       "      <td>Pembangunan Sistem Informasi Manajemen Keluha...</td>\n",
       "    </tr>\n",
       "    <tr>\n",
       "      <th>4</th>\n",
       "      <td>Implementasi Metode Store and Forward Pada Hy...</td>\n",
       "    </tr>\n",
       "  </tbody>\n",
       "</table>\n",
       "</div>"
      ],
      "text/plain": [
       "                                               title\n",
       "0   Interactive Mixed Reality System Menggunakan ...\n",
       "1   Optimasi Penjadwalan Mata Pelajaran Menggunak...\n",
       "2   Pengembangan Push Notification Menggunakan We...\n",
       "3   Pembangunan Sistem Informasi Manajemen Keluha...\n",
       "4   Implementasi Metode Store and Forward Pada Hy..."
      ]
     },
     "execution_count": 32,
     "metadata": {},
     "output_type": "execute_result"
    }
   ],
   "source": [
    "titles = df[['title']]\n",
    "titles.head()"
   ]
  },
  {
   "cell_type": "markdown",
   "id": "4f260db1",
   "metadata": {
    "papermill": {
     "duration": 0.037996,
     "end_time": "2023-01-31T11:55:03.491008",
     "exception": false,
     "start_time": "2023-01-31T11:55:03.453012",
     "status": "completed"
    },
    "tags": []
   },
   "source": [
    "### Memisahkan Kolom Abstract"
   ]
  },
  {
   "cell_type": "code",
   "execution_count": 33,
   "id": "1811810f",
   "metadata": {
    "execution": {
     "iopub.execute_input": "2023-01-31T11:55:03.570393Z",
     "iopub.status.busy": "2023-01-31T11:55:03.569453Z",
     "iopub.status.idle": "2023-01-31T11:55:03.661830Z",
     "shell.execute_reply": "2023-01-31T11:55:03.660672Z"
    },
    "papermill": {
     "duration": 0.134615,
     "end_time": "2023-01-31T11:55:03.664592",
     "exception": false,
     "start_time": "2023-01-31T11:55:03.529977",
     "status": "completed"
    },
    "tags": []
   },
   "outputs": [
    {
     "data": {
      "text/html": [
       "<div>\n",
       "<style scoped>\n",
       "    .dataframe tbody tr th:only-of-type {\n",
       "        vertical-align: middle;\n",
       "    }\n",
       "\n",
       "    .dataframe tbody tr th {\n",
       "        vertical-align: top;\n",
       "    }\n",
       "\n",
       "    .dataframe thead th {\n",
       "        text-align: right;\n",
       "    }\n",
       "</style>\n",
       "<table border=\"1\" class=\"dataframe\">\n",
       "  <thead>\n",
       "    <tr style=\"text-align: right;\">\n",
       "      <th></th>\n",
       "      <th>abstract</th>\n",
       "    </tr>\n",
       "  </thead>\n",
       "  <tbody>\n",
       "    <tr>\n",
       "      <th>0</th>\n",
       "      <td>Teknologi mixed reality akan membuat interaksi...</td>\n",
       "    </tr>\n",
       "    <tr>\n",
       "      <th>1</th>\n",
       "      <td>Penjadwalan merupakan salah satu proses pentin...</td>\n",
       "    </tr>\n",
       "    <tr>\n",
       "      <th>2</th>\n",
       "      <td>Untuk memenuhi kebutuhan masyarakat akan keter...</td>\n",
       "    </tr>\n",
       "    <tr>\n",
       "      <th>3</th>\n",
       "      <td>Perusahaan McDonald’s adalah perusahaan yang b...</td>\n",
       "    </tr>\n",
       "    <tr>\n",
       "      <th>4</th>\n",
       "      <td>Perkembangan internet saat ini sangat pesat. D...</td>\n",
       "    </tr>\n",
       "  </tbody>\n",
       "</table>\n",
       "</div>"
      ],
      "text/plain": [
       "                                            abstract\n",
       "0  Teknologi mixed reality akan membuat interaksi...\n",
       "1  Penjadwalan merupakan salah satu proses pentin...\n",
       "2  Untuk memenuhi kebutuhan masyarakat akan keter...\n",
       "3  Perusahaan McDonald’s adalah perusahaan yang b...\n",
       "4  Perkembangan internet saat ini sangat pesat. D..."
      ]
     },
     "execution_count": 33,
     "metadata": {},
     "output_type": "execute_result"
    }
   ],
   "source": [
    "abstracts = df[['abstract']]\n",
    "abstracts.head()"
   ]
  },
  {
   "cell_type": "markdown",
   "id": "ca5164b1",
   "metadata": {
    "id": "_v5MEAJVSutJ",
    "papermill": {
     "duration": 0.037303,
     "end_time": "2023-01-31T11:55:03.739599",
     "exception": false,
     "start_time": "2023-01-31T11:55:03.702296",
     "status": "completed"
    },
    "tags": []
   },
   "source": [
    "## Memilih Feature Engineering\n",
    "Feature engineering adalah proses pemodelan, ekstraksi, dan transformasi fitur (variabel) yang digunakan dalam data mining dan machine learning. Feature engineering adalah proses untuk menciptakan fitur yang dapat meningkatkan akurasi model dan mengurangi kompleksitas. Proses ini melibatkan memilih yang terbaik dari fitur yang tersedia, menciptakan fitur baru, dan memilih metode terbaik untuk menyebarkan data. Kolom yang akan digunakan dalam proses ini adalah author dan cluster."
   ]
  },
  {
   "cell_type": "markdown",
   "id": "2afccd63",
   "metadata": {
    "papermill": {
     "duration": 0.037367,
     "end_time": "2023-01-31T11:55:03.814666",
     "exception": false,
     "start_time": "2023-01-31T11:55:03.777299",
     "status": "completed"
    },
    "tags": []
   },
   "source": [
    "### Memisahkan Kolom Author"
   ]
  },
  {
   "cell_type": "code",
   "execution_count": 34,
   "id": "264c9b91",
   "metadata": {
    "execution": {
     "iopub.execute_input": "2023-01-31T11:55:03.896445Z",
     "iopub.status.busy": "2023-01-31T11:55:03.895976Z",
     "iopub.status.idle": "2023-01-31T11:55:03.910029Z",
     "shell.execute_reply": "2023-01-31T11:55:03.908709Z"
    },
    "id": "_VuQTkWpSi_s",
    "outputId": "2a6755fe-4240-49bd-d98b-37a2eb34e901",
    "papermill": {
     "duration": 0.056738,
     "end_time": "2023-01-31T11:55:03.912328",
     "exception": false,
     "start_time": "2023-01-31T11:55:03.855590",
     "status": "completed"
    },
    "tags": []
   },
   "outputs": [
    {
     "data": {
      "text/html": [
       "<div>\n",
       "<style scoped>\n",
       "    .dataframe tbody tr th:only-of-type {\n",
       "        vertical-align: middle;\n",
       "    }\n",
       "\n",
       "    .dataframe tbody tr th {\n",
       "        vertical-align: top;\n",
       "    }\n",
       "\n",
       "    .dataframe thead th {\n",
       "        text-align: right;\n",
       "    }\n",
       "</style>\n",
       "<table border=\"1\" class=\"dataframe\">\n",
       "  <thead>\n",
       "    <tr style=\"text-align: right;\">\n",
       "      <th></th>\n",
       "      <th>author1</th>\n",
       "      <th>author2</th>\n",
       "      <th>author3</th>\n",
       "    </tr>\n",
       "  </thead>\n",
       "  <tbody>\n",
       "    <tr>\n",
       "      <th>0</th>\n",
       "      <td>Aristyo Pramana</td>\n",
       "      <td>Eriq Muh. Adams Jonemaro</td>\n",
       "      <td>Wibisono Sukmo Wardhono</td>\n",
       "    </tr>\n",
       "    <tr>\n",
       "      <th>1</th>\n",
       "      <td>Olive Khoirul L.M.A.</td>\n",
       "      <td>Agus Wahyu Widodo</td>\n",
       "      <td>Budi Darma Setiawan</td>\n",
       "    </tr>\n",
       "    <tr>\n",
       "      <th>2</th>\n",
       "      <td>Andrias Yudianto</td>\n",
       "      <td>Eko Sakti Pramukantoro</td>\n",
       "      <td>Kasyful Amron</td>\n",
       "    </tr>\n",
       "    <tr>\n",
       "      <th>3</th>\n",
       "      <td>Adzanil Rachmadi P</td>\n",
       "      <td>Fatwa Ramdani</td>\n",
       "      <td>Retno Indah Rokhmawati</td>\n",
       "    </tr>\n",
       "    <tr>\n",
       "      <th>4</th>\n",
       "      <td>Muhammad Gigih Wicaksono</td>\n",
       "      <td>Aswin Suharsono</td>\n",
       "      <td>Adhitya Bhawiyuga</td>\n",
       "    </tr>\n",
       "  </tbody>\n",
       "</table>\n",
       "</div>"
      ],
      "text/plain": [
       "                    author1                   author2                  author3\n",
       "0           Aristyo Pramana  Eriq Muh. Adams Jonemaro  Wibisono Sukmo Wardhono\n",
       "1      Olive Khoirul L.M.A.         Agus Wahyu Widodo      Budi Darma Setiawan\n",
       "2          Andrias Yudianto    Eko Sakti Pramukantoro            Kasyful Amron\n",
       "3        Adzanil Rachmadi P             Fatwa Ramdani   Retno Indah Rokhmawati\n",
       "4  Muhammad Gigih Wicaksono           Aswin Suharsono        Adhitya Bhawiyuga"
      ]
     },
     "execution_count": 34,
     "metadata": {},
     "output_type": "execute_result"
    }
   ],
   "source": [
    "recom_auth = df[['author1', 'author2', 'author3']]\n",
    "recom_auth.head()"
   ]
  },
  {
   "cell_type": "markdown",
   "id": "a1590bc5",
   "metadata": {
    "papermill": {
     "duration": 0.038201,
     "end_time": "2023-01-31T11:55:03.989529",
     "exception": false,
     "start_time": "2023-01-31T11:55:03.951328",
     "status": "completed"
    },
    "tags": []
   },
   "source": [
    "### Membuat ID Untuk Author\n",
    "Pembuatan ID bertujuan untuk label identitas pada setiap author memudahkan proses selanjutnya, yaitu feature scaling."
   ]
  },
  {
   "cell_type": "code",
   "execution_count": 35,
   "id": "381ab02a",
   "metadata": {
    "execution": {
     "iopub.execute_input": "2023-01-31T11:55:04.067845Z",
     "iopub.status.busy": "2023-01-31T11:55:04.067280Z",
     "iopub.status.idle": "2023-01-31T11:55:04.086940Z",
     "shell.execute_reply": "2023-01-31T11:55:04.085811Z"
    },
    "id": "t4oSP07UVF-g",
    "outputId": "49ab1e7f-5981-4cdd-ce6e-a4a2ca783859",
    "papermill": {
     "duration": 0.061778,
     "end_time": "2023-01-31T11:55:04.089421",
     "exception": false,
     "start_time": "2023-01-31T11:55:04.027643",
     "status": "completed"
    },
    "tags": []
   },
   "outputs": [
    {
     "data": {
      "text/html": [
       "<div>\n",
       "<style scoped>\n",
       "    .dataframe tbody tr th:only-of-type {\n",
       "        vertical-align: middle;\n",
       "    }\n",
       "\n",
       "    .dataframe tbody tr th {\n",
       "        vertical-align: top;\n",
       "    }\n",
       "\n",
       "    .dataframe thead th {\n",
       "        text-align: right;\n",
       "    }\n",
       "</style>\n",
       "<table border=\"1\" class=\"dataframe\">\n",
       "  <thead>\n",
       "    <tr style=\"text-align: right;\">\n",
       "      <th></th>\n",
       "      <th>author</th>\n",
       "      <th>id</th>\n",
       "    </tr>\n",
       "  </thead>\n",
       "  <tbody>\n",
       "    <tr>\n",
       "      <th>0</th>\n",
       "      <td>Aristyo Pramana</td>\n",
       "      <td>1</td>\n",
       "    </tr>\n",
       "    <tr>\n",
       "      <th>1</th>\n",
       "      <td>Olive Khoirul L.M.A.</td>\n",
       "      <td>2</td>\n",
       "    </tr>\n",
       "    <tr>\n",
       "      <th>2</th>\n",
       "      <td>Andrias Yudianto</td>\n",
       "      <td>3</td>\n",
       "    </tr>\n",
       "    <tr>\n",
       "      <th>3</th>\n",
       "      <td>Adzanil Rachmadi P</td>\n",
       "      <td>4</td>\n",
       "    </tr>\n",
       "    <tr>\n",
       "      <th>4</th>\n",
       "      <td>Muhammad Gigih Wicaksono</td>\n",
       "      <td>5</td>\n",
       "    </tr>\n",
       "  </tbody>\n",
       "</table>\n",
       "</div>"
      ],
      "text/plain": [
       "                     author  id\n",
       "0           Aristyo Pramana   1\n",
       "1      Olive Khoirul L.M.A.   2\n",
       "2          Andrias Yudianto   3\n",
       "3        Adzanil Rachmadi P   4\n",
       "4  Muhammad Gigih Wicaksono   5"
      ]
     },
     "execution_count": 35,
     "metadata": {},
     "output_type": "execute_result"
    }
   ],
   "source": [
    "authors = {'author' : df['author1'].append(df['author2']).append(df['author3']).reset_index(drop=True)}\n",
    "authors = pd.DataFrame(authors)\n",
    "\n",
    "arr_auth = []\n",
    "arr_auth = authors['author'].unique()\n",
    "\n",
    "auth = pd.DataFrame(arr_auth, columns = ['author'])\n",
    "lst = np.arange(1, 3681).tolist()\n",
    "auth['id'] = lst\n",
    "\n",
    "auth.head()"
   ]
  },
  {
   "cell_type": "code",
   "execution_count": 36,
   "id": "d0f0d26d",
   "metadata": {
    "execution": {
     "iopub.execute_input": "2023-01-31T11:55:04.168021Z",
     "iopub.status.busy": "2023-01-31T11:55:04.167256Z",
     "iopub.status.idle": "2023-01-31T11:55:05.786945Z",
     "shell.execute_reply": "2023-01-31T11:55:05.785405Z"
    },
    "id": "RyODWarObErN",
    "outputId": "ec425c70-9c05-4a77-c3da-df1eaa7c2df4",
    "papermill": {
     "duration": 1.662608,
     "end_time": "2023-01-31T11:55:05.790081",
     "exception": false,
     "start_time": "2023-01-31T11:55:04.127473",
     "status": "completed"
    },
    "tags": []
   },
   "outputs": [
    {
     "data": {
      "text/html": [
       "<div>\n",
       "<style scoped>\n",
       "    .dataframe tbody tr th:only-of-type {\n",
       "        vertical-align: middle;\n",
       "    }\n",
       "\n",
       "    .dataframe tbody tr th {\n",
       "        vertical-align: top;\n",
       "    }\n",
       "\n",
       "    .dataframe thead th {\n",
       "        text-align: right;\n",
       "    }\n",
       "</style>\n",
       "<table border=\"1\" class=\"dataframe\">\n",
       "  <thead>\n",
       "    <tr style=\"text-align: right;\">\n",
       "      <th></th>\n",
       "      <th>id1</th>\n",
       "      <th>id2</th>\n",
       "      <th>id3</th>\n",
       "    </tr>\n",
       "  </thead>\n",
       "  <tbody>\n",
       "    <tr>\n",
       "      <th>0</th>\n",
       "      <td>1</td>\n",
       "      <td>3474</td>\n",
       "      <td>3522</td>\n",
       "    </tr>\n",
       "    <tr>\n",
       "      <th>1</th>\n",
       "      <td>1</td>\n",
       "      <td>3474</td>\n",
       "      <td>3522</td>\n",
       "    </tr>\n",
       "    <tr>\n",
       "      <th>2</th>\n",
       "      <td>1</td>\n",
       "      <td>3474</td>\n",
       "      <td>3522</td>\n",
       "    </tr>\n",
       "    <tr>\n",
       "      <th>3</th>\n",
       "      <td>1</td>\n",
       "      <td>3474</td>\n",
       "      <td>3522</td>\n",
       "    </tr>\n",
       "    <tr>\n",
       "      <th>4</th>\n",
       "      <td>1</td>\n",
       "      <td>3474</td>\n",
       "      <td>3522</td>\n",
       "    </tr>\n",
       "  </tbody>\n",
       "</table>\n",
       "</div>"
      ],
      "text/plain": [
       "   id1   id2   id3\n",
       "0    1  3474  3522\n",
       "1    1  3474  3522\n",
       "2    1  3474  3522\n",
       "3    1  3474  3522\n",
       "4    1  3474  3522"
      ]
     },
     "execution_count": 36,
     "metadata": {},
     "output_type": "execute_result"
    }
   ],
   "source": [
    "author1 = df[['author1']]\n",
    "auth = auth.rename(columns = {'author': 'author1', 'id' : 'id1'}, inplace = False)\n",
    "df1 = pd.merge(author1, auth)\n",
    "\n",
    "recom_auth = pd.merge(recom_auth, df1)\n",
    "recom_auth = recom_auth.drop('author1', axis=1)\n",
    "\n",
    "author2 = df[['author2']]\n",
    "auth = auth.rename(columns = {'author1': 'author2', 'id1' : 'id2'}, inplace = False)\n",
    "df2 = pd.merge(author2, auth)\n",
    "\n",
    "recom_auth = pd.merge(recom_auth, df2)\n",
    "recom_auth = recom_auth.drop('author2', axis=1)\n",
    "\n",
    "author3 = df[['author3']]\n",
    "auth = auth.rename(columns = {'author2': 'author3', 'id2' : 'id3'}, inplace = False)\n",
    "df3 = pd.merge(author3, auth)\n",
    "\n",
    "recom_auth = pd.merge(recom_auth, df3)\n",
    "recom_auth = recom_auth.drop('author3', axis=1)\n",
    "\n",
    "recom_auth.head()"
   ]
  },
  {
   "cell_type": "markdown",
   "id": "4efd51a5",
   "metadata": {
    "papermill": {
     "duration": 0.037907,
     "end_time": "2023-01-31T11:55:05.867550",
     "exception": false,
     "start_time": "2023-01-31T11:55:05.829643",
     "status": "completed"
    },
    "tags": []
   },
   "source": [
    "## Feature Scaling\n",
    "Feature scaling adalah teknik yang digunakan untuk mengatur nilai dari sejumlah fitur atribut data yang berbeda menjadi skala yang sama. Teknik ini berguna untuk mempercepat komputasi algoritma yang dijalankan pada suatu data. Ini juga membantu mengurangi dimensi data dan meminimalkan efek dari variabel yang terlalu besar atau terlalu kecil. Teknik ini diterapkan pada dataframe author yang sudah dibagi menjadi nilai yang berbeda sesuai ID."
   ]
  },
  {
   "cell_type": "code",
   "execution_count": 37,
   "id": "453bc7b4",
   "metadata": {
    "execution": {
     "iopub.execute_input": "2023-01-31T11:55:05.945365Z",
     "iopub.status.busy": "2023-01-31T11:55:05.944887Z",
     "iopub.status.idle": "2023-01-31T11:55:07.233932Z",
     "shell.execute_reply": "2023-01-31T11:55:07.232589Z"
    },
    "id": "kG7x4w4gkpCU",
    "papermill": {
     "duration": 1.333087,
     "end_time": "2023-01-31T11:55:07.238351",
     "exception": false,
     "start_time": "2023-01-31T11:55:05.905264",
     "status": "completed"
    },
    "tags": []
   },
   "outputs": [
    {
     "data": {
      "text/html": [
       "<div>\n",
       "<style scoped>\n",
       "    .dataframe tbody tr th:only-of-type {\n",
       "        vertical-align: middle;\n",
       "    }\n",
       "\n",
       "    .dataframe tbody tr th {\n",
       "        vertical-align: top;\n",
       "    }\n",
       "\n",
       "    .dataframe thead th {\n",
       "        text-align: right;\n",
       "    }\n",
       "</style>\n",
       "<table border=\"1\" class=\"dataframe\">\n",
       "  <thead>\n",
       "    <tr style=\"text-align: right;\">\n",
       "      <th></th>\n",
       "      <th>id1</th>\n",
       "      <th>id2</th>\n",
       "      <th>id3</th>\n",
       "      <th>title</th>\n",
       "    </tr>\n",
       "  </thead>\n",
       "  <tbody>\n",
       "    <tr>\n",
       "      <th>0</th>\n",
       "      <td>0.0</td>\n",
       "      <td>0.909714</td>\n",
       "      <td>0.905219</td>\n",
       "      <td>Interactive Mixed Reality System Menggunakan ...</td>\n",
       "    </tr>\n",
       "    <tr>\n",
       "      <th>1</th>\n",
       "      <td>0.0</td>\n",
       "      <td>0.909714</td>\n",
       "      <td>0.905219</td>\n",
       "      <td>Optimasi Penjadwalan Mata Pelajaran Menggunak...</td>\n",
       "    </tr>\n",
       "    <tr>\n",
       "      <th>2</th>\n",
       "      <td>0.0</td>\n",
       "      <td>0.909714</td>\n",
       "      <td>0.905219</td>\n",
       "      <td>Pengembangan Push Notification Menggunakan We...</td>\n",
       "    </tr>\n",
       "    <tr>\n",
       "      <th>3</th>\n",
       "      <td>0.0</td>\n",
       "      <td>0.909714</td>\n",
       "      <td>0.905219</td>\n",
       "      <td>Pembangunan Sistem Informasi Manajemen Keluha...</td>\n",
       "    </tr>\n",
       "    <tr>\n",
       "      <th>4</th>\n",
       "      <td>0.0</td>\n",
       "      <td>0.909714</td>\n",
       "      <td>0.905219</td>\n",
       "      <td>Implementasi Metode Store and Forward Pada Hy...</td>\n",
       "    </tr>\n",
       "  </tbody>\n",
       "</table>\n",
       "</div>"
      ],
      "text/plain": [
       "   id1       id2       id3                                              title\n",
       "0  0.0  0.909714  0.905219   Interactive Mixed Reality System Menggunakan ...\n",
       "1  0.0  0.909714  0.905219   Optimasi Penjadwalan Mata Pelajaran Menggunak...\n",
       "2  0.0  0.909714  0.905219   Pengembangan Push Notification Menggunakan We...\n",
       "3  0.0  0.909714  0.905219   Pembangunan Sistem Informasi Manajemen Keluha...\n",
       "4  0.0  0.909714  0.905219   Implementasi Metode Store and Forward Pada Hy..."
      ]
     },
     "execution_count": 37,
     "metadata": {},
     "output_type": "execute_result"
    }
   ],
   "source": [
    "scale = MinMaxScaler()\n",
    "scalled = scale.fit_transform(recom_auth)\n",
    "\n",
    "i=0\n",
    "for col in recom_auth.columns:\n",
    "    recom_auth[col] = scalled[:,i]\n",
    "    i += 1\n",
    "\n",
    "recom_auth['title'] = df['title']\n",
    "recom_auth.head() "
   ]
  },
  {
   "cell_type": "markdown",
   "id": "60e90cda",
   "metadata": {
    "papermill": {
     "duration": 0.040826,
     "end_time": "2023-01-31T11:55:07.331813",
     "exception": false,
     "start_time": "2023-01-31T11:55:07.290987",
     "status": "completed"
    },
    "tags": []
   },
   "source": [
    "## One Hot Encoding\n",
    "One Hot Encoding adalah teknik konversi data kategorikal menjadi representasi vektor. Teknik ini mengubah setiap nilai unik dari kolom kategorikal menjadi sebuah kolom binari dengan nilai 1 atau 0. Untuk masing-masing nilai unik kolom, sebuah kolom baru dibuat dengan nilai 1 di baris tertentu yang menunjukkan nilai unik itu. Ini berguna ketika memprediksi kelas dari data kategorikal dengan algoritma ML. Dataframe cluster akan dikonversi menjadi kolom binari."
   ]
  },
  {
   "cell_type": "code",
   "execution_count": 38,
   "id": "6948e0c7",
   "metadata": {
    "execution": {
     "iopub.execute_input": "2023-01-31T11:55:07.414143Z",
     "iopub.status.busy": "2023-01-31T11:55:07.413624Z",
     "iopub.status.idle": "2023-01-31T11:55:07.433529Z",
     "shell.execute_reply": "2023-01-31T11:55:07.432357Z"
    },
    "papermill": {
     "duration": 0.063494,
     "end_time": "2023-01-31T11:55:07.435864",
     "exception": false,
     "start_time": "2023-01-31T11:55:07.372370",
     "status": "completed"
    },
    "tags": []
   },
   "outputs": [
    {
     "data": {
      "text/html": [
       "<div>\n",
       "<style scoped>\n",
       "    .dataframe tbody tr th:only-of-type {\n",
       "        vertical-align: middle;\n",
       "    }\n",
       "\n",
       "    .dataframe tbody tr th {\n",
       "        vertical-align: top;\n",
       "    }\n",
       "\n",
       "    .dataframe thead th {\n",
       "        text-align: right;\n",
       "    }\n",
       "</style>\n",
       "<table border=\"1\" class=\"dataframe\">\n",
       "  <thead>\n",
       "    <tr style=\"text-align: right;\">\n",
       "      <th></th>\n",
       "      <th>1</th>\n",
       "      <th>2</th>\n",
       "      <th>3</th>\n",
       "      <th>4</th>\n",
       "      <th>5</th>\n",
       "      <th>6</th>\n",
       "      <th>7</th>\n",
       "      <th>8</th>\n",
       "      <th>9</th>\n",
       "      <th>10</th>\n",
       "      <th>11</th>\n",
       "      <th>12</th>\n",
       "      <th>13</th>\n",
       "      <th>14</th>\n",
       "      <th>15</th>\n",
       "      <th>16</th>\n",
       "      <th>17</th>\n",
       "      <th>title</th>\n",
       "    </tr>\n",
       "  </thead>\n",
       "  <tbody>\n",
       "    <tr>\n",
       "      <th>0</th>\n",
       "      <td>0</td>\n",
       "      <td>0</td>\n",
       "      <td>1</td>\n",
       "      <td>0</td>\n",
       "      <td>0</td>\n",
       "      <td>0</td>\n",
       "      <td>0</td>\n",
       "      <td>0</td>\n",
       "      <td>0</td>\n",
       "      <td>0</td>\n",
       "      <td>0</td>\n",
       "      <td>0</td>\n",
       "      <td>0</td>\n",
       "      <td>0</td>\n",
       "      <td>0</td>\n",
       "      <td>0</td>\n",
       "      <td>0</td>\n",
       "      <td>Interactive Mixed Reality System Menggunakan ...</td>\n",
       "    </tr>\n",
       "    <tr>\n",
       "      <th>1</th>\n",
       "      <td>0</td>\n",
       "      <td>0</td>\n",
       "      <td>0</td>\n",
       "      <td>0</td>\n",
       "      <td>0</td>\n",
       "      <td>1</td>\n",
       "      <td>0</td>\n",
       "      <td>0</td>\n",
       "      <td>0</td>\n",
       "      <td>0</td>\n",
       "      <td>0</td>\n",
       "      <td>0</td>\n",
       "      <td>0</td>\n",
       "      <td>0</td>\n",
       "      <td>0</td>\n",
       "      <td>0</td>\n",
       "      <td>0</td>\n",
       "      <td>Optimasi Penjadwalan Mata Pelajaran Menggunak...</td>\n",
       "    </tr>\n",
       "    <tr>\n",
       "      <th>2</th>\n",
       "      <td>1</td>\n",
       "      <td>0</td>\n",
       "      <td>0</td>\n",
       "      <td>0</td>\n",
       "      <td>0</td>\n",
       "      <td>0</td>\n",
       "      <td>0</td>\n",
       "      <td>0</td>\n",
       "      <td>0</td>\n",
       "      <td>0</td>\n",
       "      <td>0</td>\n",
       "      <td>0</td>\n",
       "      <td>0</td>\n",
       "      <td>0</td>\n",
       "      <td>0</td>\n",
       "      <td>0</td>\n",
       "      <td>0</td>\n",
       "      <td>Pengembangan Push Notification Menggunakan We...</td>\n",
       "    </tr>\n",
       "    <tr>\n",
       "      <th>3</th>\n",
       "      <td>0</td>\n",
       "      <td>0</td>\n",
       "      <td>0</td>\n",
       "      <td>0</td>\n",
       "      <td>0</td>\n",
       "      <td>0</td>\n",
       "      <td>0</td>\n",
       "      <td>0</td>\n",
       "      <td>0</td>\n",
       "      <td>0</td>\n",
       "      <td>0</td>\n",
       "      <td>0</td>\n",
       "      <td>0</td>\n",
       "      <td>0</td>\n",
       "      <td>0</td>\n",
       "      <td>0</td>\n",
       "      <td>0</td>\n",
       "      <td>Pembangunan Sistem Informasi Manajemen Keluha...</td>\n",
       "    </tr>\n",
       "    <tr>\n",
       "      <th>4</th>\n",
       "      <td>0</td>\n",
       "      <td>0</td>\n",
       "      <td>0</td>\n",
       "      <td>0</td>\n",
       "      <td>1</td>\n",
       "      <td>0</td>\n",
       "      <td>0</td>\n",
       "      <td>0</td>\n",
       "      <td>0</td>\n",
       "      <td>0</td>\n",
       "      <td>0</td>\n",
       "      <td>0</td>\n",
       "      <td>0</td>\n",
       "      <td>0</td>\n",
       "      <td>0</td>\n",
       "      <td>0</td>\n",
       "      <td>0</td>\n",
       "      <td>Implementasi Metode Store and Forward Pada Hy...</td>\n",
       "    </tr>\n",
       "  </tbody>\n",
       "</table>\n",
       "</div>"
      ],
      "text/plain": [
       "   1  2  3  4  5  6  7  8  9  10  11  12  13  14  15  16  17  \\\n",
       "0  0  0  1  0  0  0  0  0  0   0   0   0   0   0   0   0   0   \n",
       "1  0  0  0  0  0  1  0  0  0   0   0   0   0   0   0   0   0   \n",
       "2  1  0  0  0  0  0  0  0  0   0   0   0   0   0   0   0   0   \n",
       "3  0  0  0  0  0  0  0  0  0   0   0   0   0   0   0   0   0   \n",
       "4  0  0  0  0  1  0  0  0  0   0   0   0   0   0   0   0   0   \n",
       "\n",
       "                                               title  \n",
       "0   Interactive Mixed Reality System Menggunakan ...  \n",
       "1   Optimasi Penjadwalan Mata Pelajaran Menggunak...  \n",
       "2   Pengembangan Push Notification Menggunakan We...  \n",
       "3   Pembangunan Sistem Informasi Manajemen Keluha...  \n",
       "4   Implementasi Metode Store and Forward Pada Hy...  "
      ]
     },
     "execution_count": 38,
     "metadata": {},
     "output_type": "execute_result"
    }
   ],
   "source": [
    "dummies = pd.get_dummies(df['cluster'], drop_first=True)\n",
    "dummies['title'] = df['title']\n",
    "dummies.head()"
   ]
  },
  {
   "cell_type": "markdown",
   "id": "e2820e14",
   "metadata": {
    "papermill": {
     "duration": 0.038365,
     "end_time": "2023-01-31T11:55:07.513872",
     "exception": false,
     "start_time": "2023-01-31T11:55:07.475507",
     "status": "completed"
    },
    "tags": []
   },
   "source": [
    "## Merge Dataframe\n",
    "Kedua dataframe, yaitu author dan cluster akan digabungkan menjadi satu dataframe."
   ]
  },
  {
   "cell_type": "code",
   "execution_count": 39,
   "id": "58434e4b",
   "metadata": {
    "execution": {
     "iopub.execute_input": "2023-01-31T11:55:07.592807Z",
     "iopub.status.busy": "2023-01-31T11:55:07.592342Z",
     "iopub.status.idle": "2023-01-31T11:55:08.425328Z",
     "shell.execute_reply": "2023-01-31T11:55:08.424011Z"
    },
    "papermill": {
     "duration": 0.875596,
     "end_time": "2023-01-31T11:55:08.427875",
     "exception": false,
     "start_time": "2023-01-31T11:55:07.552279",
     "status": "completed"
    },
    "tags": []
   },
   "outputs": [
    {
     "data": {
      "text/html": [
       "<div>\n",
       "<style scoped>\n",
       "    .dataframe tbody tr th:only-of-type {\n",
       "        vertical-align: middle;\n",
       "    }\n",
       "\n",
       "    .dataframe tbody tr th {\n",
       "        vertical-align: top;\n",
       "    }\n",
       "\n",
       "    .dataframe thead th {\n",
       "        text-align: right;\n",
       "    }\n",
       "</style>\n",
       "<table border=\"1\" class=\"dataframe\">\n",
       "  <thead>\n",
       "    <tr style=\"text-align: right;\">\n",
       "      <th></th>\n",
       "      <th>id1</th>\n",
       "      <th>id2</th>\n",
       "      <th>id3</th>\n",
       "      <th>1</th>\n",
       "      <th>2</th>\n",
       "      <th>3</th>\n",
       "      <th>4</th>\n",
       "      <th>5</th>\n",
       "      <th>6</th>\n",
       "      <th>7</th>\n",
       "      <th>8</th>\n",
       "      <th>9</th>\n",
       "      <th>10</th>\n",
       "      <th>11</th>\n",
       "      <th>12</th>\n",
       "      <th>13</th>\n",
       "      <th>14</th>\n",
       "      <th>15</th>\n",
       "      <th>16</th>\n",
       "      <th>17</th>\n",
       "    </tr>\n",
       "  </thead>\n",
       "  <tbody>\n",
       "    <tr>\n",
       "      <th>0</th>\n",
       "      <td>0.000000</td>\n",
       "      <td>0.909714</td>\n",
       "      <td>0.905219</td>\n",
       "      <td>0</td>\n",
       "      <td>0</td>\n",
       "      <td>1</td>\n",
       "      <td>0</td>\n",
       "      <td>0</td>\n",
       "      <td>0</td>\n",
       "      <td>0</td>\n",
       "      <td>0</td>\n",
       "      <td>0</td>\n",
       "      <td>0</td>\n",
       "      <td>0</td>\n",
       "      <td>0</td>\n",
       "      <td>0</td>\n",
       "      <td>0</td>\n",
       "      <td>0</td>\n",
       "      <td>0</td>\n",
       "      <td>0</td>\n",
       "    </tr>\n",
       "    <tr>\n",
       "      <th>1</th>\n",
       "      <td>0.000000</td>\n",
       "      <td>0.909714</td>\n",
       "      <td>0.905219</td>\n",
       "      <td>0</td>\n",
       "      <td>0</td>\n",
       "      <td>0</td>\n",
       "      <td>0</td>\n",
       "      <td>0</td>\n",
       "      <td>1</td>\n",
       "      <td>0</td>\n",
       "      <td>0</td>\n",
       "      <td>0</td>\n",
       "      <td>0</td>\n",
       "      <td>0</td>\n",
       "      <td>0</td>\n",
       "      <td>0</td>\n",
       "      <td>0</td>\n",
       "      <td>0</td>\n",
       "      <td>0</td>\n",
       "      <td>0</td>\n",
       "    </tr>\n",
       "    <tr>\n",
       "      <th>2</th>\n",
       "      <td>0.000000</td>\n",
       "      <td>0.909714</td>\n",
       "      <td>0.905219</td>\n",
       "      <td>1</td>\n",
       "      <td>0</td>\n",
       "      <td>0</td>\n",
       "      <td>0</td>\n",
       "      <td>0</td>\n",
       "      <td>0</td>\n",
       "      <td>0</td>\n",
       "      <td>0</td>\n",
       "      <td>0</td>\n",
       "      <td>0</td>\n",
       "      <td>0</td>\n",
       "      <td>0</td>\n",
       "      <td>0</td>\n",
       "      <td>0</td>\n",
       "      <td>0</td>\n",
       "      <td>0</td>\n",
       "      <td>0</td>\n",
       "    </tr>\n",
       "    <tr>\n",
       "      <th>3</th>\n",
       "      <td>0.000000</td>\n",
       "      <td>0.909714</td>\n",
       "      <td>0.905219</td>\n",
       "      <td>0</td>\n",
       "      <td>0</td>\n",
       "      <td>0</td>\n",
       "      <td>0</td>\n",
       "      <td>0</td>\n",
       "      <td>0</td>\n",
       "      <td>0</td>\n",
       "      <td>0</td>\n",
       "      <td>0</td>\n",
       "      <td>0</td>\n",
       "      <td>0</td>\n",
       "      <td>0</td>\n",
       "      <td>0</td>\n",
       "      <td>0</td>\n",
       "      <td>0</td>\n",
       "      <td>0</td>\n",
       "      <td>0</td>\n",
       "    </tr>\n",
       "    <tr>\n",
       "      <th>4</th>\n",
       "      <td>0.000000</td>\n",
       "      <td>0.909714</td>\n",
       "      <td>0.905219</td>\n",
       "      <td>0</td>\n",
       "      <td>0</td>\n",
       "      <td>0</td>\n",
       "      <td>0</td>\n",
       "      <td>1</td>\n",
       "      <td>0</td>\n",
       "      <td>0</td>\n",
       "      <td>0</td>\n",
       "      <td>0</td>\n",
       "      <td>0</td>\n",
       "      <td>0</td>\n",
       "      <td>0</td>\n",
       "      <td>0</td>\n",
       "      <td>0</td>\n",
       "      <td>0</td>\n",
       "      <td>0</td>\n",
       "      <td>0</td>\n",
       "    </tr>\n",
       "    <tr>\n",
       "      <th>...</th>\n",
       "      <td>...</td>\n",
       "      <td>...</td>\n",
       "      <td>...</td>\n",
       "      <td>...</td>\n",
       "      <td>...</td>\n",
       "      <td>...</td>\n",
       "      <td>...</td>\n",
       "      <td>...</td>\n",
       "      <td>...</td>\n",
       "      <td>...</td>\n",
       "      <td>...</td>\n",
       "      <td>...</td>\n",
       "      <td>...</td>\n",
       "      <td>...</td>\n",
       "      <td>...</td>\n",
       "      <td>...</td>\n",
       "      <td>...</td>\n",
       "      <td>...</td>\n",
       "      <td>...</td>\n",
       "      <td>...</td>\n",
       "    </tr>\n",
       "    <tr>\n",
       "      <th>3474</th>\n",
       "      <td>0.023906</td>\n",
       "      <td>0.927771</td>\n",
       "      <td>0.905219</td>\n",
       "      <td>0</td>\n",
       "      <td>0</td>\n",
       "      <td>0</td>\n",
       "      <td>0</td>\n",
       "      <td>0</td>\n",
       "      <td>0</td>\n",
       "      <td>0</td>\n",
       "      <td>0</td>\n",
       "      <td>0</td>\n",
       "      <td>0</td>\n",
       "      <td>0</td>\n",
       "      <td>0</td>\n",
       "      <td>0</td>\n",
       "      <td>0</td>\n",
       "      <td>0</td>\n",
       "      <td>1</td>\n",
       "      <td>0</td>\n",
       "    </tr>\n",
       "    <tr>\n",
       "      <th>3475</th>\n",
       "      <td>0.023906</td>\n",
       "      <td>0.927771</td>\n",
       "      <td>0.905219</td>\n",
       "      <td>0</td>\n",
       "      <td>1</td>\n",
       "      <td>0</td>\n",
       "      <td>0</td>\n",
       "      <td>0</td>\n",
       "      <td>0</td>\n",
       "      <td>0</td>\n",
       "      <td>0</td>\n",
       "      <td>0</td>\n",
       "      <td>0</td>\n",
       "      <td>0</td>\n",
       "      <td>0</td>\n",
       "      <td>0</td>\n",
       "      <td>0</td>\n",
       "      <td>0</td>\n",
       "      <td>0</td>\n",
       "      <td>0</td>\n",
       "    </tr>\n",
       "    <tr>\n",
       "      <th>3476</th>\n",
       "      <td>0.023906</td>\n",
       "      <td>0.927771</td>\n",
       "      <td>0.905219</td>\n",
       "      <td>0</td>\n",
       "      <td>0</td>\n",
       "      <td>0</td>\n",
       "      <td>0</td>\n",
       "      <td>0</td>\n",
       "      <td>0</td>\n",
       "      <td>0</td>\n",
       "      <td>0</td>\n",
       "      <td>0</td>\n",
       "      <td>1</td>\n",
       "      <td>0</td>\n",
       "      <td>0</td>\n",
       "      <td>0</td>\n",
       "      <td>0</td>\n",
       "      <td>0</td>\n",
       "      <td>0</td>\n",
       "      <td>0</td>\n",
       "    </tr>\n",
       "    <tr>\n",
       "      <th>3477</th>\n",
       "      <td>0.023906</td>\n",
       "      <td>0.927771</td>\n",
       "      <td>0.905219</td>\n",
       "      <td>0</td>\n",
       "      <td>0</td>\n",
       "      <td>0</td>\n",
       "      <td>0</td>\n",
       "      <td>1</td>\n",
       "      <td>0</td>\n",
       "      <td>0</td>\n",
       "      <td>0</td>\n",
       "      <td>0</td>\n",
       "      <td>0</td>\n",
       "      <td>0</td>\n",
       "      <td>0</td>\n",
       "      <td>0</td>\n",
       "      <td>0</td>\n",
       "      <td>0</td>\n",
       "      <td>0</td>\n",
       "      <td>0</td>\n",
       "    </tr>\n",
       "    <tr>\n",
       "      <th>3478</th>\n",
       "      <td>0.023906</td>\n",
       "      <td>0.927771</td>\n",
       "      <td>0.905219</td>\n",
       "      <td>1</td>\n",
       "      <td>0</td>\n",
       "      <td>0</td>\n",
       "      <td>0</td>\n",
       "      <td>0</td>\n",
       "      <td>0</td>\n",
       "      <td>0</td>\n",
       "      <td>0</td>\n",
       "      <td>0</td>\n",
       "      <td>0</td>\n",
       "      <td>0</td>\n",
       "      <td>0</td>\n",
       "      <td>0</td>\n",
       "      <td>0</td>\n",
       "      <td>0</td>\n",
       "      <td>0</td>\n",
       "      <td>0</td>\n",
       "    </tr>\n",
       "  </tbody>\n",
       "</table>\n",
       "<p>3479 rows × 20 columns</p>\n",
       "</div>"
      ],
      "text/plain": [
       "           id1       id2       id3  1  2  3  4  5  6  7  8  9  10  11  12  13  \\\n",
       "0     0.000000  0.909714  0.905219  0  0  1  0  0  0  0  0  0   0   0   0   0   \n",
       "1     0.000000  0.909714  0.905219  0  0  0  0  0  1  0  0  0   0   0   0   0   \n",
       "2     0.000000  0.909714  0.905219  1  0  0  0  0  0  0  0  0   0   0   0   0   \n",
       "3     0.000000  0.909714  0.905219  0  0  0  0  0  0  0  0  0   0   0   0   0   \n",
       "4     0.000000  0.909714  0.905219  0  0  0  0  1  0  0  0  0   0   0   0   0   \n",
       "...        ...       ...       ... .. .. .. .. .. .. .. .. ..  ..  ..  ..  ..   \n",
       "3474  0.023906  0.927771  0.905219  0  0  0  0  0  0  0  0  0   0   0   0   0   \n",
       "3475  0.023906  0.927771  0.905219  0  1  0  0  0  0  0  0  0   0   0   0   0   \n",
       "3476  0.023906  0.927771  0.905219  0  0  0  0  0  0  0  0  0   1   0   0   0   \n",
       "3477  0.023906  0.927771  0.905219  0  0  0  0  1  0  0  0  0   0   0   0   0   \n",
       "3478  0.023906  0.927771  0.905219  1  0  0  0  0  0  0  0  0   0   0   0   0   \n",
       "\n",
       "      14  15  16  17  \n",
       "0      0   0   0   0  \n",
       "1      0   0   0   0  \n",
       "2      0   0   0   0  \n",
       "3      0   0   0   0  \n",
       "4      0   0   0   0  \n",
       "...   ..  ..  ..  ..  \n",
       "3474   0   0   1   0  \n",
       "3475   0   0   0   0  \n",
       "3476   0   0   0   0  \n",
       "3477   0   0   0   0  \n",
       "3478   0   0   0   0  \n",
       "\n",
       "[3479 rows x 20 columns]"
      ]
     },
     "execution_count": 39,
     "metadata": {},
     "output_type": "execute_result"
    }
   ],
   "source": [
    "new_df = pd.merge(recom_auth, dummies)\n",
    "new_df = new_df.drop('title', axis=1)\n",
    "new_df"
   ]
  },
  {
   "cell_type": "markdown",
   "id": "c0ca89cf",
   "metadata": {
    "papermill": {
     "duration": 0.039076,
     "end_time": "2023-01-31T11:55:08.508038",
     "exception": false,
     "start_time": "2023-01-31T11:55:08.468962",
     "status": "completed"
    },
    "tags": []
   },
   "source": [
    "## Title menjadi Index\n",
    "Proses ini befungsi untuk memudahkan dalam melihat data."
   ]
  },
  {
   "cell_type": "code",
   "execution_count": 40,
   "id": "ce9452a9",
   "metadata": {
    "execution": {
     "iopub.execute_input": "2023-01-31T11:55:08.588588Z",
     "iopub.status.busy": "2023-01-31T11:55:08.588042Z",
     "iopub.status.idle": "2023-01-31T11:55:08.611325Z",
     "shell.execute_reply": "2023-01-31T11:55:08.610019Z"
    },
    "papermill": {
     "duration": 0.066658,
     "end_time": "2023-01-31T11:55:08.614016",
     "exception": false,
     "start_time": "2023-01-31T11:55:08.547358",
     "status": "completed"
    },
    "tags": []
   },
   "outputs": [
    {
     "data": {
      "text/html": [
       "<div>\n",
       "<style scoped>\n",
       "    .dataframe tbody tr th:only-of-type {\n",
       "        vertical-align: middle;\n",
       "    }\n",
       "\n",
       "    .dataframe tbody tr th {\n",
       "        vertical-align: top;\n",
       "    }\n",
       "\n",
       "    .dataframe thead th {\n",
       "        text-align: right;\n",
       "    }\n",
       "</style>\n",
       "<table border=\"1\" class=\"dataframe\">\n",
       "  <thead>\n",
       "    <tr style=\"text-align: right;\">\n",
       "      <th></th>\n",
       "      <th>id1</th>\n",
       "      <th>id2</th>\n",
       "      <th>id3</th>\n",
       "      <th>1</th>\n",
       "      <th>2</th>\n",
       "      <th>3</th>\n",
       "      <th>4</th>\n",
       "      <th>5</th>\n",
       "      <th>6</th>\n",
       "      <th>7</th>\n",
       "      <th>8</th>\n",
       "      <th>9</th>\n",
       "      <th>10</th>\n",
       "      <th>11</th>\n",
       "      <th>12</th>\n",
       "      <th>13</th>\n",
       "      <th>14</th>\n",
       "      <th>15</th>\n",
       "      <th>16</th>\n",
       "      <th>17</th>\n",
       "    </tr>\n",
       "  </thead>\n",
       "  <tbody>\n",
       "    <tr>\n",
       "      <th>Interactive Mixed Reality System Menggunakan Pepper Ghost System dan Kendali Gerakan Tangan Berbasis Kinect</th>\n",
       "      <td>0.0</td>\n",
       "      <td>0.909714</td>\n",
       "      <td>0.905219</td>\n",
       "      <td>0</td>\n",
       "      <td>0</td>\n",
       "      <td>1</td>\n",
       "      <td>0</td>\n",
       "      <td>0</td>\n",
       "      <td>0</td>\n",
       "      <td>0</td>\n",
       "      <td>0</td>\n",
       "      <td>0</td>\n",
       "      <td>0</td>\n",
       "      <td>0</td>\n",
       "      <td>0</td>\n",
       "      <td>0</td>\n",
       "      <td>0</td>\n",
       "      <td>0</td>\n",
       "      <td>0</td>\n",
       "      <td>0</td>\n",
       "    </tr>\n",
       "    <tr>\n",
       "      <th>Optimasi Penjadwalan Mata Pelajaran Menggunakan Metode Tabu Search</th>\n",
       "      <td>0.0</td>\n",
       "      <td>0.909714</td>\n",
       "      <td>0.905219</td>\n",
       "      <td>0</td>\n",
       "      <td>0</td>\n",
       "      <td>0</td>\n",
       "      <td>0</td>\n",
       "      <td>0</td>\n",
       "      <td>1</td>\n",
       "      <td>0</td>\n",
       "      <td>0</td>\n",
       "      <td>0</td>\n",
       "      <td>0</td>\n",
       "      <td>0</td>\n",
       "      <td>0</td>\n",
       "      <td>0</td>\n",
       "      <td>0</td>\n",
       "      <td>0</td>\n",
       "      <td>0</td>\n",
       "      <td>0</td>\n",
       "    </tr>\n",
       "    <tr>\n",
       "      <th>Pengembangan Push Notification Menggunakan Websocket</th>\n",
       "      <td>0.0</td>\n",
       "      <td>0.909714</td>\n",
       "      <td>0.905219</td>\n",
       "      <td>1</td>\n",
       "      <td>0</td>\n",
       "      <td>0</td>\n",
       "      <td>0</td>\n",
       "      <td>0</td>\n",
       "      <td>0</td>\n",
       "      <td>0</td>\n",
       "      <td>0</td>\n",
       "      <td>0</td>\n",
       "      <td>0</td>\n",
       "      <td>0</td>\n",
       "      <td>0</td>\n",
       "      <td>0</td>\n",
       "      <td>0</td>\n",
       "      <td>0</td>\n",
       "      <td>0</td>\n",
       "      <td>0</td>\n",
       "    </tr>\n",
       "    <tr>\n",
       "      <th>Pembangunan Sistem Informasi Manajemen Keluhan Pelanggan Berbasis WebGis</th>\n",
       "      <td>0.0</td>\n",
       "      <td>0.909714</td>\n",
       "      <td>0.905219</td>\n",
       "      <td>0</td>\n",
       "      <td>0</td>\n",
       "      <td>0</td>\n",
       "      <td>0</td>\n",
       "      <td>0</td>\n",
       "      <td>0</td>\n",
       "      <td>0</td>\n",
       "      <td>0</td>\n",
       "      <td>0</td>\n",
       "      <td>0</td>\n",
       "      <td>0</td>\n",
       "      <td>0</td>\n",
       "      <td>0</td>\n",
       "      <td>0</td>\n",
       "      <td>0</td>\n",
       "      <td>0</td>\n",
       "      <td>0</td>\n",
       "    </tr>\n",
       "    <tr>\n",
       "      <th>Implementasi Metode Store and Forward Pada Hypertext Transfer Protocol (HTTP)</th>\n",
       "      <td>0.0</td>\n",
       "      <td>0.909714</td>\n",
       "      <td>0.905219</td>\n",
       "      <td>0</td>\n",
       "      <td>0</td>\n",
       "      <td>0</td>\n",
       "      <td>0</td>\n",
       "      <td>1</td>\n",
       "      <td>0</td>\n",
       "      <td>0</td>\n",
       "      <td>0</td>\n",
       "      <td>0</td>\n",
       "      <td>0</td>\n",
       "      <td>0</td>\n",
       "      <td>0</td>\n",
       "      <td>0</td>\n",
       "      <td>0</td>\n",
       "      <td>0</td>\n",
       "      <td>0</td>\n",
       "      <td>0</td>\n",
       "    </tr>\n",
       "  </tbody>\n",
       "</table>\n",
       "</div>"
      ],
      "text/plain": [
       "                                                    id1       id2       id3  \\\n",
       " Interactive Mixed Reality System Menggunakan P...  0.0  0.909714  0.905219   \n",
       " Optimasi Penjadwalan Mata Pelajaran Menggunaka...  0.0  0.909714  0.905219   \n",
       " Pengembangan Push Notification Menggunakan Web...  0.0  0.909714  0.905219   \n",
       " Pembangunan Sistem Informasi Manajemen Keluhan...  0.0  0.909714  0.905219   \n",
       " Implementasi Metode Store and Forward Pada Hyp...  0.0  0.909714  0.905219   \n",
       "\n",
       "                                                    1  2  3  4  5  6  7  8  9  \\\n",
       " Interactive Mixed Reality System Menggunakan P...  0  0  1  0  0  0  0  0  0   \n",
       " Optimasi Penjadwalan Mata Pelajaran Menggunaka...  0  0  0  0  0  1  0  0  0   \n",
       " Pengembangan Push Notification Menggunakan Web...  1  0  0  0  0  0  0  0  0   \n",
       " Pembangunan Sistem Informasi Manajemen Keluhan...  0  0  0  0  0  0  0  0  0   \n",
       " Implementasi Metode Store and Forward Pada Hyp...  0  0  0  0  1  0  0  0  0   \n",
       "\n",
       "                                                    10  11  12  13  14  15  \\\n",
       " Interactive Mixed Reality System Menggunakan P...   0   0   0   0   0   0   \n",
       " Optimasi Penjadwalan Mata Pelajaran Menggunaka...   0   0   0   0   0   0   \n",
       " Pengembangan Push Notification Menggunakan Web...   0   0   0   0   0   0   \n",
       " Pembangunan Sistem Informasi Manajemen Keluhan...   0   0   0   0   0   0   \n",
       " Implementasi Metode Store and Forward Pada Hyp...   0   0   0   0   0   0   \n",
       "\n",
       "                                                    16  17  \n",
       " Interactive Mixed Reality System Menggunakan P...   0   0  \n",
       " Optimasi Penjadwalan Mata Pelajaran Menggunaka...   0   0  \n",
       " Pengembangan Push Notification Menggunakan Web...   0   0  \n",
       " Pembangunan Sistem Informasi Manajemen Keluhan...   0   0  \n",
       " Implementasi Metode Store and Forward Pada Hyp...   0   0  "
      ]
     },
     "execution_count": 40,
     "metadata": {},
     "output_type": "execute_result"
    }
   ],
   "source": [
    "new_df.index = [t for t in titles['title']]\n",
    "abstracts.index = [t for t in titles['title']]\n",
    "\n",
    "new_df.head()"
   ]
  },
  {
   "cell_type": "markdown",
   "id": "56c42c0d",
   "metadata": {
    "papermill": {
     "duration": 0.039203,
     "end_time": "2023-01-31T11:55:08.693143",
     "exception": false,
     "start_time": "2023-01-31T11:55:08.653940",
     "status": "completed"
    },
    "tags": []
   },
   "source": [
    "### Membuat Fungsi Rekomendasi\n",
    "Fungsi ini mempunyai parameter berupa lokasi dari artikel, jumlah artikel yang direkomendasikan, dan skor kemiripan. Fungsi ini berisi penghitungan skor kemiripan dari abstract dan title dengan menggunakan K-Nearest Neighbor dan Cosine Similarity."
   ]
  },
  {
   "cell_type": "code",
   "execution_count": 41,
   "id": "81c3122c",
   "metadata": {
    "execution": {
     "iopub.execute_input": "2023-01-31T11:55:08.774564Z",
     "iopub.status.busy": "2023-01-31T11:55:08.773762Z",
     "iopub.status.idle": "2023-01-31T11:55:08.783096Z",
     "shell.execute_reply": "2023-01-31T11:55:08.782308Z"
    },
    "papermill": {
     "duration": 0.052137,
     "end_time": "2023-01-31T11:55:08.785422",
     "exception": false,
     "start_time": "2023-01-31T11:55:08.733285",
     "status": "completed"
    },
    "tags": []
   },
   "outputs": [],
   "source": [
    "def get_recommendation(article, no_of_recommend=20, get_similarity_rate=False):\n",
    "    \n",
    "    kn = NearestNeighbors(n_neighbors=no_of_recommend+1,metric='manhattan')\n",
    "    kn.fit(new_df)\n",
    "    \n",
    "    distances, indices = kn.kneighbors(new_df.loc[article])\n",
    "    \n",
    "    print(f'Berikut Adalah Rekomendasi Untuk Artikel \"{article[0]}\"')\n",
    "    nearest_article = [titles.loc[i][0] for i in indices.flatten()][1:]\n",
    "    if not get_similarity_rate:\n",
    "        return nearest_article\n",
    "    sim_rates = []\n",
    "    abstract = []\n",
    "    for art in nearest_article:\n",
    "        abstract.append(abstracts.loc[art][0])\n",
    "        sim = cosine_similarity(new_df.loc[article],[new_df.loc[art]]).flatten()\n",
    "        sim_rates.append(sim[0])\n",
    "    recommended_article = pd.DataFrame({'recommendation':nearest_article,'abstract':abstract, 'similarity_score':sim_rates})\n",
    "    recommended_article.sort_values(by='similarity_score',ascending=True)\n",
    "    return recommended_article"
   ]
  },
  {
   "cell_type": "markdown",
   "id": "f94a7e49",
   "metadata": {
    "papermill": {
     "duration": 0.039219,
     "end_time": "2023-01-31T11:55:08.863879",
     "exception": false,
     "start_time": "2023-01-31T11:55:08.824660",
     "status": "completed"
    },
    "tags": []
   },
   "source": [
    "## Hasil Rekomendasi\n",
    "Dengan memanggil fungsi recommendation dan memasukkan parameternya. Sejumlah artikel akan tertampil, beserta abstrak dan skor kemiripannya."
   ]
  },
  {
   "cell_type": "code",
   "execution_count": 42,
   "id": "401a7d89",
   "metadata": {
    "execution": {
     "iopub.execute_input": "2023-01-31T11:55:08.944550Z",
     "iopub.status.busy": "2023-01-31T11:55:08.944054Z",
     "iopub.status.idle": "2023-01-31T11:55:08.992500Z",
     "shell.execute_reply": "2023-01-31T11:55:08.991367Z"
    },
    "papermill": {
     "duration": 0.091933,
     "end_time": "2023-01-31T11:55:08.994928",
     "exception": false,
     "start_time": "2023-01-31T11:55:08.902995",
     "status": "completed"
    },
    "tags": []
   },
   "outputs": [
    {
     "name": "stdout",
     "output_type": "stream",
     "text": [
      "Berikut Adalah Rekomendasi Untuk Artikel \" Pembangunan Sistem Informasi Manajemen Keluhan Pelanggan Berbasis WebGis\"\n"
     ]
    },
    {
     "data": {
      "text/html": [
       "<div>\n",
       "<style scoped>\n",
       "    .dataframe tbody tr th:only-of-type {\n",
       "        vertical-align: middle;\n",
       "    }\n",
       "\n",
       "    .dataframe tbody tr th {\n",
       "        vertical-align: top;\n",
       "    }\n",
       "\n",
       "    .dataframe thead th {\n",
       "        text-align: right;\n",
       "    }\n",
       "</style>\n",
       "<table border=\"1\" class=\"dataframe\">\n",
       "  <thead>\n",
       "    <tr style=\"text-align: right;\">\n",
       "      <th></th>\n",
       "      <th>recommendation</th>\n",
       "      <th>abstract</th>\n",
       "      <th>similarity_score</th>\n",
       "    </tr>\n",
       "  </thead>\n",
       "  <tbody>\n",
       "    <tr>\n",
       "      <th>0</th>\n",
       "      <td>Pembangunan Aplikasi Cross-Platform Pelacak K...</td>\n",
       "      <td>Salah satu faktor yang dapat mempertahankan su...</td>\n",
       "      <td>1.000000</td>\n",
       "    </tr>\n",
       "    <tr>\n",
       "      <th>1</th>\n",
       "      <td>Pengembangan Sistem Informasi Manajemen Rewar...</td>\n",
       "      <td>Pepito Market Cabang Sanur merupakan salah sat...</td>\n",
       "      <td>1.000000</td>\n",
       "    </tr>\n",
       "    <tr>\n",
       "      <th>2</th>\n",
       "      <td>Pengembangan Sistem Self-Service Reservation ...</td>\n",
       "      <td>Customer Relationship Management (CRM) merupak...</td>\n",
       "      <td>1.000000</td>\n",
       "    </tr>\n",
       "    <tr>\n",
       "      <th>3</th>\n",
       "      <td>Analisis Kualitas Layanan Website Erafone ter...</td>\n",
       "      <td>Jumlah bisnis yang beroperasi di internet deng...</td>\n",
       "      <td>1.000000</td>\n",
       "    </tr>\n",
       "    <tr>\n",
       "      <th>4</th>\n",
       "      <td>Pembangunan Sistem Informasi Manajemen Keluha...</td>\n",
       "      <td>Perusahaan McDonald’s adalah perusahaan yang b...</td>\n",
       "      <td>1.000000</td>\n",
       "    </tr>\n",
       "    <tr>\n",
       "      <th>5</th>\n",
       "      <td>Pengembangan Sistem Informasi E-Complaint (St...</td>\n",
       "      <td>Salah satu tujuan GraPARI Telkomsel Malang ada...</td>\n",
       "      <td>1.000000</td>\n",
       "    </tr>\n",
       "    <tr>\n",
       "      <th>6</th>\n",
       "      <td>Analisis Pengaruh Kualitas Website Terhadap K...</td>\n",
       "      <td>E-commerce merupakan pasar online yang berkemb...</td>\n",
       "      <td>1.000000</td>\n",
       "    </tr>\n",
       "    <tr>\n",
       "      <th>7</th>\n",
       "      <td>Analisis Kualitas Layanan Website id.oriflame...</td>\n",
       "      <td>Website id.oriflame.com merupakan e-commerce p...</td>\n",
       "      <td>1.000000</td>\n",
       "    </tr>\n",
       "    <tr>\n",
       "      <th>8</th>\n",
       "      <td>Implementasi Algoritma Genetika Untuk Penjadw...</td>\n",
       "      <td>Karena kebutuhan akan transportasi yang tinggi...</td>\n",
       "      <td>1.000000</td>\n",
       "    </tr>\n",
       "    <tr>\n",
       "      <th>9</th>\n",
       "      <td>Segmentasi Pelanggan Menggunakan Metode K-Mea...</td>\n",
       "      <td>Belle Crown merupakan salah satu klinik kecant...</td>\n",
       "      <td>0.999961</td>\n",
       "    </tr>\n",
       "    <tr>\n",
       "      <th>10</th>\n",
       "      <td>Pengembangan Aplikasi Mobile Pelaporan Keluha...</td>\n",
       "      <td>PDAM Tirta Tuah Benua Kutai Timur sebagai suat...</td>\n",
       "      <td>0.999961</td>\n",
       "    </tr>\n",
       "    <tr>\n",
       "      <th>11</th>\n",
       "      <td>Pengembangan Sistem Informasi Pelanggan Binat...</td>\n",
       "      <td>Cleaners VIP Laundry merupakan usaha binatu ya...</td>\n",
       "      <td>0.999961</td>\n",
       "    </tr>\n",
       "    <tr>\n",
       "      <th>12</th>\n",
       "      <td>Analisis Sentimen Opini Pelanggan Terhadap As...</td>\n",
       "      <td>Dinas Pariwisata dan Kebudayaan (Disparbud) Ka...</td>\n",
       "      <td>0.999961</td>\n",
       "    </tr>\n",
       "    <tr>\n",
       "      <th>13</th>\n",
       "      <td>Analisis Kualitas Layanan Website Althea Indo...</td>\n",
       "      <td>Website Althea Indonesia merupakan e-commerce ...</td>\n",
       "      <td>0.999961</td>\n",
       "    </tr>\n",
       "    <tr>\n",
       "      <th>14</th>\n",
       "      <td>Analisis Sentimen Twitter Menggunakan Ensembl...</td>\n",
       "      <td>Aktivitas bisnis yang sangat krusial dan memil...</td>\n",
       "      <td>0.999961</td>\n",
       "    </tr>\n",
       "    <tr>\n",
       "      <th>15</th>\n",
       "      <td>Analisis Kepuasan Pengguna Audience Insights ...</td>\n",
       "      <td>Keadaan pasar yang sangat kompetitif, perubaha...</td>\n",
       "      <td>0.999961</td>\n",
       "    </tr>\n",
       "    <tr>\n",
       "      <th>16</th>\n",
       "      <td>Evaluasi Kualitas Layanan Pada Aspek Before S...</td>\n",
       "      <td>E-Commerce  XYZ merupakan salah satu E-Commerc...</td>\n",
       "      <td>0.999961</td>\n",
       "    </tr>\n",
       "    <tr>\n",
       "      <th>17</th>\n",
       "      <td>Analisis dan Perancangan Sistem Manajemen Pro...</td>\n",
       "      <td>Agar unggul dalam bersaing dan mendapatkan ban...</td>\n",
       "      <td>0.999961</td>\n",
       "    </tr>\n",
       "    <tr>\n",
       "      <th>18</th>\n",
       "      <td>Analisis Pemetaan Pelanggan Potensial Menggun...</td>\n",
       "      <td>Customer Relationship Management merupakan sem...</td>\n",
       "      <td>0.999961</td>\n",
       "    </tr>\n",
       "    <tr>\n",
       "      <th>19</th>\n",
       "      <td>Analisis Pengaruh Kualitas E-Service Grab Ter...</td>\n",
       "      <td>Pertumbuhan pesat pangsa pasar e-commerce di I...</td>\n",
       "      <td>0.999961</td>\n",
       "    </tr>\n",
       "  </tbody>\n",
       "</table>\n",
       "</div>"
      ],
      "text/plain": [
       "                                       recommendation  \\\n",
       "0    Pembangunan Aplikasi Cross-Platform Pelacak K...   \n",
       "1    Pengembangan Sistem Informasi Manajemen Rewar...   \n",
       "2    Pengembangan Sistem Self-Service Reservation ...   \n",
       "3    Analisis Kualitas Layanan Website Erafone ter...   \n",
       "4    Pembangunan Sistem Informasi Manajemen Keluha...   \n",
       "5    Pengembangan Sistem Informasi E-Complaint (St...   \n",
       "6    Analisis Pengaruh Kualitas Website Terhadap K...   \n",
       "7    Analisis Kualitas Layanan Website id.oriflame...   \n",
       "8    Implementasi Algoritma Genetika Untuk Penjadw...   \n",
       "9    Segmentasi Pelanggan Menggunakan Metode K-Mea...   \n",
       "10   Pengembangan Aplikasi Mobile Pelaporan Keluha...   \n",
       "11   Pengembangan Sistem Informasi Pelanggan Binat...   \n",
       "12   Analisis Sentimen Opini Pelanggan Terhadap As...   \n",
       "13   Analisis Kualitas Layanan Website Althea Indo...   \n",
       "14   Analisis Sentimen Twitter Menggunakan Ensembl...   \n",
       "15   Analisis Kepuasan Pengguna Audience Insights ...   \n",
       "16   Evaluasi Kualitas Layanan Pada Aspek Before S...   \n",
       "17   Analisis dan Perancangan Sistem Manajemen Pro...   \n",
       "18   Analisis Pemetaan Pelanggan Potensial Menggun...   \n",
       "19   Analisis Pengaruh Kualitas E-Service Grab Ter...   \n",
       "\n",
       "                                             abstract  similarity_score  \n",
       "0   Salah satu faktor yang dapat mempertahankan su...          1.000000  \n",
       "1   Pepito Market Cabang Sanur merupakan salah sat...          1.000000  \n",
       "2   Customer Relationship Management (CRM) merupak...          1.000000  \n",
       "3   Jumlah bisnis yang beroperasi di internet deng...          1.000000  \n",
       "4   Perusahaan McDonald’s adalah perusahaan yang b...          1.000000  \n",
       "5   Salah satu tujuan GraPARI Telkomsel Malang ada...          1.000000  \n",
       "6   E-commerce merupakan pasar online yang berkemb...          1.000000  \n",
       "7   Website id.oriflame.com merupakan e-commerce p...          1.000000  \n",
       "8   Karena kebutuhan akan transportasi yang tinggi...          1.000000  \n",
       "9   Belle Crown merupakan salah satu klinik kecant...          0.999961  \n",
       "10  PDAM Tirta Tuah Benua Kutai Timur sebagai suat...          0.999961  \n",
       "11  Cleaners VIP Laundry merupakan usaha binatu ya...          0.999961  \n",
       "12  Dinas Pariwisata dan Kebudayaan (Disparbud) Ka...          0.999961  \n",
       "13  Website Althea Indonesia merupakan e-commerce ...          0.999961  \n",
       "14  Aktivitas bisnis yang sangat krusial dan memil...          0.999961  \n",
       "15  Keadaan pasar yang sangat kompetitif, perubaha...          0.999961  \n",
       "16  E-Commerce  XYZ merupakan salah satu E-Commerc...          0.999961  \n",
       "17  Agar unggul dalam bersaing dan mendapatkan ban...          0.999961  \n",
       "18  Customer Relationship Management merupakan sem...          0.999961  \n",
       "19  Pertumbuhan pesat pangsa pasar e-commerce di I...          0.999961  "
      ]
     },
     "execution_count": 42,
     "metadata": {},
     "output_type": "execute_result"
    }
   ],
   "source": [
    "rd1 = titles.loc[3]\n",
    "get_recommendation(rd1, no_of_recommend=20, get_similarity_rate=True)"
   ]
  },
  {
   "cell_type": "markdown",
   "id": "4780a68e",
   "metadata": {
    "papermill": {
     "duration": 0.040195,
     "end_time": "2023-01-31T11:55:09.077402",
     "exception": false,
     "start_time": "2023-01-31T11:55:09.037207",
     "status": "completed"
    },
    "tags": []
   },
   "source": [
    "## Insight\n",
    "Dari bagian Article Recommendations With K-Nearest Neighbor and Cosine Similarity, terdapat beberapa hal yang dapat diketahui:\n",
    "* Penggunaan metode tersebut tidak cocok dengan data yang ada karena kurangnya kolom yang mengandung angka walaupun sudah dilakukan clustering, tetapi data ini pada awalnya merupakan unsupervised learning\n",
    "* Metode ini lebih cocok untuk data berbentuk vektor dan berdimensi tinggi "
   ]
  },
  {
   "cell_type": "markdown",
   "id": "3f9a948d",
   "metadata": {
    "papermill": {
     "duration": 0.039428,
     "end_time": "2023-01-31T11:55:09.156769",
     "exception": false,
     "start_time": "2023-01-31T11:55:09.117341",
     "status": "completed"
    },
    "tags": []
   },
   "source": [
    "# 6. Article Recommendations With Content Based\n",
    "Content-Based Recommender System adalah algoritma rekomendasi yang menggunakan informasi tentang item untuk menghasilkan rekomendasi untuk pengguna. Algoritma ini menganalisis preferensi pengguna berdasarkan informasi yang tersedia tentang item yang mereka telah gunakan atau pilih sebelumnya. Rekomendasi dikembangkan dengan mencocokkan preferensi pengguna dengan informasi tentang item yang tersedia. Algoritma ini berbeda dengan algoritma rekomendasi lainnya, seperti collaborative filtering yang menggunakan informasi tentang pengguna untuk menghasilkan rekomendasi."
   ]
  },
  {
   "cell_type": "markdown",
   "id": "fa781455",
   "metadata": {
    "papermill": {
     "duration": 0.039238,
     "end_time": "2023-01-31T11:55:09.236116",
     "exception": false,
     "start_time": "2023-01-31T11:55:09.196878",
     "status": "completed"
    },
    "tags": []
   },
   "source": [
    "## Memisahkan Kolom yang Relevan\n",
    "Kolom yang akan digunakan dalam proses ini hanyalah title, cluster, abstract, dan link. Kolom hanya digunakan untuk deployment agar pengguna dapat langsung mengunjungi artikel tersebut setelah mendapat rekomendasi."
   ]
  },
  {
   "cell_type": "code",
   "execution_count": 43,
   "id": "e0e4317b",
   "metadata": {
    "execution": {
     "iopub.execute_input": "2023-01-31T11:55:09.320101Z",
     "iopub.status.busy": "2023-01-31T11:55:09.319447Z",
     "iopub.status.idle": "2023-01-31T11:55:09.335381Z",
     "shell.execute_reply": "2023-01-31T11:55:09.333995Z"
    },
    "papermill": {
     "duration": 0.059953,
     "end_time": "2023-01-31T11:55:09.337986",
     "exception": false,
     "start_time": "2023-01-31T11:55:09.278033",
     "status": "completed"
    },
    "tags": []
   },
   "outputs": [
    {
     "data": {
      "text/html": [
       "<div>\n",
       "<style scoped>\n",
       "    .dataframe tbody tr th:only-of-type {\n",
       "        vertical-align: middle;\n",
       "    }\n",
       "\n",
       "    .dataframe tbody tr th {\n",
       "        vertical-align: top;\n",
       "    }\n",
       "\n",
       "    .dataframe thead th {\n",
       "        text-align: right;\n",
       "    }\n",
       "</style>\n",
       "<table border=\"1\" class=\"dataframe\">\n",
       "  <thead>\n",
       "    <tr style=\"text-align: right;\">\n",
       "      <th></th>\n",
       "      <th>title</th>\n",
       "      <th>cluster</th>\n",
       "      <th>abstract</th>\n",
       "      <th>link</th>\n",
       "    </tr>\n",
       "  </thead>\n",
       "  <tbody>\n",
       "    <tr>\n",
       "      <th>0</th>\n",
       "      <td>Interactive Mixed Reality System Menggunakan ...</td>\n",
       "      <td>3</td>\n",
       "      <td>Teknologi mixed reality akan membuat interaksi...</td>\n",
       "      <td>https://j-ptiik.ub.ac.id/index.php/j-ptiik/art...</td>\n",
       "    </tr>\n",
       "    <tr>\n",
       "      <th>1</th>\n",
       "      <td>Optimasi Penjadwalan Mata Pelajaran Menggunak...</td>\n",
       "      <td>6</td>\n",
       "      <td>Penjadwalan merupakan salah satu proses pentin...</td>\n",
       "      <td>https://j-ptiik.ub.ac.id/index.php/j-ptiik/art...</td>\n",
       "    </tr>\n",
       "    <tr>\n",
       "      <th>2</th>\n",
       "      <td>Pengembangan Push Notification Menggunakan We...</td>\n",
       "      <td>1</td>\n",
       "      <td>Untuk memenuhi kebutuhan masyarakat akan keter...</td>\n",
       "      <td>https://j-ptiik.ub.ac.id/index.php/j-ptiik/art...</td>\n",
       "    </tr>\n",
       "    <tr>\n",
       "      <th>3</th>\n",
       "      <td>Pembangunan Sistem Informasi Manajemen Keluha...</td>\n",
       "      <td>0</td>\n",
       "      <td>Perusahaan McDonald’s adalah perusahaan yang b...</td>\n",
       "      <td>https://j-ptiik.ub.ac.id/index.php/j-ptiik/art...</td>\n",
       "    </tr>\n",
       "    <tr>\n",
       "      <th>4</th>\n",
       "      <td>Implementasi Metode Store and Forward Pada Hy...</td>\n",
       "      <td>5</td>\n",
       "      <td>Perkembangan internet saat ini sangat pesat. D...</td>\n",
       "      <td>https://j-ptiik.ub.ac.id/index.php/j-ptiik/art...</td>\n",
       "    </tr>\n",
       "  </tbody>\n",
       "</table>\n",
       "</div>"
      ],
      "text/plain": [
       "                                               title  cluster  \\\n",
       "0   Interactive Mixed Reality System Menggunakan ...        3   \n",
       "1   Optimasi Penjadwalan Mata Pelajaran Menggunak...        6   \n",
       "2   Pengembangan Push Notification Menggunakan We...        1   \n",
       "3   Pembangunan Sistem Informasi Manajemen Keluha...        0   \n",
       "4   Implementasi Metode Store and Forward Pada Hy...        5   \n",
       "\n",
       "                                            abstract  \\\n",
       "0  Teknologi mixed reality akan membuat interaksi...   \n",
       "1  Penjadwalan merupakan salah satu proses pentin...   \n",
       "2  Untuk memenuhi kebutuhan masyarakat akan keter...   \n",
       "3  Perusahaan McDonald’s adalah perusahaan yang b...   \n",
       "4  Perkembangan internet saat ini sangat pesat. D...   \n",
       "\n",
       "                                                link  \n",
       "0  https://j-ptiik.ub.ac.id/index.php/j-ptiik/art...  \n",
       "1  https://j-ptiik.ub.ac.id/index.php/j-ptiik/art...  \n",
       "2  https://j-ptiik.ub.ac.id/index.php/j-ptiik/art...  \n",
       "3  https://j-ptiik.ub.ac.id/index.php/j-ptiik/art...  \n",
       "4  https://j-ptiik.ub.ac.id/index.php/j-ptiik/art...  "
      ]
     },
     "execution_count": 43,
     "metadata": {},
     "output_type": "execute_result"
    }
   ],
   "source": [
    "data = df[['title', 'cluster', 'abstract', 'link']]\n",
    "data.head()"
   ]
  },
  {
   "cell_type": "markdown",
   "id": "01688635",
   "metadata": {
    "papermill": {
     "duration": 0.040967,
     "end_time": "2023-01-31T11:55:09.419999",
     "exception": false,
     "start_time": "2023-01-31T11:55:09.379032",
     "status": "completed"
    },
    "tags": []
   },
   "source": [
    "## Lower Case, Tokenize, Punctuation, dan Stop Words\n",
    "Setiap data yang berada di dalam dataframe dimanipulasi, seperti dijadikan huruf kecil, ditokenisasi (dipisah-pisah), menghilangkan tanda baca dan kata-kata umum yang ada dalam bahasa Indonesia. Tujuannya adalah memperbudah dalam proses content based. Kata-kata yang sudah dipisah tersebut akan menjadi list. "
   ]
  },
  {
   "cell_type": "code",
   "execution_count": 44,
   "id": "23e4e3d5",
   "metadata": {
    "execution": {
     "iopub.execute_input": "2023-01-31T11:55:09.503963Z",
     "iopub.status.busy": "2023-01-31T11:55:09.503501Z",
     "iopub.status.idle": "2023-01-31T11:55:17.233702Z",
     "shell.execute_reply": "2023-01-31T11:55:17.232326Z"
    },
    "papermill": {
     "duration": 7.776523,
     "end_time": "2023-01-31T11:55:17.236859",
     "exception": false,
     "start_time": "2023-01-31T11:55:09.460336",
     "status": "completed"
    },
    "tags": []
   },
   "outputs": [],
   "source": [
    "data['title_list'] = data['title'].str.lower()\n",
    "data['abstract'] = data['abstract'].str.lower()\n",
    "\n",
    "data['title_list'] = data['title_list'].apply(word_tokenize)\n",
    "data['abstract'] = data['abstract'].apply(word_tokenize)\n",
    "\n",
    "list_stopwords = set(stopwords.words('indonesian') + list(punctuation))\n",
    "data['title_list'] = data['title_list'].apply(lambda x: [word for word in x if word not in list_stopwords])\n",
    "data['abstract'] = data['abstract'].apply(lambda x: [word for word in x if word not in list_stopwords])\n",
    "\n",
    "data['abstract'] = data['abstract'].apply(lambda x : [word.translate(str.maketrans('', '', string.punctuation)) for word in x])\n",
    "data['abstract'] = data['abstract'].apply(lambda x : [word for word in x if len(word) > 0])\n",
    "\n",
    "data['title_list'] = data['title_list'].apply(lambda x : list(set(x)))\n",
    "data['abstract'] = data['abstract'].apply(lambda x : list(set(x)))"
   ]
  },
  {
   "cell_type": "markdown",
   "id": "d30a1252",
   "metadata": {
    "papermill": {
     "duration": 0.039918,
     "end_time": "2023-01-31T11:55:17.317301",
     "exception": false,
     "start_time": "2023-01-31T11:55:17.277383",
     "status": "completed"
    },
    "tags": []
   },
   "source": [
    "## Import Gensim dan Download Word2Vec\n",
    "Gensim adalah modul Python yang sangat efisien dan kuat untuk membangun dan melatih model representasi teks, yang dikenal sebagai representasi vektor kata. Ini menggunakan metode seperti Latent Semantic Analysis (LSA) atau Latent Dirichlet Allocation (LDA). Gensim juga menyediakan implementasi algoritma topik modeling yang kuat, yang dapat digunakan untuk menemukan topik dalam teks. Word2Vec adalah teknik pembelajaran mesin yang digunakan untuk membuat representasi vektor kata. Ini mengubah kata-kata menjadi vektor yang mencerminkan konteks dan makna dari kata-kata tersebut. Teknik ini juga memiliki kemampuan untuk mengidentifikasi kata-kata yang memiliki makna serupa dalam konteks yang berbeda. Word2Vec dapat digunakan untuk berbagai aplikasi seperti analisis teks, pemrosesan bahasa alami, dan masih banyak lagi."
   ]
  },
  {
   "cell_type": "code",
   "execution_count": 45,
   "id": "a70a3178",
   "metadata": {
    "execution": {
     "iopub.execute_input": "2023-01-31T11:55:17.400493Z",
     "iopub.status.busy": "2023-01-31T11:55:17.399790Z",
     "iopub.status.idle": "2023-01-31T12:01:29.140827Z",
     "shell.execute_reply": "2023-01-31T12:01:29.139505Z"
    },
    "papermill": {
     "duration": 371.785838,
     "end_time": "2023-01-31T12:01:29.143701",
     "exception": false,
     "start_time": "2023-01-31T11:55:17.357863",
     "status": "completed"
    },
    "tags": []
   },
   "outputs": [
    {
     "name": "stdout",
     "output_type": "stream",
     "text": [
      "[==================================================] 100.0% 1662.8/1662.8MB downloaded\n",
      "/root/gensim-data/word2vec-google-news-300/word2vec-google-news-300.gz\n"
     ]
    }
   ],
   "source": [
    "import gensim.downloader as api\n",
    "path = api.load(\"word2vec-google-news-300\", return_path=True)\n",
    "print(path)\n",
    "\n",
    "from gensim import models\n",
    "wv = models.KeyedVectors.load_word2vec_format('/root/gensim-data/word2vec-google-news-300/word2vec-google-news-300.gz',\n",
    "                                              binary=True)"
   ]
  },
  {
   "cell_type": "markdown",
   "id": "37c3ee8d",
   "metadata": {
    "papermill": {
     "duration": 13.544892,
     "end_time": "2023-01-31T12:01:57.058497",
     "exception": false,
     "start_time": "2023-01-31T12:01:43.513605",
     "status": "completed"
    },
    "tags": []
   },
   "source": [
    "## Mencari Kemiripan Berdasarkan Title, Cluster, dan Abstract"
   ]
  },
  {
   "cell_type": "markdown",
   "id": "a7a5f31b",
   "metadata": {
    "papermill": {
     "duration": 13.513499,
     "end_time": "2023-01-31T12:02:24.217031",
     "exception": false,
     "start_time": "2023-01-31T12:02:10.703532",
     "status": "completed"
    },
    "tags": []
   },
   "source": [
    "### Menggunakan Vocab\n",
    "Vocab dalam Word2Vec adalah kumpulan kata-kata yang digunakan untuk mengklasifikasikan kata-kata yang muncul dalam teks. Ini mengacu pada kata-kata yang muncul dalam korpus (kumpulan teks) yang digunakan untuk mengukur kemiripan antara kata-kata. Word2Vec menggunakan vocab untuk mengklasifikasikan dan mengukur kemiripan antara kata-kata, yang memungkinkan algoritme untuk melakukan klasifikasi dan prediksi berdasarkan data yang tersedia."
   ]
  },
  {
   "cell_type": "code",
   "execution_count": 46,
   "id": "126614d3",
   "metadata": {
    "execution": {
     "iopub.execute_input": "2023-01-31T12:02:51.340183Z",
     "iopub.status.busy": "2023-01-31T12:02:51.338743Z",
     "iopub.status.idle": "2023-01-31T12:02:51.936142Z",
     "shell.execute_reply": "2023-01-31T12:02:51.934962Z"
    },
    "papermill": {
     "duration": 14.395782,
     "end_time": "2023-01-31T12:02:51.938513",
     "exception": false,
     "start_time": "2023-01-31T12:02:37.542731",
     "status": "completed"
    },
    "tags": []
   },
   "outputs": [
    {
     "data": {
      "text/html": [
       "<div>\n",
       "<style scoped>\n",
       "    .dataframe tbody tr th:only-of-type {\n",
       "        vertical-align: middle;\n",
       "    }\n",
       "\n",
       "    .dataframe tbody tr th {\n",
       "        vertical-align: top;\n",
       "    }\n",
       "\n",
       "    .dataframe thead th {\n",
       "        text-align: right;\n",
       "    }\n",
       "</style>\n",
       "<table border=\"1\" class=\"dataframe\">\n",
       "  <thead>\n",
       "    <tr style=\"text-align: right;\">\n",
       "      <th></th>\n",
       "      <th>title</th>\n",
       "      <th>cluster</th>\n",
       "      <th>abstract</th>\n",
       "      <th>link</th>\n",
       "      <th>title_list</th>\n",
       "    </tr>\n",
       "  </thead>\n",
       "  <tbody>\n",
       "    <tr>\n",
       "      <th>0</th>\n",
       "      <td>Interactive Mixed Reality System Menggunakan ...</td>\n",
       "      <td>3</td>\n",
       "      <td>[salah, mouse, dunia, real, user, maya, bahasa...</td>\n",
       "      <td>https://j-ptiik.ub.ac.id/index.php/j-ptiik/art...</td>\n",
       "      <td>[interactive, ghost, reality, tangan, kinect, ...</td>\n",
       "    </tr>\n",
       "    <tr>\n",
       "      <th>1</th>\n",
       "      <td>Optimasi Penjadwalan Mata Pelajaran Menggunak...</td>\n",
       "      <td>6</td>\n",
       "      <td>[salah, mata, sistem, total, move, list, micro...</td>\n",
       "      <td>https://j-ptiik.ub.ac.id/index.php/j-ptiik/art...</td>\n",
       "      <td>[mata, search, tabu]</td>\n",
       "    </tr>\n",
       "    <tr>\n",
       "      <th>2</th>\n",
       "      <td>Pengembangan Push Notification Menggunakan We...</td>\n",
       "      <td>1</td>\n",
       "      <td>[broker, push, hypertext, notification, client...</td>\n",
       "      <td>https://j-ptiik.ub.ac.id/index.php/j-ptiik/art...</td>\n",
       "      <td>[notification, push]</td>\n",
       "    </tr>\n",
       "    <tr>\n",
       "      <th>3</th>\n",
       "      <td>Pembangunan Sistem Informasi Manajemen Keluha...</td>\n",
       "      <td>0</td>\n",
       "      <td>[salah, zero, relationship, customer, gong, s,...</td>\n",
       "      <td>https://j-ptiik.ub.ac.id/index.php/j-ptiik/art...</td>\n",
       "      <td>[sistem]</td>\n",
       "    </tr>\n",
       "    <tr>\n",
       "      <th>4</th>\n",
       "      <td>Implementasi Metode Store and Forward Pada Hy...</td>\n",
       "      <td>5</td>\n",
       "      <td>[header, raspberry, tcp, forward, tolerant, fi...</td>\n",
       "      <td>https://j-ptiik.ub.ac.id/index.php/j-ptiik/art...</td>\n",
       "      <td>[transfer, store, hypertext, protocol, forward...</td>\n",
       "    </tr>\n",
       "  </tbody>\n",
       "</table>\n",
       "</div>"
      ],
      "text/plain": [
       "                                               title  cluster  \\\n",
       "0   Interactive Mixed Reality System Menggunakan ...        3   \n",
       "1   Optimasi Penjadwalan Mata Pelajaran Menggunak...        6   \n",
       "2   Pengembangan Push Notification Menggunakan We...        1   \n",
       "3   Pembangunan Sistem Informasi Manajemen Keluha...        0   \n",
       "4   Implementasi Metode Store and Forward Pada Hy...        5   \n",
       "\n",
       "                                            abstract  \\\n",
       "0  [salah, mouse, dunia, real, user, maya, bahasa...   \n",
       "1  [salah, mata, sistem, total, move, list, micro...   \n",
       "2  [broker, push, hypertext, notification, client...   \n",
       "3  [salah, zero, relationship, customer, gong, s,...   \n",
       "4  [header, raspberry, tcp, forward, tolerant, fi...   \n",
       "\n",
       "                                                link  \\\n",
       "0  https://j-ptiik.ub.ac.id/index.php/j-ptiik/art...   \n",
       "1  https://j-ptiik.ub.ac.id/index.php/j-ptiik/art...   \n",
       "2  https://j-ptiik.ub.ac.id/index.php/j-ptiik/art...   \n",
       "3  https://j-ptiik.ub.ac.id/index.php/j-ptiik/art...   \n",
       "4  https://j-ptiik.ub.ac.id/index.php/j-ptiik/art...   \n",
       "\n",
       "                                          title_list  \n",
       "0  [interactive, ghost, reality, tangan, kinect, ...  \n",
       "1                               [mata, search, tabu]  \n",
       "2                               [notification, push]  \n",
       "3                                           [sistem]  \n",
       "4  [transfer, store, hypertext, protocol, forward...  "
      ]
     },
     "execution_count": 46,
     "metadata": {},
     "output_type": "execute_result"
    }
   ],
   "source": [
    "matrix_article_vocab = []\n",
    "for list_ in data.to_numpy():\n",
    "    list_[2] = [word for word in list_[2] if word in wv]\n",
    "    list_[4] = [word for word in list_[4] if word in wv]\n",
    "    matrix_article_vocab.append(list_)\n",
    "    \n",
    "matrix_article_vocab = pd.DataFrame(matrix_article_vocab, columns=data.columns)\n",
    "matrix_article_vocab.head()"
   ]
  },
  {
   "cell_type": "markdown",
   "id": "1022daab",
   "metadata": {
    "papermill": {
     "duration": 13.6022,
     "end_time": "2023-01-31T12:03:19.196674",
     "exception": false,
     "start_time": "2023-01-31T12:03:05.594474",
     "status": "completed"
    },
    "tags": []
   },
   "source": [
    "### Membuat Fungsi Rekomendasi\n",
    "Fungsi ini mempunyai parameter berupa judul dari artikel yang nantinya akan dimasukkan oleh pengguna. Fungsi ini berisi penghitungan skor kemiripan dari abstract dan title dengan menggunakan Word2Vec."
   ]
  },
  {
   "cell_type": "code",
   "execution_count": 47,
   "id": "b46962fc",
   "metadata": {
    "execution": {
     "iopub.execute_input": "2023-01-31T12:03:46.329379Z",
     "iopub.status.busy": "2023-01-31T12:03:46.328902Z",
     "iopub.status.idle": "2023-01-31T12:03:46.341091Z",
     "shell.execute_reply": "2023-01-31T12:03:46.339877Z"
    },
    "papermill": {
     "duration": 13.830201,
     "end_time": "2023-01-31T12:03:46.343340",
     "exception": false,
     "start_time": "2023-01-31T12:03:32.513139",
     "status": "completed"
    },
    "tags": []
   },
   "outputs": [],
   "source": [
    "def recommendation(title):\n",
    "    matrix_article_title_vocab = []\n",
    "    for list_ in data[data['title'].str.contains(title)].to_numpy():\n",
    "        list_[2] = [word for word in list_[2] if word in wv]\n",
    "        list_[4] = [word for word in list_[4] if word in wv]\n",
    "        matrix_article_title_vocab.append(list_)\n",
    "\n",
    "    matrix_similarity = []\n",
    "    for list1 in matrix_article_vocab.to_numpy():\n",
    "        for list2 in matrix_article_title_vocab:\n",
    "            try:\n",
    "                score_abs = wv.n_similarity(list1[2], list2[2])\n",
    "                score_title = wv.n_similarity(list1[4], list2[4])/2\n",
    "            except ZeroDivisionError:\n",
    "                score_abs = 0\n",
    "                score_title = 0      \n",
    "            if ((list1[1] == list2[1]) & (list1[0] != list2[0])):\n",
    "                matrix_similarity.append([list1[0], list1[3], score_title, score_abs])\n",
    "    \n",
    "    print('Berikut Adalah 10 Rekomendasi Untuk Artikel \\'' + title + '\\'')\n",
    "    df_article_similarity = pd.DataFrame(matrix_similarity, columns = ['recommendation', 'link', 'score_title','score_abstract'])\n",
    "    df_article_similarity['final_score'] = df_article_similarity['score_title'] + df_article_similarity['score_abstract']\n",
    "    return (df_article_similarity.sort_values(by=['final_score', 'score_abstract', 'score_title'], ascending=False).head(10))"
   ]
  },
  {
   "cell_type": "markdown",
   "id": "653a604f",
   "metadata": {
    "papermill": {
     "duration": 13.598716,
     "end_time": "2023-01-31T12:04:13.687053",
     "exception": false,
     "start_time": "2023-01-31T12:04:00.088337",
     "status": "completed"
    },
    "tags": []
   },
   "source": [
    "## Hasil Rekomendasi\n",
    "Dengan memanggil fungsi recommendation dan memasukkan parameter berupa judul artikel, 10 artikel dengan skor kemiripan yang paling tinggi akan tertampil."
   ]
  },
  {
   "cell_type": "code",
   "execution_count": 48,
   "id": "62f802bc",
   "metadata": {
    "execution": {
     "iopub.execute_input": "2023-01-31T12:04:40.572659Z",
     "iopub.status.busy": "2023-01-31T12:04:40.572222Z",
     "iopub.status.idle": "2023-01-31T12:04:41.377900Z",
     "shell.execute_reply": "2023-01-31T12:04:41.376641Z"
    },
    "papermill": {
     "duration": 14.19673,
     "end_time": "2023-01-31T12:04:41.380439",
     "exception": false,
     "start_time": "2023-01-31T12:04:27.183709",
     "status": "completed"
    },
    "tags": []
   },
   "outputs": [
    {
     "name": "stdout",
     "output_type": "stream",
     "text": [
      "Berikut Adalah 10 Rekomendasi Untuk Artikel 'Pembangunan Sistem Informasi Manajemen Keluhan Pelanggan Berbasis WebGis'\n"
     ]
    },
    {
     "data": {
      "text/html": [
       "<div>\n",
       "<style scoped>\n",
       "    .dataframe tbody tr th:only-of-type {\n",
       "        vertical-align: middle;\n",
       "    }\n",
       "\n",
       "    .dataframe tbody tr th {\n",
       "        vertical-align: top;\n",
       "    }\n",
       "\n",
       "    .dataframe thead th {\n",
       "        text-align: right;\n",
       "    }\n",
       "</style>\n",
       "<table border=\"1\" class=\"dataframe\">\n",
       "  <thead>\n",
       "    <tr style=\"text-align: right;\">\n",
       "      <th></th>\n",
       "      <th>recommendation</th>\n",
       "      <th>link</th>\n",
       "      <th>score_title</th>\n",
       "      <th>score_abstract</th>\n",
       "      <th>final_score</th>\n",
       "    </tr>\n",
       "  </thead>\n",
       "  <tbody>\n",
       "    <tr>\n",
       "      <th>1</th>\n",
       "      <td>Pengembangan Sistem Informasi E-Complaint (St...</td>\n",
       "      <td>https://j-ptiik.ub.ac.id/index.php/j-ptiik/art...</td>\n",
       "      <td>0.500000</td>\n",
       "      <td>0.803829</td>\n",
       "      <td>1.303829</td>\n",
       "    </tr>\n",
       "    <tr>\n",
       "      <th>36</th>\n",
       "      <td>Pengembangan Dashboard Laporan Penjualan dan ...</td>\n",
       "      <td>https://j-ptiik.ub.ac.id/index.php/j-ptiik/art...</td>\n",
       "      <td>0.279245</td>\n",
       "      <td>0.734333</td>\n",
       "      <td>1.013578</td>\n",
       "    </tr>\n",
       "    <tr>\n",
       "      <th>11</th>\n",
       "      <td>Analisis dan Perancangan Sistem Manajemen Pro...</td>\n",
       "      <td>https://j-ptiik.ub.ac.id/index.php/j-ptiik/art...</td>\n",
       "      <td>0.202903</td>\n",
       "      <td>0.781329</td>\n",
       "      <td>0.984233</td>\n",
       "    </tr>\n",
       "    <tr>\n",
       "      <th>25</th>\n",
       "      <td>Pengembangan Sistem Pelayanan Pengaduan Pelan...</td>\n",
       "      <td>https://j-ptiik.ub.ac.id/index.php/j-ptiik/art...</td>\n",
       "      <td>0.303372</td>\n",
       "      <td>0.677139</td>\n",
       "      <td>0.980511</td>\n",
       "    </tr>\n",
       "    <tr>\n",
       "      <th>10</th>\n",
       "      <td>Pengembangan Sistem Informasi Marketing Autom...</td>\n",
       "      <td>https://j-ptiik.ub.ac.id/index.php/j-ptiik/art...</td>\n",
       "      <td>0.230754</td>\n",
       "      <td>0.739571</td>\n",
       "      <td>0.970325</td>\n",
       "    </tr>\n",
       "    <tr>\n",
       "      <th>26</th>\n",
       "      <td>Pengembangan Sistem Monitoring Penggunaan Air...</td>\n",
       "      <td>https://j-ptiik.ub.ac.id/index.php/j-ptiik/art...</td>\n",
       "      <td>0.208556</td>\n",
       "      <td>0.759070</td>\n",
       "      <td>0.967626</td>\n",
       "    </tr>\n",
       "    <tr>\n",
       "      <th>22</th>\n",
       "      <td>Pengembangan Sistem Informasi Pelanggan Binat...</td>\n",
       "      <td>https://j-ptiik.ub.ac.id/index.php/j-ptiik/art...</td>\n",
       "      <td>0.235275</td>\n",
       "      <td>0.724554</td>\n",
       "      <td>0.959829</td>\n",
       "    </tr>\n",
       "    <tr>\n",
       "      <th>27</th>\n",
       "      <td>Pengembangan Sistem Survei Pelanggan berbasis...</td>\n",
       "      <td>https://j-ptiik.ub.ac.id/index.php/j-ptiik/art...</td>\n",
       "      <td>0.281303</td>\n",
       "      <td>0.673912</td>\n",
       "      <td>0.955214</td>\n",
       "    </tr>\n",
       "    <tr>\n",
       "      <th>4</th>\n",
       "      <td>Pengembangan Sistem Informasi Manajemen Rewar...</td>\n",
       "      <td>https://j-ptiik.ub.ac.id/index.php/j-ptiik/art...</td>\n",
       "      <td>0.147033</td>\n",
       "      <td>0.790537</td>\n",
       "      <td>0.937569</td>\n",
       "    </tr>\n",
       "    <tr>\n",
       "      <th>15</th>\n",
       "      <td>Analisis Kualitas Layanan Website Althea Indo...</td>\n",
       "      <td>https://j-ptiik.ub.ac.id/index.php/j-ptiik/art...</td>\n",
       "      <td>0.201179</td>\n",
       "      <td>0.733828</td>\n",
       "      <td>0.935007</td>\n",
       "    </tr>\n",
       "  </tbody>\n",
       "</table>\n",
       "</div>"
      ],
      "text/plain": [
       "                                       recommendation  \\\n",
       "1    Pengembangan Sistem Informasi E-Complaint (St...   \n",
       "36   Pengembangan Dashboard Laporan Penjualan dan ...   \n",
       "11   Analisis dan Perancangan Sistem Manajemen Pro...   \n",
       "25   Pengembangan Sistem Pelayanan Pengaduan Pelan...   \n",
       "10   Pengembangan Sistem Informasi Marketing Autom...   \n",
       "26   Pengembangan Sistem Monitoring Penggunaan Air...   \n",
       "22   Pengembangan Sistem Informasi Pelanggan Binat...   \n",
       "27   Pengembangan Sistem Survei Pelanggan berbasis...   \n",
       "4    Pengembangan Sistem Informasi Manajemen Rewar...   \n",
       "15   Analisis Kualitas Layanan Website Althea Indo...   \n",
       "\n",
       "                                                 link  score_title  \\\n",
       "1   https://j-ptiik.ub.ac.id/index.php/j-ptiik/art...     0.500000   \n",
       "36  https://j-ptiik.ub.ac.id/index.php/j-ptiik/art...     0.279245   \n",
       "11  https://j-ptiik.ub.ac.id/index.php/j-ptiik/art...     0.202903   \n",
       "25  https://j-ptiik.ub.ac.id/index.php/j-ptiik/art...     0.303372   \n",
       "10  https://j-ptiik.ub.ac.id/index.php/j-ptiik/art...     0.230754   \n",
       "26  https://j-ptiik.ub.ac.id/index.php/j-ptiik/art...     0.208556   \n",
       "22  https://j-ptiik.ub.ac.id/index.php/j-ptiik/art...     0.235275   \n",
       "27  https://j-ptiik.ub.ac.id/index.php/j-ptiik/art...     0.281303   \n",
       "4   https://j-ptiik.ub.ac.id/index.php/j-ptiik/art...     0.147033   \n",
       "15  https://j-ptiik.ub.ac.id/index.php/j-ptiik/art...     0.201179   \n",
       "\n",
       "    score_abstract  final_score  \n",
       "1         0.803829     1.303829  \n",
       "36        0.734333     1.013578  \n",
       "11        0.781329     0.984233  \n",
       "25        0.677139     0.980511  \n",
       "10        0.739571     0.970325  \n",
       "26        0.759070     0.967626  \n",
       "22        0.724554     0.959829  \n",
       "27        0.673912     0.955214  \n",
       "4         0.790537     0.937569  \n",
       "15        0.733828     0.935007  "
      ]
     },
     "execution_count": 48,
     "metadata": {},
     "output_type": "execute_result"
    }
   ],
   "source": [
    "recommendation('Pembangunan Sistem Informasi Manajemen Keluhan Pelanggan Berbasis WebGis')"
   ]
  },
  {
   "cell_type": "code",
   "execution_count": 49,
   "id": "c078eb84",
   "metadata": {
    "execution": {
     "iopub.execute_input": "2023-01-31T12:05:08.480345Z",
     "iopub.status.busy": "2023-01-31T12:05:08.479870Z",
     "iopub.status.idle": "2023-01-31T12:05:09.267143Z",
     "shell.execute_reply": "2023-01-31T12:05:09.265581Z"
    },
    "papermill": {
     "duration": 14.432768,
     "end_time": "2023-01-31T12:05:09.271017",
     "exception": false,
     "start_time": "2023-01-31T12:04:54.838249",
     "status": "completed"
    },
    "tags": []
   },
   "outputs": [
    {
     "name": "stdout",
     "output_type": "stream",
     "text": [
      "Berikut Adalah 10 Rekomendasi Untuk Artikel 'Peramalan Jumlah Kunjungan Wisatawan Kota Batu Menggunakan Metode Time Invariant Fuzzy Time Series'\n"
     ]
    },
    {
     "data": {
      "text/html": [
       "<div>\n",
       "<style scoped>\n",
       "    .dataframe tbody tr th:only-of-type {\n",
       "        vertical-align: middle;\n",
       "    }\n",
       "\n",
       "    .dataframe tbody tr th {\n",
       "        vertical-align: top;\n",
       "    }\n",
       "\n",
       "    .dataframe thead th {\n",
       "        text-align: right;\n",
       "    }\n",
       "</style>\n",
       "<table border=\"1\" class=\"dataframe\">\n",
       "  <thead>\n",
       "    <tr style=\"text-align: right;\">\n",
       "      <th></th>\n",
       "      <th>recommendation</th>\n",
       "      <th>link</th>\n",
       "      <th>score_title</th>\n",
       "      <th>score_abstract</th>\n",
       "      <th>final_score</th>\n",
       "    </tr>\n",
       "  </thead>\n",
       "  <tbody>\n",
       "    <tr>\n",
       "      <th>62</th>\n",
       "      <td>Implementasi Metode Time Invariant Fuzzy Time...</td>\n",
       "      <td>https://j-ptiik.ub.ac.id/index.php/j-ptiik/art...</td>\n",
       "      <td>0.422242</td>\n",
       "      <td>0.807812</td>\n",
       "      <td>1.230054</td>\n",
       "    </tr>\n",
       "    <tr>\n",
       "      <th>101</th>\n",
       "      <td>Prediksi Pertumbuhan Jumlah Penduduk Kota Mal...</td>\n",
       "      <td>https://j-ptiik.ub.ac.id/index.php/j-ptiik/art...</td>\n",
       "      <td>0.403341</td>\n",
       "      <td>0.800531</td>\n",
       "      <td>1.203872</td>\n",
       "    </tr>\n",
       "    <tr>\n",
       "      <th>29</th>\n",
       "      <td>Prediksi Jumlah Kendaraan Bermotor Di Indones...</td>\n",
       "      <td>https://j-ptiik.ub.ac.id/index.php/j-ptiik/art...</td>\n",
       "      <td>0.333533</td>\n",
       "      <td>0.838032</td>\n",
       "      <td>1.171565</td>\n",
       "    </tr>\n",
       "    <tr>\n",
       "      <th>14</th>\n",
       "      <td>Penerapan Metode Average-Based Fuzzy Time Ser...</td>\n",
       "      <td>https://j-ptiik.ub.ac.id/index.php/j-ptiik/art...</td>\n",
       "      <td>0.355065</td>\n",
       "      <td>0.816200</td>\n",
       "      <td>1.171265</td>\n",
       "    </tr>\n",
       "    <tr>\n",
       "      <th>105</th>\n",
       "      <td>Prediksi Persentase Penyelesaian Permohonan H...</td>\n",
       "      <td>https://j-ptiik.ub.ac.id/index.php/j-ptiik/art...</td>\n",
       "      <td>0.364230</td>\n",
       "      <td>0.803521</td>\n",
       "      <td>1.167750</td>\n",
       "    </tr>\n",
       "    <tr>\n",
       "      <th>4</th>\n",
       "      <td>Peramalan Permintaan Daging Sapi Nasional Men...</td>\n",
       "      <td>https://j-ptiik.ub.ac.id/index.php/j-ptiik/art...</td>\n",
       "      <td>0.325189</td>\n",
       "      <td>0.829332</td>\n",
       "      <td>1.154521</td>\n",
       "    </tr>\n",
       "    <tr>\n",
       "      <th>98</th>\n",
       "      <td>Prediksi Harga Emas Dengan Menggunakan Metode...</td>\n",
       "      <td>https://j-ptiik.ub.ac.id/index.php/j-ptiik/art...</td>\n",
       "      <td>0.351662</td>\n",
       "      <td>0.793227</td>\n",
       "      <td>1.144889</td>\n",
       "    </tr>\n",
       "    <tr>\n",
       "      <th>92</th>\n",
       "      <td>Peramalan Hasil Panen Kelapa Sawit Menggunaka...</td>\n",
       "      <td>https://j-ptiik.ub.ac.id/index.php/j-ptiik/art...</td>\n",
       "      <td>0.369034</td>\n",
       "      <td>0.761537</td>\n",
       "      <td>1.130570</td>\n",
       "    </tr>\n",
       "    <tr>\n",
       "      <th>122</th>\n",
       "      <td>Perbandingan Metode Fuzzy Time Series Average...</td>\n",
       "      <td>https://j-ptiik.ub.ac.id/index.php/j-ptiik/art...</td>\n",
       "      <td>0.334644</td>\n",
       "      <td>0.785145</td>\n",
       "      <td>1.119790</td>\n",
       "    </tr>\n",
       "    <tr>\n",
       "      <th>11</th>\n",
       "      <td>Implementasi Metode Gabungan Multi-Factors Hi...</td>\n",
       "      <td>https://j-ptiik.ub.ac.id/index.php/j-ptiik/art...</td>\n",
       "      <td>0.337664</td>\n",
       "      <td>0.766107</td>\n",
       "      <td>1.103771</td>\n",
       "    </tr>\n",
       "  </tbody>\n",
       "</table>\n",
       "</div>"
      ],
      "text/plain": [
       "                                        recommendation  \\\n",
       "62    Implementasi Metode Time Invariant Fuzzy Time...   \n",
       "101   Prediksi Pertumbuhan Jumlah Penduduk Kota Mal...   \n",
       "29    Prediksi Jumlah Kendaraan Bermotor Di Indones...   \n",
       "14    Penerapan Metode Average-Based Fuzzy Time Ser...   \n",
       "105   Prediksi Persentase Penyelesaian Permohonan H...   \n",
       "4     Peramalan Permintaan Daging Sapi Nasional Men...   \n",
       "98    Prediksi Harga Emas Dengan Menggunakan Metode...   \n",
       "92    Peramalan Hasil Panen Kelapa Sawit Menggunaka...   \n",
       "122   Perbandingan Metode Fuzzy Time Series Average...   \n",
       "11    Implementasi Metode Gabungan Multi-Factors Hi...   \n",
       "\n",
       "                                                  link  score_title  \\\n",
       "62   https://j-ptiik.ub.ac.id/index.php/j-ptiik/art...     0.422242   \n",
       "101  https://j-ptiik.ub.ac.id/index.php/j-ptiik/art...     0.403341   \n",
       "29   https://j-ptiik.ub.ac.id/index.php/j-ptiik/art...     0.333533   \n",
       "14   https://j-ptiik.ub.ac.id/index.php/j-ptiik/art...     0.355065   \n",
       "105  https://j-ptiik.ub.ac.id/index.php/j-ptiik/art...     0.364230   \n",
       "4    https://j-ptiik.ub.ac.id/index.php/j-ptiik/art...     0.325189   \n",
       "98   https://j-ptiik.ub.ac.id/index.php/j-ptiik/art...     0.351662   \n",
       "92   https://j-ptiik.ub.ac.id/index.php/j-ptiik/art...     0.369034   \n",
       "122  https://j-ptiik.ub.ac.id/index.php/j-ptiik/art...     0.334644   \n",
       "11   https://j-ptiik.ub.ac.id/index.php/j-ptiik/art...     0.337664   \n",
       "\n",
       "     score_abstract  final_score  \n",
       "62         0.807812     1.230054  \n",
       "101        0.800531     1.203872  \n",
       "29         0.838032     1.171565  \n",
       "14         0.816200     1.171265  \n",
       "105        0.803521     1.167750  \n",
       "4          0.829332     1.154521  \n",
       "98         0.793227     1.144889  \n",
       "92         0.761537     1.130570  \n",
       "122        0.785145     1.119790  \n",
       "11         0.766107     1.103771  "
      ]
     },
     "execution_count": 49,
     "metadata": {},
     "output_type": "execute_result"
    }
   ],
   "source": [
    "recommendation('Peramalan Jumlah Kunjungan Wisatawan Kota Batu Menggunakan Metode Time Invariant Fuzzy Time Series')"
   ]
  },
  {
   "cell_type": "markdown",
   "id": "2aff6966",
   "metadata": {
    "id": "8xtplq2IqEVg",
    "papermill": {
     "duration": 13.536361,
     "end_time": "2023-01-31T12:05:36.385297",
     "exception": false,
     "start_time": "2023-01-31T12:05:22.848936",
     "status": "completed"
    },
    "tags": []
   },
   "source": [
    "# 7. Deployment"
   ]
  },
  {
   "cell_type": "markdown",
   "id": "8c933324",
   "metadata": {
    "papermill": {
     "duration": 13.829018,
     "end_time": "2023-01-31T12:06:03.555886",
     "exception": false,
     "start_time": "2023-01-31T12:05:49.726868",
     "status": "completed"
    },
    "tags": []
   },
   "source": [
    "Model ini di-deploy dengan menggunakan Flask, yaitu sebuah framework micro web Python yang berfungsi untuk membantu developer untuk membuat aplikasi web dengan mudah. Hasil dari deploy ini diberi nama sebagai JTIIKRecommender.\n",
    "* Link Repository : https://github.com/amiragn/JTIIKRecommender\n",
    "* Link Demo : https://youtu.be/pCnVifRxqZU"
   ]
  },
  {
   "cell_type": "markdown",
   "id": "e502e336",
   "metadata": {
    "id": "XMB3pYVVWEoJ",
    "papermill": {
     "duration": 13.461192,
     "end_time": "2023-01-31T12:06:30.790552",
     "exception": false,
     "start_time": "2023-01-31T12:06:17.329360",
     "status": "completed"
    },
    "tags": []
   },
   "source": [
    "# 8. Result & Conclusion\n",
    "* Dataset tidak memiliki missing values\n",
    "* Kata yang paling banyak ditemukan dalam judul artikel adalah 'dan' apabila mengandung stop words dan 'metode' apabila tidak mengandung stop words\n",
    "* Artikel paling banyak diterbitkan pada 2017-08-30, yaitu 30 Agustus 2017\n",
    "* Kata yang paling banyak ditemukan dalam abstrak adalah 'yang' apabila mengandung stop words dan 'hasil' apabila tidak mengandung stop words\n",
    "* Penulis yang paling banyak menulis artikel adalah Retno Indah Rokhmawati\n",
    "* Institusi yang paling banyak menghasilkan artikel adalah Fakultas Ilmu Komputer, Universitas Brawijaya\n",
    "* Nilai k optimal untuk clustering adalah 18 didapatkan melalui dua metode, yaitu elbow method dan silhoutte score. Setelah artikel dikelompokkan menjadi 18 cluster, cluster 3 adalah cluster dengan artikel terbanyak. Cluster 3 berisi seputar aplikasi, metode, perangkat, dan lain sebagainya\n",
    "* Penggunaan metode K-Nearest Neighbor dan Cosine Similarity tidak cocok dengan data yang ada karena kurangnya kolom yang mengandung angka walaupun sudah dilakukan clustering, tetapi data ini pada awalnya merupakan unsupervised learning\n",
    "* Penggunaan metode Content Based untuk recommender system lebih cocok dan lebih akurat diterapkan pada data ini "
   ]
  }
 ],
 "metadata": {
  "kernelspec": {
   "display_name": "Python 3",
   "language": "python",
   "name": "python3"
  },
  "language_info": {
   "codemirror_mode": {
    "name": "ipython",
    "version": 3
   },
   "file_extension": ".py",
   "mimetype": "text/x-python",
   "name": "python",
   "nbconvert_exporter": "python",
   "pygments_lexer": "ipython3",
   "version": "3.7.12"
  },
  "papermill": {
   "default_parameters": {},
   "duration": 799.193876,
   "end_time": "2023-01-31T12:06:46.285526",
   "environment_variables": {},
   "exception": null,
   "input_path": "__notebook__.ipynb",
   "output_path": "__notebook__.ipynb",
   "parameters": {},
   "start_time": "2023-01-31T11:53:27.091650",
   "version": "2.3.4"
  }
 },
 "nbformat": 4,
 "nbformat_minor": 5
}
